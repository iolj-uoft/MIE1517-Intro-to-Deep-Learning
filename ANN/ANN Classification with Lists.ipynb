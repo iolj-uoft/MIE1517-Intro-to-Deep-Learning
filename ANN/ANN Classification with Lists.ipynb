{
 "cells": [
  {
   "cell_type": "markdown",
   "metadata": {
    "id": "gBHZTy20dRs_"
   },
   "source": [
    "## Example 1: ANN Forward Pass"
   ]
  },
  {
   "cell_type": "code",
   "execution_count": 1,
   "metadata": {
    "id": "ZjNk5yQncGQH"
   },
   "outputs": [],
   "source": [
    "import math\n",
    "import numpy as np\n",
    "\n",
    "# data (first column is the bias term, column 2 and 3 are x1 and x2)\n",
    "x = [[1, 0.1,-0.2], \n",
    "     [1,-0.1, 0.9], \n",
    "     [1, 1.2, 0.1], \n",
    "     [1, 1.1, 1.5]]\n",
    "\n",
    "# labels (desired output)\n",
    "t = [0, 0, 0, 1]\n",
    "\n",
    "# initial weights\n",
    "w = [-6.714065405238172, 2.6821640865189815, 4.525289511723171]\n",
    "\n",
    "def simple_ann(x, w, t):\n",
    "    y = []\n",
    "    # for n in range(len(x)):\n",
    "    #   v = 0\n",
    "    #   for p in range(len(x[0])):\n",
    "    #       v = v + x[n][p]*w[p]\n",
    "    #   y.append(1 / (1 + math.e**(-v))) #sigmoidal activation\n",
    "    \n",
    "    # return y\n",
    "  \n",
    "    # vectorized version\n",
    "    v = np.dot(x, w)\n",
    "    y = 1 / (1 + math.e**(-v))  #sigmoidal activation\n",
    "    return y"
   ]
  },
  {
   "cell_type": "code",
   "execution_count": 2,
   "metadata": {
    "colab": {
     "base_uri": "https://localhost:8080/",
     "height": 34
    },
    "id": "7oxes6QxcGQJ",
    "outputId": "7f4dafd3-4a68-4c1c-8013-3dcf640fcc21"
   },
   "outputs": [
    {
     "name": "stdout",
     "output_type": "stream",
     "text": [
      "[6.41597946e-04 5.16848955e-02 4.55232739e-02 9.53657687e-01]\n"
     ]
    }
   ],
   "source": [
    "y = simple_ann(x, w, t)\n",
    "print(y)"
   ]
  },
  {
   "cell_type": "markdown",
   "metadata": {
    "id": "XeP_I3KRcGQG"
   },
   "source": [
    "## Example 2: ANN Forward Pass with MSE Error Term"
   ]
  },
  {
   "cell_type": "code",
   "execution_count": null,
   "metadata": {
    "id": "7jq8YYhmcFWc"
   },
   "outputs": [],
   "source": [
    "import math\n",
    "\n",
    "# data (first column is the bias term)\n",
    "x = [[1, 0.1,-0.2], \n",
    "     [1,-0.1, 0.9], \n",
    "     [1, 1.2, 0.1], \n",
    "     [1, 1.1, 1.5]]\n",
    "\n",
    "# labels (desired output)\n",
    "t = [0, 0, 0, 1]\n",
    "\n",
    "# initial weights\n",
    "w = [0.9, 0, 0.1]\n",
    "\n",
    "def simple_ann(x, w, t):\n",
    "    E = []\n",
    "    err = [] \n",
    "    y = []\n",
    "    for n in range(len(x)):\n",
    "        v = 0\n",
    "        for p in range(len(x[0])):\n",
    "            v = v + x[n][p]*w[p]\n",
    "        y.append(1 / (1 + math.e**(-v))) #sigmoidal activation\n",
    "            \n",
    "        err.append((y[n]-t[n])**2) # MSE error\n",
    "    E.append(sum(err)/len(x))\n",
    "    \n",
    "    return (y, w, E)"
   ]
  },
  {
   "cell_type": "code",
   "execution_count": null,
   "metadata": {
    "colab": {
     "base_uri": "https://localhost:8080/",
     "height": 51
    },
    "id": "JDtbgWzscFWf",
    "outputId": "691432cc-b27a-4086-807d-1a336d950ca5"
   },
   "outputs": [
    {
     "name": "stdout",
     "output_type": "stream",
     "text": [
      "[0.7068222210935676, 0.7290879223493065, 0.7130001627522816, 0.7407748991821539]\n",
      "[0.8033668678630377]\n"
     ]
    }
   ],
   "source": [
    "(y, w, E) = simple_ann(x, w, t)\n",
    "print(y)\n",
    "print(E)"
   ]
  },
  {
   "cell_type": "markdown",
   "metadata": {
    "id": "5vk1HIgTbbKt"
   },
   "source": [
    "## Example 3: Gradient Descent with MSE"
   ]
  },
  {
   "cell_type": "code",
   "execution_count": 23,
   "metadata": {
    "id": "8tmvmSv7bSvm"
   },
   "outputs": [
    {
     "name": "stdout",
     "output_type": "stream",
     "text": [
      "3\n"
     ]
    }
   ],
   "source": [
    "import math\n",
    "\n",
    "# data (first column is the bias term)\n",
    "x = [[1, 0.1,-0.2], # [bias, x, y]\n",
    "     [1,-0.1, 0.9], \n",
    "     [1, 1.2, 0.1], \n",
    "     [1, 1.1, 1.5]]\n",
    "\n",
    "print(len(x[0]))\n",
    "# labels (desired output)\n",
    "t = [1, 0, 0, 1] # 1 means x and 0 means o\n",
    "\n",
    "# initial weights\n",
    "w = [1, -1, 1]\n",
    "\n",
    "iterations = 50\n",
    "learning = 10\n",
    "\n",
    "def simple_ann(x, w, t, iterations, learning):\n",
    "    E = []  # list to store error values for each iteration\n",
    "    for ii in range(iterations):\n",
    "        err = []  # list to store error for each data point\n",
    "        y = []  # list to store output for each data point\n",
    "        for n in range(len(x)): # 4\n",
    "            v = 0  # initialize the weighted sum\n",
    "            for p in range(len(x[0])): # 3\n",
    "                v = v + x[n][p] * w[p]  # calculate the weighted sum\n",
    "            y.append(1 / (1 + math.e**(-v)))  # apply sigmoidal activation function\n",
    "            \n",
    "            err.append((y[n] - t[n])**2)  # calculate mean squared error\n",
    "            \n",
    "            # gradient descent to compute new weights\n",
    "            for p in range(len(w)):\n",
    "                d = x[n][p] * (y[n] - t[n]) * (1 - y[n]) * y[n]  # calculate gradient\n",
    "                w[p] = w[p] - learning * d  # update weight\n",
    "   \n",
    "        E.append(2 * sum(err) / len(x))  # calculate and store the average error for this iteration\n",
    "    \n",
    "    return (y, w, E)\n"
   ]
  },
  {
   "cell_type": "code",
   "execution_count": 21,
   "metadata": {
    "colab": {
     "base_uri": "https://localhost:8080/",
     "height": 68
    },
    "id": "TncfaRORb5tN",
    "outputId": "14e0f53c-020b-4bec-addb-471673c210ae"
   },
   "outputs": [
    {
     "name": "stdout",
     "output_type": "stream",
     "text": [
      "y: [0.9340494820353649, 0.9996693934316282, 0.06483422947237477, 0.9564936729293169]\n",
      "w: [4.011584294576571, -5.9254731843279025, 3.7850334336858973]\n",
      "E: 0.5048923223951104\n"
     ]
    }
   ],
   "source": [
    "(y, w, E) = simple_ann(x, w, t, iterations, learning)\n",
    "print(\"y:\", y)\n",
    "print(\"w:\", w)\n",
    "print(\"E:\", E[-1])"
   ]
  },
  {
   "cell_type": "markdown",
   "metadata": {
    "id": "Sv7VdSNxcFWT"
   },
   "source": [
    "## Example 4: Gradient Descent with Cross-Entropy"
   ]
  },
  {
   "cell_type": "code",
   "execution_count": 14,
   "metadata": {
    "id": "ytnwNDitduho"
   },
   "outputs": [],
   "source": [
    "import math\n",
    "\n",
    "# data (first column is the bias term)\n",
    "x = [[1, 0.1,-0.2], \n",
    "     [1,-0.1, 0.9], \n",
    "     [1, 1.2, 0.1], \n",
    "     [1, 1.1, 1.5]]\n",
    "\n",
    "# labels (desired output)\n",
    "t = [0, 1, 0, 1]\n",
    "\n",
    "# initial weights\n",
    "w = [1, -1, 1]\n",
    "\n",
    "iterations = 500\n",
    "learning = 10\n",
    "\n",
    "def simple_ann(x, w, t, iterations, learning):\n",
    "\n",
    "    E = [] #error\n",
    "    for ii in range(iterations):\n",
    "        err = [] \n",
    "        y = []\n",
    "        for n in range(len(x)):\n",
    "            v = 0\n",
    "            for p in range(len(x[0])):\n",
    "                v = v + x[n][p]*w[p]\n",
    "            y.append(1 / (1 + math.e**(-v))) #sigmoidal activation\n",
    "            \n",
    "            #cross-entropy\n",
    "            err.append(-t[n]*math.log(y[n]) - (1-t[n])*math.log(1-y[n]))\n",
    "            \n",
    "            #gradient descent to compute new weights\n",
    "            for p in range(len(w)):\n",
    "                d = x[n][p]*(y[n]-t[n]) #cross_entropy\n",
    "                w[p] = w[p] - learning*d\n",
    "   \n",
    "        E.append(sum(err))\n",
    "    \n",
    "    return (y, w, E)"
   ]
  },
  {
   "cell_type": "code",
   "execution_count": 15,
   "metadata": {
    "colab": {
     "base_uri": "https://localhost:8080/",
     "height": 35
    },
    "id": "MnsiF6FDdvM7",
    "outputId": "5d260d7a-8add-4414-93ec-64f806635e71"
   },
   "outputs": [
    {
     "name": "stdout",
     "output_type": "stream",
     "text": [
      "[4.686776027634937e-05, 0.999999996931759, 1.593222011939861e-05, 0.9999999999903504]\n"
     ]
    }
   ],
   "source": [
    "(y, w, E) = simple_ann(x, w, t, iterations, learning)\n",
    "print(y)\n"
   ]
  }
 ],
 "metadata": {
  "colab": {
   "collapsed_sections": [
    "Sv7VdSNxcFWT"
   ],
   "name": "ANN_Classification.ipynb",
   "provenance": []
  },
  "kernelspec": {
   "display_name": "MIE1517",
   "language": "python",
   "name": "python3"
  },
  "language_info": {
   "codemirror_mode": {
    "name": "ipython",
    "version": 3
   },
   "file_extension": ".py",
   "mimetype": "text/x-python",
   "name": "python",
   "nbconvert_exporter": "python",
   "pygments_lexer": "ipython3",
   "version": "3.9.18"
  }
 },
 "nbformat": 4,
 "nbformat_minor": 1
}
