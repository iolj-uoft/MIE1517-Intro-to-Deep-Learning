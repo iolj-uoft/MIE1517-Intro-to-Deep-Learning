{
 "cells": [
  {
   "cell_type": "markdown",
   "metadata": {
    "id": "_bphECiUa9zw"
   },
   "source": [
    "# Assignment 4: Movie Review Analysis [50 Pt]\n",
    "\n",
    "In this assignment, we will build a recurrent neural network to work with sequential text data, specificially, movie review data to identify the reviewer sentiment. In the process of completing this assignment, you will:\n",
    "    \n",
    "1. Clean and process text data for machine learning.\n",
    "2. Perform tokenization of text data.\n",
    "3. Understand and implement a word-level recurrent neural network.\n",
    "4. Implement batching of text data using a DataLoader before training a recurrent neural network.\n",
    "5. Understand how to apply pretrained models for transfer learning in natural language processing projects.\n",
    "\n",
    "### What to submit\n",
    "\n",
    "Submit an HTML file containing all your code, outputs, and write-up\n",
    "from parts A and B. You can produce a HTML file directly from Google Colab. The Colab instructions are provided at the end of this document.\n",
    "\n",
    "Include a link to your colab file in your submission.\n",
    "\n",
    "Please use Google Colab to complete this assignment. If you want to use Jupyter Notebook, please complete the assignment and upload your Jupyter Notebook file to Google Colab for submission.\n",
    "\n",
    "This year we will be using an autograding script to check your model performance on a hidden test set. To do this, we need you to provide your model definition and your model weights along with your assignment submission.\n",
    "\n",
    "Instructions on the additional files you need to submit are provided below. Please make sure to test your submitted files before submitting them, failure in loading these files may result in a grade of 0 in the results section of the assignment."
   ]
  },
  {
   "cell_type": "markdown",
   "metadata": {
    "id": "5s7OtrB7hhhE"
   },
   "source": [
    "# 📑 **Autograding**\n",
    "\n",
    "This assignment uses an autograding script to **evaluate your model performance on a hidden test set**. You must provide your model definition and model weights along with your assignment submission to ensure compatibility with the autograding system.\n",
    "\n",
    "---\n",
    "\n",
    "## 📁 **Required Files for Submission**\n",
    "\n",
    "You need to submit the following **four files** in addition to the **HTML file** as previously instructed. Make sure to replace `your_name_connected_by_underscore` and `your_student_id` with your actual name and student ID, respectively:\n",
    "\n",
    "1. **RNN Model Definition:** `A4-RNN-your_name_connected_by_underscore-your_student_id.py`\n",
    "2. **RNN Model Weights:** `A4-RNN-your_name_connected_by_underscore-your_student_id.pth`\n",
    "3. **BERT Model Definition:** `A4-BERT-your_name_connected_by_underscore-your_student_id.py`\n",
    "4. **BERT Model Weights:** `A4-BERT-your_name_connected_by_underscore-your_student_id.pth`\n",
    "\n",
    "---\n",
    "\n",
    "## 🧑‍💻 **Model Definition Files (`.py`)**\n",
    "\n",
    "### 📝 **Steps to Complete:**\n",
    "\n",
    "1. **Copy Model Definition Code:** Copy the complete model definition code from your `A4.ipynb` notebook into the provided template files (`.py`).\n",
    "2. **Complete the TODOs:** Make sure all TODOs in the files are properly completed:\n",
    "   - Define your model class (`SentimentRNN` or `SentimentClassifier`).\n",
    "   - Implement the `prepare_model()` function with the exact hyperparameters used during training.\n",
    "   - Ensure preprocessing steps match those in your notebook.\n",
    "   - Set the `EMBEDDINGS_TYPE` parameter appropriately (`'pooled'` or `'last_hidden_state'` for BERT).\n",
    "3. **Command-Line Usability:** Ensure the script accepts a file path as an argument and runs from the command line as described in the file headers.\n",
    "\n",
    "---\n",
    "\n",
    "### 💻 **Example Command-Line Usage**\n",
    "\n",
    "```bash\n",
    "python A4-RNN-your_name_connected_by_underscore-your_student_id.py /path/to/test_dataset.csv\n",
    "```\n",
    "---\n",
    "\n",
    "\n",
    "## 💾 **Model Weights Files (`.pth`)**\n",
    "\n",
    "1. **Save Model Weights:** During training, save your model's best-performing weights using the `torch.save()` method.\n",
    "2. **Naming Convention:** Ensure the `.pth` file names match the `.py` file names exactly, except for the file extension.\n",
    "3. **Example Code for Saving Weights:**\n",
    "\n",
    "```python\n",
    "torch.save(model.state_dict(), 'A4-RNN-your_name_connected_by_underscore-your_student_id.pth')\n",
    "```\n",
    "---\n",
    "\n",
    "## ✅ **Testing Your Submission: Autograder Compatibility**\n",
    "\n",
    "You will be provided with an **\"Example Test IMDB Dataset.csv\"** that you can use to test your autograding file compatibility. Please follow the example command line usage to provide the test data to test the script for each of the two `.py` scripts you are submitting.\n",
    "\n",
    "### 🚦 **Autograder Sentinel Lines**\n",
    "\n",
    "Make sure your scripts output predictions between the sentinel lines **exactly** as shown below:\n",
    "\n",
    "```text\n",
    "===start_output===\n",
    "0\n",
    "1\n",
    "0\n",
    "1\n",
    "...\n",
    "===end_output===\n",
    "```"
   ]
  },
  {
   "cell_type": "markdown",
   "metadata": {
    "id": "rWiUqJJTa9z6"
   },
   "source": [
    "## Colab Link\n",
    "\n",
    "Include a link to your Colab file here. If you would like the TA to look at your Colab file in case your solutions are cut off, **please make sure that your Colab file is publicly accessible at the time of submission.**"
   ]
  },
  {
   "cell_type": "code",
   "execution_count": null,
   "metadata": {
    "id": "rk7aDAaR2_wz"
   },
   "outputs": [],
   "source": [
    "# TO BE COMPLETED\n",
    "# https://drive.google.com/file/d/1hv-HfHQiRRnfWJruoWrECqv8odhRQdr7/view?usp=sharing"
   ]
  },
  {
   "cell_type": "markdown",
   "metadata": {
    "id": "fFMdtipUPNdu"
   },
   "source": [
    "# PART A - Sentiment Analysis\n",
    "\n",
    "In this part we will construct a world-level LSTM model for identifying positive and negative reviews. This will be done in a similar way to what was shared in the preparation code for Assignment 4."
   ]
  },
  {
   "cell_type": "code",
   "execution_count": null,
   "metadata": {
    "id": "HgfNOUaPa9z8"
   },
   "outputs": [],
   "source": [
    "# load standard modules/libraries\n",
    "import pandas as pd\n",
    "import numpy as np\n",
    "import matplotlib.pyplot as plt\n",
    "import seaborn as sns\n",
    "from sklearn.model_selection import train_test_split\n",
    "\n",
    "# load special modules/libraries\n",
    "import os\n",
    "import warnings\n",
    "import nltk\n",
    "from nltk.corpus import stopwords\n",
    "nltk.download('stopwords')\n",
    "\n",
    "from collections import Counter\n",
    "import string\n",
    "import re\n",
    "from tqdm  import tqdm\n",
    "\n",
    "# load pytorch modules/libraries\n",
    "import torch\n",
    "import torch.nn as nn\n",
    "import torch.nn.functional as F\n",
    "import torch.optim as optim\n",
    "from torch.utils.data import TensorDataset,DataLoader\n"
   ]
  },
  {
   "cell_type": "markdown",
   "metadata": {
    "id": "M0jLI9LBa90C"
   },
   "source": [
    "## Part 1. Data Cleaning [5 pt]\n",
    "\n",
    "We will be using the \"IMDB Movie Review Dataset\" provided on the course website. Download \"IMDB Dataset.csv\" into your Colab workspace."
   ]
  },
  {
   "cell_type": "markdown",
   "metadata": {
    "id": "sSuF7C_Ga90E"
   },
   "source": [
    "### Part (i) [1pt EXPLORATORY]\n",
    "\n",
    "Open up the file in Python, and examine some examples of positive and negative reviews. Comment on the quality of the data and any challenges you foresee in working with these data. Pick one example of a positive review and one of a negative review to support your comments."
   ]
  },
  {
   "cell_type": "code",
   "execution_count": 293,
   "metadata": {
    "id": "I_IfXHeTa90F"
   },
   "outputs": [],
   "source": [
    "# download IMDB review data\n",
    "\n",
    "# load dataset\n",
    "df = pd.read_csv(\"IMDB Dataset.csv\")\n",
    "\n",
    "# process into data and labels\n",
    "X = df['review'].values\n",
    "y = df['sentiment'].values"
   ]
  },
  {
   "cell_type": "markdown",
   "metadata": {},
   "source": [
    "Potential Problems:"
   ]
  },
  {
   "cell_type": "code",
   "execution_count": 284,
   "metadata": {
    "id": "8DEb5pmh07Ka"
   },
   "outputs": [
    {
     "name": "stdout",
     "output_type": "stream",
     "text": [
      "Undeleted HTML tags, e.g.,  n...<br /><br />Fars\n",
      "Different sentence length:  X[0] = 1107 , X[1] = 2054\n"
     ]
    }
   ],
   "source": [
    "# TO BE COMPLETED\n",
    "print(\"Undeleted HTML tags, e.g., \", X[1][-30:-10])\n",
    "print(\"Different sentence length: \", \"X[0] =\", len(X[0]), \", X[1] =\", len(X[1]))"
   ]
  },
  {
   "cell_type": "code",
   "execution_count": null,
   "metadata": {
    "id": "fcIjeLLk0sE2"
   },
   "outputs": [],
   "source": [
    "'''\n",
    "PROVIDE YOUR ANSWER BELOW\n",
    "Other than the two potential problems shown above, there are several sentences that have grammar errors, and some sentences have mixed sentiments, \n",
    "which both could potentially cause incorrect prediction in the future.\n",
    "'''"
   ]
  },
  {
   "cell_type": "markdown",
   "metadata": {
    "id": "QaDPP2Ei5k8W"
   },
   "source": [
    "### Part (ii) [1pt EXPLORATORY]\n",
    "\n",
    "Perform summary statistics on the dataset. What is the average character length of a review? What are the lengths of the longest and shortest reviews?\n",
    "\n",
    "How many positive reviews and negative reviews are there. Generate a histogram to compare the average character length for positive and negative reviews. Comment on the differences in positive and negative reviews and how that may affect the model you will be using later."
   ]
  },
  {
   "cell_type": "code",
   "execution_count": 294,
   "metadata": {
    "id": "G5SRXZ4V6F4t"
   },
   "outputs": [
    {
     "name": "stdout",
     "output_type": "stream",
     "text": [
      "Average character length: 1311.24 characters\n",
      "Longest review: 13704 characters\n",
      "Shortest review: 32 characters\n",
      "Number of positive reviews: 20004\n",
      "Number of negative reviews: 19996\n"
     ]
    },
    {
     "data": {
      "image/png": "[encoded data removed]",
      "text/plain": [
       "<Figure size 640x480 with 1 Axes>"
      ]
     },
     "metadata": {},
     "output_type": "display_data"
    }
   ],
   "source": [
    "# TO BE COMPLETED\n",
    "df['review_length'] = df['review'].apply(len)\n",
    "average_length = df['review_length'].mean()\n",
    "max_length = df['review_length'].max()\n",
    "min_length = df['review_length'].min()\n",
    "sentiment_counts = df['sentiment'].value_counts()\n",
    "\n",
    "\n",
    "print(f'Average character length: {average_length:.2f} characters')\n",
    "print(f'Longest review: {max_length} characters')\n",
    "print(f'Shortest review: {min_length} characters')\n",
    "print(f'Number of positive reviews: {sentiment_counts.get(\"positive\", 0)}')\n",
    "print(f'Number of negative reviews: {sentiment_counts.get(\"negative\", 0)}')\n",
    "\n",
    "df[df['sentiment'] == 'positive']['review_length'].hist(alpha=0.6, color='blue', label='Positive', bins=50, edgecolor='black', density=True)\n",
    "df[df['sentiment'] == 'negative']['review_length'].hist(alpha=0.6, color='orange', label='Negative', bins=50, edgecolor='black', density=True)\n",
    "plt.xlabel('Review Length (characters)')\n",
    "plt.ylabel('Density')\n",
    "plt.title('Distribution of Review Lengths')\n",
    "plt.legend()\n",
    "plt.grid(True)\n",
    "plt.show()"
   ]
  },
  {
   "cell_type": "code",
   "execution_count": null,
   "metadata": {
    "id": "gPSFCNYI6F4u"
   },
   "outputs": [],
   "source": [
    "'''\n",
    "PROVIDE YOUR ANSWER BELOW\n",
    "General observations: as shown in the last output\n",
    "\n",
    "Observations between positive and negative reviews: \n",
    "1. Positive reviews dominate after the texts have more than 4000 characters\n",
    "2. Negative reviews mostly have shorter lengths\n",
    "\n",
    "Potential Effects:\n",
    "1. Since positive reviews are genreally longer, the trained model may prefer to associate long reviews towards positive sentiment,\n",
    "    which could misclassify long negative reviews\n",
    "2. Since we have to normalize the review lengths, noise could be introduced when padding short reviews, or losing information when \n",
    "    truncating long reviews\n",
    "'''"
   ]
  },
  {
   "cell_type": "markdown",
   "metadata": {
    "id": "ShOy3jp2zpRx"
   },
   "source": [
    "### Part (iii) [1pt EXPLORATORY]\n",
    "\n",
    "The following helper code will be used to process the data before we can train our LSTM model. In point form comment on what processing steps are performed in the code provided below and why these steps are necessary or beneficial to training and LSTM."
   ]
  },
  {
   "cell_type": "code",
   "execution_count": 295,
   "metadata": {
    "id": "tAjcY6oPz61e"
   },
   "outputs": [],
   "source": [
    "def preprocess_string(str1):\n",
    "    # remove all non-word characters excluding number and letters\n",
    "    str1= re.sub(r\"[^\\w\\s]\",'',str1)\n",
    "    # remove all whitespace with no space\n",
    "    str1= re.sub(r\"\\s\",'',str1)\n",
    "    # replace digits with no space\n",
    "    str1= re.sub(r\"\\d\",'',str1)\n",
    "    return str1\n",
    "\n",
    "def preprocess_sentence(sen1):\n",
    "    word_list=[]\n",
    "    stop_word = set(stopwords.words(\"english\"))\n",
    "    for word in sen1.lower().split():\n",
    "        word = preprocess_string(word)\n",
    "        if word not in stop_word and word!='':\n",
    "            word_list.append(word)\n",
    "    return word_list\n",
    "\n",
    "def get_stoi(data):\n",
    "    word_list=[]\n",
    "    for review in data:\n",
    "        word_list.extend(preprocess_sentence(review))\n",
    "    corpus = Counter(word_list)\n",
    "    print(corpus.get)\n",
    "    # sorting on the basis of most common words\n",
    "    corpus_ =sorted(corpus,key= corpus.get,reverse=True)[:1000]\n",
    "    # creating a dict\n",
    "    stoi =  {ch:i+1 for i,ch in enumerate(corpus_)}\n",
    "    return stoi\n",
    "\n",
    "def tokenize(data, labels, stoi):\n",
    "    # tokenize\n",
    "    data_encoded = []\n",
    "    for review in data:\n",
    "        data_encoded.append([stoi[word] for word in preprocess_sentence(review)\n",
    "                             if word in stoi.keys()])\n",
    "\n",
    "    labels_encoded = [1 if label =='positive' else 0 for label in labels]\n",
    "\n",
    "    return np.array(data_encoded, dtype=object), np.array(labels_encoded)\n",
    "\n",
    "def padding_(sentences, seq_len):\n",
    "    features = np.zeros((len(sentences), seq_len),dtype=int)\n",
    "    for ii, review in enumerate(sentences):\n",
    "        if len(review)!=0:\n",
    "            features[ii, -len(review):] = np.array(review)[:seq_len]\n",
    "\n",
    "    return features"
   ]
  },
  {
   "cell_type": "code",
   "execution_count": null,
   "metadata": {
    "id": "CHDGI2rn12G_"
   },
   "outputs": [],
   "source": [
    "'''\n",
    "PROVIDE YOUR ANSWER BELOW\n",
    "1. preprocess_string:\n",
    "    - remove punctuation, whitespace, and digits from text to ensure only clean words are passed to the model, i.e. reducing noise\n",
    "2. preprocess_sentence:\n",
    "    - convert text to lowercase, split into words, remove stopwords, and apply the preprocess_string function to reduce vocabulary \n",
    "    size and focuses on meaningful words\n",
    "3. get_stoi:\n",
    "    - creates a String-TO-Index (stoi) dictionary to map the most freqent 1000 words to unique indices, which limits vocabulary size\n",
    "    to improve model efficiency and reduce overfitting\n",
    "4. tokenize:\n",
    "    - convert reviews into sequences of word indices using the stoi dict, to encode labels in binary format\n",
    "5. padding_:\n",
    "    - pad or truncate tokenized reivewes to a fixed sequence length (seq_len), which ensures a uniform input size for the LSTM model\n",
    "'''"
   ]
  },
  {
   "cell_type": "markdown",
   "metadata": {
    "id": "ie_D0bv9a90k"
   },
   "source": [
    "### Part (iv) [1pt EXPLORATORY]\n",
    "\n",
    "Split the dataset into `train`, `valid`, and `test`. Use a 60-20-20 split. Then apply the above processing steps to prepare your data for training.\n",
    "\n",
    "Set the padding of the reviews to 500."
   ]
  },
  {
   "cell_type": "code",
   "execution_count": null,
   "metadata": {
    "id": "P_Y6Puz9a90l"
   },
   "outputs": [
    {
     "name": "stdout",
     "output_type": "stream",
     "text": [
      "<built-in method get of Counter object at 0x00000172E0048400>\n"
     ]
    },
    {
     "data": {
      "text/plain": [
       "((24000, 500), (8000, 500), (8000, 500))"
      ]
     },
     "execution_count": 296,
     "metadata": {},
     "output_type": "execute_result"
    }
   ],
   "source": [
    "# TO BE COMPLETED\n",
    "# nltk.download(\"stopwords\")\n",
    "reviews = df[\"review\"].values\n",
    "labels = df[\"sentiment\"].values\n",
    "\n",
    "train_reviews, temp_reviews, train_labels, temp_labels = train_test_split(\n",
    "    reviews, labels, test_size=0.4, random_state=42, stratify=labels\n",
    ")\n",
    "valid_reviews, test_reviews, valid_labels, test_labels = train_test_split(\n",
    "    temp_reviews, temp_labels, test_size=0.5, random_state=42, stratify=temp_labels\n",
    ")\n",
    "stoi = get_stoi(train_reviews)\n",
    "\n",
    "# tokenize datasets\n",
    "train_data, train_labels = tokenize(train_reviews, train_labels, stoi)\n",
    "valid_data, valid_labels = tokenize(valid_reviews, valid_labels, stoi)\n",
    "test_data, test_labels = tokenize(test_reviews, test_labels, stoi)\n",
    "\n",
    "padding_length = 500\n",
    "train_data_padded = padding_(train_data, padding_length)\n",
    "valid_data_padded = padding_(valid_data, padding_length)\n",
    "test_data_padded = padding_(test_data, padding_length)\n",
    "\n",
    "(train_data_padded.shape, valid_data_padded.shape, test_data_padded.shape)"
   ]
  },
  {
   "cell_type": "markdown",
   "metadata": {
    "id": "Ff5CNk7Qa90y"
   },
   "source": [
    "### Part (v) [1pt EXPLORATORY]\n",
    "\n",
    "Create a DataLoader that will allow you to load the training and validation data in mini-batches. Then generate a dataset of batch size of 16 to verify that the DataLoader works as intended."
   ]
  },
  {
   "cell_type": "code",
   "execution_count": null,
   "metadata": {
    "id": "V8N8qLWOa90y"
   },
   "outputs": [
    {
     "data": {
      "text/plain": [
       "(torch.Size([16, 500]), torch.Size([16]))"
      ]
     },
     "execution_count": 299,
     "metadata": {},
     "output_type": "execute_result"
    }
   ],
   "source": [
    "# TO BE COMPLETED\n",
    "train_tensor = torch.tensor(train_data_padded, dtype=torch.long)\n",
    "train_labels_tensor = torch.tensor(train_labels, dtype=torch.long)\n",
    "valid_tensor = torch.tensor(valid_data_padded, dtype=torch.long)\n",
    "valid_labels_tensor = torch.tensor(valid_labels, dtype=torch.long)\n",
    "test_tensor = torch.tensor(test_data_padded, dtype=torch.long)\n",
    "test_labels_tensor = torch.tensor(test_labels, dtype=torch.long)\n",
    "\n",
    "train_dataset = TensorDataset(train_tensor, train_labels_tensor)\n",
    "valid_dataset = TensorDataset(valid_tensor, valid_labels_tensor)\n",
    "test_dataset = TensorDataset(test_tensor, test_labels_tensor)\n",
    "\n",
    "batch_size = 16\n",
    "\n",
    "train_loader = DataLoader(train_dataset, batch_size=batch_size, shuffle=True)\n",
    "valid_loader = DataLoader(valid_dataset, batch_size=batch_size, shuffle=False)\n",
    "test_loader = DataLoader(test_dataset, batch_size=batch_size, shuffle=False)\n",
    "\n",
    "# try on single batch to verify DataLoader functionality\n",
    "sample_batch, sample_labels = next(iter(test_loader))\n",
    "(sample_batch.shape, sample_labels.shape)"
   ]
  },
  {
   "cell_type": "markdown",
   "metadata": {
    "id": "y7HnqP6_a904"
   },
   "source": [
    "## Part 2. Model Building [2pt MODEL]\n",
    "\n",
    "Build a recurrent neural network model, using an architecture of your choosing. Use one or more fully-connected layers to make the prediction based on your recurrent network output.\n",
    "\n",
    "An example is provided below in `BaselineSentimentRNN`, which you can use for inspiration. However, you should build your own model.\n",
    "\n",
    "Instead of using the RNN output value for the final token, another often used strategy is to max-pool over the entire output array. That is, instead of calling something like:\n",
    "\n",
    "```\n",
    "out, _ = self.rnn(x)\n",
    "self.fc(out[:, -1, :])\n",
    "```\n",
    "\n",
    "where `self.rnn` is an `nn.RNN`, `nn.GRU`, or `nn.LSTM` module, and `self.fc` is a\n",
    "fully-connected\n",
    "layer, we use:\n",
    "\n",
    "```\n",
    "out, _ = self.rnn(x)\n",
    "self.fc(torch.max(out, dim=1)[0])\n",
    "```\n",
    "\n",
    "This works reasonably in practice. An even better alternative is to concatenate the max-pooling and average-pooling of the RNN outputs:\n",
    "\n",
    "```\n",
    "out, _ = self.rnn(x)\n",
    "out = torch.cat([torch.max(out, dim=1)[0],\n",
    "                 torch.mean(out, dim=1)], dim=1)\n",
    "self.fc(out)\n",
    "```\n",
    "\n",
    "We encourage you to try out all these options. The way you pool the RNN outputs is one of the \"hyperparameters\" that you can choose to tune later on."
   ]
  },
  {
   "cell_type": "code",
   "execution_count": 11,
   "metadata": {
    "id": "WhlW4QG-38Sb"
   },
   "outputs": [],
   "source": [
    "class BaselineSentimentRNN(nn.Module):\n",
    "    def __init__(self, vocab_size, embedding_dim=4, hidden_dim=4, output_dim=2):\n",
    "        super().__init__()\n",
    "        self.embedding = nn.Embedding(vocab_size, embedding_dim)\n",
    "        self.rnn = nn.RNN(embedding_dim, hidden_dim, batch_first=True)\n",
    "        self.fc = nn.Linear(hidden_dim, output_dim)\n",
    "\n",
    "    def forward(self, x):\n",
    "        embedded = self.embedding(x)\n",
    "        # Vanilla RNN returns: outputs, hidden\n",
    "        outputs, hidden = self.rnn(embedded)\n",
    "        # hidden.shape = (num_layers, batch_size, hidden_dim)\n",
    "        out = self.fc(hidden[-1])  # take the last layer's hidden state\n",
    "        return out\n"
   ]
  },
  {
   "cell_type": "code",
   "execution_count": null,
   "metadata": {
    "id": "4LTQ7zFka909"
   },
   "outputs": [],
   "source": [
    "# TO BE COMPLETED\n",
    "class SentimentRNN(nn.Module):\n",
    "    def __init__(self, vocab_size, embedding_dim=100, hidden_dim=128, num_layers=2, output_dim=1, dropout=0.5, pooling='concat'):\n",
    "        super(SentimentRNN, self).__init__()\n",
    "\n",
    "        # TO BE COMPLETED\n",
    "        self.embedding = nn.Embedding(vocab_size, embedding_dim)\n",
    "        self.lstm = nn.LSTM(embedding_dim, hidden_dim, num_layers=num_layers, batch_first=True, dropout=dropout)\n",
    "        \n",
    "        # Pooling method: 'last', 'max', or 'concat'\n",
    "        self.pooling = pooling\n",
    "        if pooling == 'concat':\n",
    "            self.fc = nn.Linear(hidden_dim * 2, output_dim)\n",
    "        else:\n",
    "            self.fc = nn.Linear(hidden_dim, output_dim)\n",
    "        \n",
    "        self.dropout = nn.Dropout(dropout)\n",
    "        self.sigmoid = nn.Sigmoid()\n",
    "        \n",
    "    def forward(self, x, hidden=None):\n",
    "        if x.size(1) == 0: \n",
    "            print(\"Error: Received an empty input sequence\")\n",
    "        # TO BE COMPLETED\n",
    "        embedded = self.embedding(x)\n",
    "        out, hidden = self.lstm(embedded, hidden)\n",
    "        \n",
    "        if self.pooling == 'last':\n",
    "            out = out[:, -1, :]  \n",
    "        elif self.pooling == 'max':\n",
    "            out, _ = torch.max(out, dim=1)  \n",
    "        elif self.pooling == 'concat':\n",
    "            max_pool, _ = torch.max(out, dim=1)\n",
    "            avg_pool = torch.mean(out, dim=1)\n",
    "            out = torch.cat([max_pool, avg_pool], dim=1)\n",
    "        \n",
    "        out = self.dropout(out)\n",
    "        out = self.fc(out)\n",
    "        return self.sigmoid(out)"
   ]
  },
  {
   "cell_type": "markdown",
   "metadata": {
    "id": "vKIYPl_Ba90_"
   },
   "source": [
    "## Part 3. Training [3 pt]\n",
    "\n",
    "### Part (i) [1pt MODEL]\n",
    "\n",
    "Complete the `get_accuracy` function, which will compute the\n",
    "accuracy (rate) of your model across a dataset (e.g. validation set)."
   ]
  },
  {
   "cell_type": "code",
   "execution_count": null,
   "metadata": {
    "id": "pvNfhGD6a91A"
   },
   "outputs": [],
   "source": [
    "def get_accuracy(model, data_loader):\n",
    "    \"\"\" Compute the accuracy of the `model` across a dataset `data`\n",
    "\n",
    "    Example usage:\n",
    "\n",
    "    >>> model = MyRNN() # to be defined\n",
    "    >>> get_accuracy(model, valid_loader) # the variable `valid_loader` is from above\n",
    "    \"\"\"\n",
    "\n",
    "    # TO BE COMPLETED\n",
    "    model.eval()  # Set model to evaluation mode\n",
    "    correct = 0\n",
    "    total = 0\n",
    "    device = torch.device(\"cuda\" if torch.cuda.is_available() else \"cpu\")\n",
    "    \n",
    "    with torch.no_grad():  # No gradients needed for evaluation\n",
    "        for inputs, labels in data_loader:\n",
    "            inputs, labels = inputs.to(device), labels.to(device) \n",
    "            outputs = model(inputs)\n",
    "            predictions = (outputs.squeeze() > 0.5).float()  \n",
    "            correct += (predictions == labels).sum().item()\n",
    "            total += labels.size(0)\n",
    "\n",
    "    return correct / total\n"
   ]
  },
  {
   "cell_type": "markdown",
   "metadata": {
    "id": "TlxlcAC1a91C"
   },
   "source": [
    "### Part (ii) [1pt MODEL]\n",
    "\n",
    "Train your model. Plot the training curve of your final model.\n",
    "Your training curve should have the training/validation loss and\n",
    "accuracy plotted periodically."
   ]
  },
  {
   "cell_type": "code",
   "execution_count": 98,
   "metadata": {
    "id": "CVtf7CJCa91D"
   },
   "outputs": [],
   "source": [
    "# TO BE COMPLETED\n",
    "def train_model(model, train_loader, valid_loader, criterion, optimizer, epochs=10):\n",
    "    device = torch.device(\"cuda\" if torch.cuda.is_available() else \"cpu\")\n",
    "    model.to(device)\n",
    "    \n",
    "    train_losses, valid_losses, train_accs, valid_accs = [], [], [], []\n",
    "    \n",
    "    for epoch in range(epochs):\n",
    "        model.train()\n",
    "        running_loss = 0.0\n",
    "        correct, total = 0, 0\n",
    "        \n",
    "        for inputs, labels in train_loader:\n",
    "            inputs, labels = inputs.to(torch.device(\"cuda\" if torch.cuda.is_available() else \"cpu\")), labels.to(torch.device(\"cuda\" if torch.cuda.is_available() else \"cpu\"))\n",
    "            optimizer.zero_grad()\n",
    "            outputs = model(inputs).squeeze()\n",
    "            loss = criterion(outputs, labels.float())\n",
    "            loss.backward()\n",
    "            optimizer.step()\n",
    "            \n",
    "            running_loss += loss.item()\n",
    "            predictions = (outputs > 0.5).float()\n",
    "            correct += (predictions == labels).sum().item()\n",
    "            total += labels.size(0)\n",
    "        \n",
    "        train_loss = running_loss / len(train_loader)\n",
    "        train_acc = correct / total\n",
    "        valid_loss, valid_acc = evaluate_model(model, valid_loader, criterion)\n",
    "        \n",
    "        train_losses.append(train_loss)\n",
    "        valid_losses.append(valid_loss)\n",
    "        train_accs.append(train_acc)\n",
    "        valid_accs.append(valid_acc)\n",
    "        \n",
    "        print(f\"Epoch {epoch+1}/{epochs} - Train Loss: {train_loss:.4f}, Train Acc: {train_acc:.4f}, Valid Loss: {valid_loss:.4f}, Valid Acc: {valid_acc:.4f}\")\n",
    "    \n",
    "    plot_training_curve(train_losses, valid_losses, train_accs, valid_accs)\n",
    "\n",
    "def evaluate_model(model, data_loader, criterion):\n",
    "    model.eval()\n",
    "    running_loss = 0.0\n",
    "    correct, total = 0, 0\n",
    "    \n",
    "    with torch.no_grad():\n",
    "        for inputs, labels in data_loader:\n",
    "            inputs, labels = inputs.to(torch.device(\"cuda\" if torch.cuda.is_available() else \"cpu\")), labels.to(torch.device(\"cuda\" if torch.cuda.is_available() else \"cpu\"))\n",
    "            outputs = model(inputs).squeeze()\n",
    "            loss = criterion(outputs, labels.float())\n",
    "            running_loss += loss.item()\n",
    "            predictions = (outputs > 0.5).float()\n",
    "            correct += (predictions == labels).sum().item()\n",
    "            total += labels.size(0)\n",
    "    \n",
    "    return running_loss / len(data_loader), correct / total\n",
    "\n",
    "def plot_training_curve(train_losses, valid_losses, train_accs, valid_accs):\n",
    "    epochs = range(1, len(train_losses) + 1)\n",
    "    \n",
    "    plt.figure(figsize=(12, 5))\n",
    "    \n",
    "    plt.subplot(1, 2, 1)\n",
    "    plt.plot(epochs, train_losses, label='Train Loss')\n",
    "    plt.plot(epochs, valid_losses, label='Valid Loss')\n",
    "    plt.xlabel('Epochs')\n",
    "    plt.ylabel('Loss')\n",
    "    plt.legend()\n",
    "    plt.title('Loss Curve')\n",
    "    \n",
    "    plt.subplot(1, 2, 2)\n",
    "    plt.plot(epochs, train_accs, label='Train Acc')\n",
    "    plt.plot(epochs, valid_accs, label='Valid Acc')\n",
    "    plt.xlabel('Epochs')\n",
    "    plt.ylabel('Accuracy')\n",
    "    plt.legend()\n",
    "    plt.title('Accuracy Curve')\n",
    "    \n",
    "    plt.show()"
   ]
  },
  {
   "cell_type": "code",
   "execution_count": 15,
   "metadata": {},
   "outputs": [
    {
     "name": "stderr",
     "output_type": "stream",
     "text": [
      "c:\\Users\\Austin\\anaconda3\\envs\\MIE1517\\lib\\site-packages\\tqdm\\auto.py:21: TqdmWarning: IProgress not found. Please update jupyter and ipywidgets. See https://ipywidgets.readthedocs.io/en/stable/user_install.html\n",
      "  from .autonotebook import tqdm as notebook_tqdm\n"
     ]
    },
    {
     "name": "stdout",
     "output_type": "stream",
     "text": [
      "Epoch 1/10 - Train Loss: 0.4845, Train Acc: 0.7580, Valid Loss: 0.3935, Valid Acc: 0.8237\n",
      "Epoch 2/10 - Train Loss: 0.3478, Train Acc: 0.8491, Valid Loss: 0.3681, Valid Acc: 0.8336\n",
      "Epoch 3/10 - Train Loss: 0.3051, Train Acc: 0.8716, Valid Loss: 0.3609, Valid Acc: 0.8409\n",
      "Epoch 4/10 - Train Loss: 0.2718, Train Acc: 0.8886, Valid Loss: 0.3751, Valid Acc: 0.8370\n",
      "Epoch 5/10 - Train Loss: 0.2397, Train Acc: 0.9024, Valid Loss: 0.3736, Valid Acc: 0.8435\n",
      "Epoch 6/10 - Train Loss: 0.2051, Train Acc: 0.9200, Valid Loss: 0.4131, Valid Acc: 0.8315\n",
      "Epoch 7/10 - Train Loss: 0.1760, Train Acc: 0.9345, Valid Loss: 0.4526, Valid Acc: 0.8364\n",
      "Epoch 8/10 - Train Loss: 0.1464, Train Acc: 0.9447, Valid Loss: 0.4713, Valid Acc: 0.8356\n",
      "Epoch 9/10 - Train Loss: 0.1248, Train Acc: 0.9553, Valid Loss: 0.5363, Valid Acc: 0.8316\n",
      "Epoch 10/10 - Train Loss: 0.1032, Train Acc: 0.9634, Valid Loss: 0.5787, Valid Acc: 0.8313\n"
     ]
    },
    {
     "data": {
      "image/png": "[encoded data removed]",
      "text/plain": [
       "<Figure size 1200x500 with 2 Axes>"
      ]
     },
     "metadata": {},
     "output_type": "display_data"
    }
   ],
   "source": [
    "torch.cuda.manual_seed_all(11)\n",
    "# Hyperparameters for RNN\n",
    "vocab_size = len(stoi) + 1\n",
    "embedding_dim = 100\n",
    "hidden_dim = 32\n",
    "num_layers = 2\n",
    "output_dim = 1\n",
    "dropout = 0.1\n",
    "pooling = 'concat'\n",
    "\n",
    "model = SentimentRNN(vocab_size, embedding_dim, hidden_dim, num_layers, output_dim, dropout, pooling)\n",
    "\n",
    "criterion = nn.BCELoss()\n",
    "optimizer = torch.optim.Adam(model.parameters(), lr=0.001)\n",
    "train_model(model, train_loader, valid_loader, criterion, optimizer, epochs=10)"
   ]
  },
  {
   "cell_type": "code",
   "execution_count": null,
   "metadata": {},
   "outputs": [],
   "source": [
    "'''\n",
    "Best validation accuracy: 84.35%, but has extreme overfitting\n",
    "'''"
   ]
  },
  {
   "cell_type": "markdown",
   "metadata": {
    "id": "fE3eRkDAa91F"
   },
   "source": [
    "### Part (iii) [1pt MODEL]\n",
    "\n",
    "Choose at least 4 hyperparameters to tune. Explain how you tuned the hyperparameters.\n",
    "You don't need to include your training curve for every model you trained.\n",
    "Instead, explain what hyperparemters you tuned, what the best validation accuracy was,\n",
    "and the reasoning behind the hyperparameter decisions you made.\n",
    "\n",
    "For this assignment, you should tune more than just your learning rate and epoch.\n",
    "Choose at least 2 hyperparameters that are unrelated to the optimizer."
   ]
  },
  {
   "cell_type": "code",
   "execution_count": null,
   "metadata": {},
   "outputs": [],
   "source": [
    "# TO BE COMPLETED\n",
    "\n",
    "class SentimentRNN(nn.Module):\n",
    "    def __init__(self, vocab_size, embedding_dim=100, hidden_dim=128, num_layers=2, output_dim=1, dropout=0.5, pooling='concat'):\n",
    "        super(SentimentRNN, self).__init__()\n",
    "\n",
    "        # TO BE COMPLETED\n",
    "        self.embedding = nn.Embedding(vocab_size, embedding_dim)\n",
    "        self.lstm = nn.GRU(embedding_dim, hidden_dim, num_layers=num_layers, batch_first=True, dropout=dropout)\n",
    "        \n",
    "        # Pooling method: 'last', 'max', or 'concat'\n",
    "        self.pooling = pooling\n",
    "        if pooling == 'concat':\n",
    "            self.fc = nn.Linear(hidden_dim * 2, output_dim)\n",
    "        else:\n",
    "            self.fc = nn.Linear(hidden_dim, output_dim)\n",
    "        \n",
    "        self.dropout = nn.Dropout(dropout)\n",
    "        self.sigmoid = nn.Sigmoid()\n",
    "        \n",
    "    def forward(self, x, hidden=None):\n",
    "        if x.size(1) == 0:\n",
    "            print(\"Error: Received an empty input sequence\")\n",
    "        # TO BE COMPLETED\n",
    "        embedded = self.embedding(x)\n",
    "        out, hidden = self.lstm(embedded, hidden)\n",
    "        \n",
    "        if self.pooling == 'last':\n",
    "            out = out[:, -1, :] \n",
    "        elif self.pooling == 'max':\n",
    "            out, _ = torch.max(out, dim=1)\n",
    "        elif self.pooling == 'concat':\n",
    "            max_pool, _ = torch.max(out, dim=1)\n",
    "            avg_pool = torch.mean(out, dim=1)\n",
    "            out = torch.cat([max_pool, avg_pool], dim=1)\n",
    "        \n",
    "        out = self.dropout(out)\n",
    "        out = self.fc(out)\n",
    "        return self.sigmoid(out)"
   ]
  },
  {
   "cell_type": "code",
   "execution_count": 290,
   "metadata": {},
   "outputs": [
    {
     "name": "stdout",
     "output_type": "stream",
     "text": [
      "Epoch 1/5 - Train Loss: 0.6326, Train Acc: 0.6164, Valid Loss: 0.4871, Valid Acc: 0.7825\n",
      "Epoch 2/5 - Train Loss: 0.4359, Train Acc: 0.8095, Valid Loss: 0.3897, Valid Acc: 0.8264\n",
      "Epoch 3/5 - Train Loss: 0.3707, Train Acc: 0.8405, Valid Loss: 0.3632, Valid Acc: 0.8407\n",
      "Epoch 4/5 - Train Loss: 0.3460, Train Acc: 0.8516, Valid Loss: 0.3546, Valid Acc: 0.8449\n",
      "Epoch 5/5 - Train Loss: 0.3265, Train Acc: 0.8653, Valid Loss: 0.3729, Valid Acc: 0.8294\n"
     ]
    },
    {
     "data": {
      "image/png": "[encoded data removed]",
      "text/plain": [
       "<Figure size 1200x500 with 2 Axes>"
      ]
     },
     "metadata": {},
     "output_type": "display_data"
    }
   ],
   "source": [
    "# TO BE COMPLETED\n",
    "torch.cuda.manual_seed_all(11)\n",
    "# Hyperparameters for RNN\n",
    "vocab_size = len(stoi) + 1\n",
    "embedding_dim = 200\n",
    "hidden_dim = 64\n",
    "num_layers = 4\n",
    "output_dim = 1\n",
    "dropout = 0.7\n",
    "pooling = 'concat'\n",
    "\n",
    "model = SentimentRNN(vocab_size, embedding_dim, hidden_dim, num_layers, output_dim, dropout, pooling)\n",
    "\n",
    "criterion = nn.BCELoss()\n",
    "optimizer = torch.optim.Adam(model.parameters(), lr=0.001, weight_decay=0.00005)\n",
    "train_model(model, train_loader, valid_loader, criterion, optimizer, epochs=5)"
   ]
  },
  {
   "cell_type": "code",
   "execution_count": 291,
   "metadata": {},
   "outputs": [],
   "source": [
    "torch.save(model.state_dict(), 'A4-RNN-Yang_Chen_Lin-1011781948.pth')"
   ]
  },
  {
   "cell_type": "code",
   "execution_count": null,
   "metadata": {
    "id": "mN2t6fSzryME"
   },
   "outputs": [],
   "source": [
    "'''\n",
    "PROVIDE YOUR ANSWER BELOW\n",
    "Best validation accuracy: 84.49%\n",
    "\n",
    "Tuned hyperparameters and reasons:\n",
    "1. Increase dropout rate: \n",
    "    - increasing the drop out rate can randomly disable neurons during training and prevent overfitting\n",
    "2. Increase hidden dimension size:\n",
    "    - the model can learn more complex patterns in the dataset\n",
    "3. Increase embedding dimension:\n",
    "    - with a higher embedd_dim, there are more numerical features representing each word, so the model can\n",
    "    capture richer relationships between words\n",
    "4. Implement early stop:\n",
    "    - stop the training process when the validation accuracy stops improving to prevent overfitting\n",
    "'''"
   ]
  },
  {
   "cell_type": "markdown",
   "metadata": {
    "id": "Gznefulsa91V"
   },
   "source": [
    "## Part 4. Evaluation [10 pt]\n",
    "\n",
    "**Important**. At this point in the assignment your test data should not have been evaluated by any of your models. The test data should be evaluated only after you have finished all the previous parts of the assignment. Once you evaluate your models on the test data you cannot change your models or else you may make hyperparameter adjustments that could lead to overfitting to the test data.\n",
    "\n",
    "### Part (i) [3pt RESULT]\n",
    "\n",
    "Report the final test accuracy of your model. Comment on how the result compares with accuracy obtained on the training and validation data. Are the results what you expected? Explain."
   ]
  },
  {
   "cell_type": "code",
   "execution_count": 26,
   "metadata": {
    "id": "D5L5D-A1a91W"
   },
   "outputs": [
    {
     "name": "stdout",
     "output_type": "stream",
     "text": [
      "Final Test Accuracy: 0.8536\n"
     ]
    }
   ],
   "source": [
    "# TO BE COMPLETED\n",
    "test_acc = get_accuracy(model, test_loader)\n",
    "print(f\"Final Test Accuracy: {test_acc:.4f}\")"
   ]
  },
  {
   "cell_type": "code",
   "execution_count": null,
   "metadata": {
    "id": "DTHWBJCu_Fyz"
   },
   "outputs": [
    {
     "name": "stdout",
     "output_type": "stream",
     "text": []
    }
   ],
   "source": [
    "'''\n",
    "PROVIDE YOUR ANSWER BELOW\n",
    "The test accuracy is lower than the training set but a bit higher than the validation dataset, which shows that this model can generalize well.\n",
    "This result is expected since the test and valid accuracy are lower than the training accuracy, and the accuracy for test and validation datasets\n",
    "are similar.\n",
    "'''"
   ]
  },
  {
   "cell_type": "markdown",
   "metadata": {
    "id": "kLvxrCP5Bwdu"
   },
   "source": [
    "### Part (ii) [3pt DISCUSSION]\n",
    "\n",
    "Look over the misclassified samples in the test data and see if you can find any patterns on where the model has difficulty with identifying the review sentiment. Provide up to 5 examples of positive and negative reviews each to support your findings."
   ]
  },
  {
   "cell_type": "code",
   "execution_count": null,
   "metadata": {
    "id": "IJt0APcBBwd5"
   },
   "outputs": [
    {
     "name": "stdout",
     "output_type": "stream",
     "text": [
      "Misclassified as negative:\n",
      "ive watching lot present great low budget late early movie elements decent western good story talented actors everything else although genre way done didnt work made moviebr br movie easily two br first part great great opening scene interesting story going going large part course movie three characters form attempt get money comic earlier films genre comedy doesnt overall br second half film comedy goes movie point right part stop goes waiting four dead place point movie decent western comic br three horrible scenes one one one follow one wasnt bad enough fighting ridiculous since sound picture makes even worse fight scene place around like although worst part fight scenes music dance cheesy episode scenes main br overall movie lot potential decent western comic turns want see good western see want see good western avoid movie\n",
      "thing film dvd much budget moment would film good example film enjoy watching richard br great sometimes bit much thats case minute sound film good nothing br story story actors sound sets etc say three times everyone believable character movie us especially stars filmbr br decent job playing cheap early love first even though hes world film bad romance part story takes away itbr br average film means good great certainly worth one could lot better film\n",
      "ive watching lot present great low budget late early movie elements decent western good story talented actors everything else although genre way done didnt work made moviebr br movie easily two br first part great great opening scene interesting story going going large part course movie three characters form attempt get money comic earlier films genre comedy doesnt overall br second half film comedy goes movie point right part stop goes waiting four dead place point movie decent western comic br three horrible scenes one one one follow one wasnt bad enough fighting ridiculous since sound picture makes even worse fight scene place around like although worst part fight scenes music dance cheesy episode scenes main br overall movie lot potential decent western comic turns want see good western see want see good western avoid movie\n",
      "island lee family wont company cant films even question whether filmmakers thought script actually funny even make\n",
      "actually good thing james im sure wouldnt able keep fast women less pretty scifi thriller often despite know movies nothing seems think plot writers make sure new twist everyone events take place world major dont really lot apart trying others company literally people new let biggest hand tries whole business whos secret actually less sounds director takes time important less important characters first half film rather sadly john rock also former life style even set seem come straight film white seem theres also plenty great action suspense crew boring middle film little already realize towards slightly portrayal future perfectly cast lady appears side directors choice david memorable role well made scifi entertainment highly people like use brain time time\n",
      "\n",
      "Misclassified as positive:\n",
      "far two beauty little br acting good long except br people feel drama years okay drama feel book still much br wonder ever give us follow next part drama years follow things get better fact still waiting full\n",
      "best word could think film especially considering reviews br one thing really film word present us team also several us team br even appear us example viewer believe us fact one four one total many portrayed french little film supposed br believe film would part us audience looking looking look\n",
      "far two beauty little br acting good long except br people feel drama years okay drama feel book still much br wonder ever give us follow next part drama years follow things get better fact still waiting full\n",
      "best word could think film especially considering reviews br one thing really film word present us team also several us team br even appear us example viewer believe us fact one four one total many portrayed french little film supposed br believe film would part us audience looking looking look\n",
      "movie completely could believe started late watch came late started watching couldnt stop full good cast members even james many well known actors history eye opening another part society people dont know may even talk ive never heard book movie something black history never looks highly recommend movie\n"
     ]
    }
   ],
   "source": [
    "# TO BE COMPLETED\n",
    "model.eval()\n",
    "device = torch.device(\"cuda\" if torch.cuda.is_available() else \"cpu\")\n",
    "model.to(device)\n",
    "\n",
    "# get misclassified samples\n",
    "misclassified_samples = []\n",
    "true_labels = []\n",
    "predicted_labels = []\n",
    "\n",
    "# evaluate misclassfied samples\n",
    "with torch.no_grad():\n",
    "    for inputs, labels in test_loader:\n",
    "        inputs, labels = inputs.to(device), labels.to(device)\n",
    "        outputs = model(inputs)\n",
    "        predictions = (outputs.squeeze() > 0.5).float()\n",
    "        \n",
    "        for i in range(len(labels)):\n",
    "            if predictions[i] != labels[i]: \n",
    "                misclassified_samples.append(test_data_padded[i])\n",
    "                true_labels.append(labels[i].item())\n",
    "                predicted_labels.append(predictions[i].item())\n",
    "\n",
    "# convert indices back to words\n",
    "def decode_review(encoded_review, stoi_reverse):\n",
    "    return \" \".join([stoi_reverse[idx] for idx in encoded_review if idx in stoi_reverse])\n",
    "\n",
    "# create a reverse stoi dictionary\n",
    "stoi_reverse = {v: k for k, v in stoi.items()}\n",
    "\n",
    "# Get 5 positive and 5 negative misclassified samples\n",
    "positive_misclassified = []\n",
    "negative_misclassified = []\n",
    "\n",
    "for i in range(len(misclassified_samples)):\n",
    "    decoded_review = decode_review(misclassified_samples[i], stoi_reverse)\n",
    "    if true_labels[i] == 1 and len(positive_misclassified) < 5:\n",
    "        positive_misclassified.append((decoded_review, predicted_labels[i]))\n",
    "        \n",
    "    elif true_labels[i] == 0 and len(negative_misclassified) < 5:\n",
    "        negative_misclassified.append((decoded_review, predicted_labels[i]))\n",
    "        \n",
    "    if len(positive_misclassified) == 5 and len(negative_misclassified) == 5:\n",
    "        break\n",
    "\n",
    "print(\"Misclassified as negative:\")\n",
    "for i in positive_misclassified:\n",
    "    print(i[0])   \n",
    "print(\"\\nMisclassified as positive:\")\n",
    "for i in negative_misclassified:\n",
    "    print(i[0])"
   ]
  },
  {
   "cell_type": "code",
   "execution_count": null,
   "metadata": {
    "id": "Fyr16MISBwd5"
   },
   "outputs": [
    {
     "name": "stdout",
     "output_type": "stream",
     "text": []
    }
   ],
   "source": [
    "'''\n",
    "PROVIDE YOUR ANSWER BELOW\n",
    "The model performs poorly in several circumstances:\n",
    "1. When the reviews are in a sarcasim tone\n",
    "2. Mixing sentiments in a review\n",
    "3. Slightly biased reviews, but the main tone remains neutral\n",
    "'''"
   ]
  },
  {
   "cell_type": "markdown",
   "metadata": {
    "id": "0jGHtQFpa91b"
   },
   "source": [
    "### Part (iii) [2pt RESULT]\n",
    "\n",
    "What is your model's prediction of the **probability** that\n",
    "the review message provided below is a positive review?\n",
    "\n",
    "Hint: You will need to apply the same processing on the review as was done on the the train, val, and test data sets."
   ]
  },
  {
   "cell_type": "code",
   "execution_count": 28,
   "metadata": {
    "id": "h_2nSJq8a91b"
   },
   "outputs": [],
   "source": [
    "review = \"\"\" Man.... I wish I loved this movie more than I did. Don't get me wrong,\n",
    "it's a solid action movie with jaw-dropping stunts (some of the best in the series),\n",
    "but as a Mission: Impossible movie, it felt like a small step backward for the franchise.\n",
    "Fallout had mind-blowing action sequences and stunt work, along with developing Ethan's\n",
    "relationship with Ilsa, providing closure with Julia, showing the lengths Ethan would\n",
    "go to protect those closest to him, and battling an imposing villain. Dead Reckoning:\n",
    "Part One stretches the movie across two films only to seemingly showcase action\n",
    "spectacle after action spectacle while sacrificing character development.\n",
    "Characters I have grown to love over a decade of films felt sidelined, ignored,\n",
    "or wasted. Hayley Atwell's new character chewed up most of the screen time, and\n",
    "while she was fantastic, I wanted to see more of the original team. The new villain\n",
    "had an inconsistent ability that confused more than intimidated. There were some\n",
    "important emotional moments that I just didn't feel the weight of when I definitely\n",
    "should have. Part Two might tie everything together and make me enjoy Part One\n",
    "more in retrospect, but unfortunately, I left wanting more from this one. \"\"\""
   ]
  },
  {
   "cell_type": "code",
   "execution_count": null,
   "metadata": {
    "id": "CB-82EtwBmKb"
   },
   "outputs": [
    {
     "name": "stdout",
     "output_type": "stream",
     "text": [
      "0.5321487188339233\n"
     ]
    }
   ],
   "source": [
    "# TO BE COMPLETED\n",
    "def preprocess_review(review, stoi, seq_len=500):\n",
    "    \"\"\"\n",
    "    Preprocess a single review by tokenizing, encoding, and padding it.\n",
    "    \"\"\"\n",
    "    review_tokens = preprocess_sentence(review)  # tokenize and remove stopwords\n",
    "    encoded_review = [stoi[word] for word in review_tokens if word in stoi]  # convert words to indices\n",
    "    padded_review = torch.zeros(seq_len, dtype=torch.long)\n",
    "    review_length = min(len(encoded_review), seq_len)\n",
    "    padded_review[-review_length:] = torch.tensor(encoded_review[:seq_len])\n",
    "\n",
    "    return padded_review.unsqueeze(0)  \n",
    "\n",
    "model.eval()\n",
    "input_review_tensor = preprocess_review(review, stoi).to(device)\n",
    "with torch.no_grad():\n",
    "    probability = model(input_review_tensor)\n",
    "    probability = probability.item()\n",
    "\n",
    "print(probability)"
   ]
  },
  {
   "cell_type": "markdown",
   "metadata": {
    "id": "QD1zgYJpa91f"
   },
   "source": [
    "### Part (iv) [2pt DISCUSSION]\n",
    "\n",
    "Do you think that detecting positive and negative reviews is an easy or difficult task?\n",
    "\n",
    "Since machine learning models are expensive to train and deploy, it is very\n",
    "important to compare our models against baseline models: a simple\n",
    "model that is easy to build and inexpensive to run that we can compare our\n",
    "recurrent neural network model against.\n",
    "\n",
    "Explain how you might build a simple baseline model. This baseline model\n",
    "can be a simple neural network (with very few weights), a hand-written algorithm,\n",
    "or any other strategy that is easy to build and test.\n",
    "\n",
    "**Do not actually build a baseline model. Instead, provide instructions on\n",
    "how to build it.**"
   ]
  },
  {
   "cell_type": "code",
   "execution_count": null,
   "metadata": {
    "id": "7dwiiZYdvz34"
   },
   "outputs": [
    {
     "name": "stdout",
     "output_type": "stream",
     "text": []
    }
   ],
   "source": [
    "'''\n",
    "PROVIDE YOUR ANSWER BELOW\n",
    "I think this is a difficult task when using a machine learning approach, since in some culture a single word represents various meanings, and\n",
    "also where the position of the word may affect the meaning, too. Moreover, when people speaks in a sarcastic way, the RNN will fail since it\n",
    "uses a fixed embedded representation for a word, and it will always has a tendency to positiv/negative that won't change.\n",
    "\n",
    "Baseline model:\n",
    "My simple approach will be first map positive and negative words to a dictionary, and set a score for negative/positive words with -1 and 1, respectively.\n",
    "Next, match the words in the sentence of a data with the dictionary to get a score, then we can easily identify the sentiment of the sentence.\n",
    "This approach can't perform well due to its simple structure, but it's cost efficient, and we can add more sub-tasks to improve the results.\n",
    "'''"
   ]
  },
  {
   "cell_type": "markdown",
   "metadata": {
    "id": "zIR3Q5l0v1HP"
   },
   "source": [
    "# PART B - Transfer Learning\n",
    "\n",
    "For many natural language processing tasks, it is generally not a good idea to train a very large deep neural network model from scratch due to enormous compute requirements and lack of sufficient amounts of training data. Instead, you should always try to take advantage of an existing model that performs similar tasks as the one you need to solve.\n",
    "\n",
    "In this part of the assignment we will be using pretrained models to improve the performance on identifying positive and negative reviews. There are several pretrained models that are available to us, here we will use a pretrained BERT model that comes with the hugging face transformer library.\n",
    "\n",
    "Provided below is sample code to get you started. For more details please visit the hugging face tutorial on using pretrained models using PyTorch: https://huggingface.co/docs/transformers/training\n",
    "\n",
    "#### Sample Code"
   ]
  },
  {
   "cell_type": "code",
   "execution_count": null,
   "metadata": {
    "id": "5R-_BQyiAMoo"
   },
   "outputs": [],
   "source": [
    "# install relevant libraries\n",
    "!pip install -qq transformers"
   ]
  },
  {
   "cell_type": "code",
   "execution_count": null,
   "metadata": {},
   "outputs": [],
   "source": [
    "# load standard modules/libraries\n",
    "import pandas as pd\n",
    "import numpy as np\n",
    "import matplotlib.pyplot as plt\n",
    "import seaborn as sns\n",
    "from sklearn.model_selection import train_test_split\n",
    "\n",
    "# load special modules/libraries\n",
    "import os\n",
    "import warnings\n",
    "import nltk\n",
    "from nltk.corpus import stopwords\n",
    "# nltk.download('stopwords')\n",
    "\n",
    "from collections import Counter\n",
    "import string\n",
    "import re\n",
    "from tqdm  import tqdm\n",
    "\n",
    "# load pytorch modules/libraries\n",
    "import torch\n",
    "import torch.nn as nn\n",
    "import torch.nn.functional as F\n",
    "import torch.optim as optim\n",
    "from torch.utils.data import TensorDataset,DataLoader\n",
    "\n",
    "import gc"
   ]
  },
  {
   "cell_type": "code",
   "execution_count": 31,
   "metadata": {},
   "outputs": [],
   "source": [
    "# download IMDB review data\n",
    "\n",
    "# load dataset\n",
    "df = pd.read_csv(\"IMDB Dataset.csv\")\n",
    "\n",
    "# process into data and labels\n",
    "X = df['review'].values\n",
    "y = df['sentiment'].values"
   ]
  },
  {
   "cell_type": "code",
   "execution_count": 312,
   "metadata": {
    "id": "316Xs5WBv0kg"
   },
   "outputs": [],
   "source": [
    "# load relevant libraries\n",
    "import transformers\n",
    "from transformers import BertModel, BertTokenizer, AdamW, get_linear_schedule_with_warmup\n",
    "\n",
    "PRE_TRAINED_MODEL_NAME = 'bert-base-cased'\n",
    "\n",
    "tokenizer = BertTokenizer.from_pretrained(PRE_TRAINED_MODEL_NAME)\n",
    "bert_model = BertModel.from_pretrained(PRE_TRAINED_MODEL_NAME)\n",
    "\n",
    "################### SUBMISSION NOTE ####################################\n",
    "#  - output of this cell creates issues for converting ipynb to HTML\n",
    "#  - you may want to delete this output when you are ready to submit"
   ]
  },
  {
   "cell_type": "code",
   "execution_count": null,
   "metadata": {
    "id": "_20pdf-tYySb"
   },
   "outputs": [],
   "source": [
    "sample_txt = 'I want to learn how to do sentiment analysis using BERT and tokenizer.'\n",
    "\n",
    "encoding = tokenizer.encode_plus(\n",
    "  sample_txt,\n",
    "  max_length=32,\n",
    "  add_special_tokens=True, # Add '[CLS]' and '[SEP]'\n",
    "  return_token_type_ids=False,\n",
    "  pad_to_max_length=True,\n",
    "  return_attention_mask=True,\n",
    "  return_tensors='pt',  # Return PyTorch tensors\n",
    "  truncation = True\n",
    ")"
   ]
  },
  {
   "cell_type": "code",
   "execution_count": null,
   "metadata": {
    "id": "O1B4RiOOcbGY"
   },
   "outputs": [
    {
     "name": "stdout",
     "output_type": "stream",
     "text": []
    }
   ],
   "source": [
    "encoding['input_ids']"
   ]
  },
  {
   "cell_type": "code",
   "execution_count": null,
   "metadata": {
    "id": "7sZ1j9PfceFF"
   },
   "outputs": [
    {
     "name": "stdout",
     "output_type": "stream",
     "text": []
    }
   ],
   "source": [
    "encoding['attention_mask']"
   ]
  },
  {
   "cell_type": "code",
   "execution_count": 34,
   "metadata": {
    "id": "dZ458Q_uYzxu"
   },
   "outputs": [],
   "source": [
    "hidden_states = bert_model(input_ids=encoding['input_ids'],\n",
    "                           attention_mask=encoding['attention_mask'])[0]\n",
    "pooled_output = bert_model(input_ids=encoding['input_ids'],\n",
    "                           attention_mask=encoding['attention_mask'])[1]"
   ]
  },
  {
   "cell_type": "code",
   "execution_count": 35,
   "metadata": {
    "id": "GqwUAEIzZNBO"
   },
   "outputs": [
    {
     "name": "stdout",
     "output_type": "stream",
     "text": [
      "768\n",
      "torch.Size([1, 32, 768])\n",
      "torch.Size([1, 768])\n"
     ]
    }
   ],
   "source": [
    "hidden_size = bert_model.config.hidden_size\n",
    "print(hidden_size)\n",
    "print(hidden_states.shape)\n",
    "print(pooled_output.shape)"
   ]
  },
  {
   "cell_type": "markdown",
   "metadata": {
    "id": "7HCaqLDaZo2l"
   },
   "source": [
    "In the sample code provided we loaded a short text sequence, tokenized it using the same tokenization that was used in the pretrained BERT model, and fed the tokenized input into the BERT model to obtain the embeddings.\n",
    "\n",
    "The model output consists of two forms of embeddings:\n",
    "- **hidden_states** are the final layer of outputs that has a shape sequence_length x embeddings, much like the hidden states of a recurrent neural network\n",
    "- **pooled_output** is the result of applying max pooling on the hidden states to effectively collapse the sequence dimenension and ensure the same output size for any given sequence before feeding into the classification stage\n",
    "\n",
    "Note that we preprocess all of the data prior to training a classifier stage for sentiment analysis to help speed up the training process. This is no different from the process we applied in an earlier assignment using AlexNet and image data."
   ]
  },
  {
   "cell_type": "markdown",
   "metadata": {
    "id": "4le9bqnuc2JZ"
   },
   "source": [
    "## Part 1. Data Loading [5 pt]\n",
    "\n",
    "We will be using the same \"IMDB Movie Review Dataset\" that we used earlier. Reload the data and complete Part B of the assignment. You should be able to complete part B independently from Part A.\n",
    "\n",
    "### Part (i) [1pt EXPLORATORY]\n",
    "\n",
    "Provided below is a DataLoader for your training and test datasets so you can iterate over batches of data. Run the DataLoader to create your training, validation, and test data."
   ]
  },
  {
   "cell_type": "code",
   "execution_count": 314,
   "metadata": {
    "id": "LzlpaXmteHQd"
   },
   "outputs": [],
   "source": [
    "from torch.utils.data import Dataset, DataLoader\n",
    "\n",
    "class MovieReviewDataset(Dataset):\n",
    "    def __init__(\n",
    "        self,\n",
    "        reviews,\n",
    "        targets,\n",
    "        tokenizer,\n",
    "        max_len,\n",
    "        bert_model=None,\n",
    "        embed_folder='embeddings',\n",
    "        precompute=True\n",
    "    ):\n",
    "        \"\"\"\n",
    "        reviews     : array/list of text data\n",
    "        targets     : array/list of 'positive'/'negative' labels\n",
    "        tokenizer   : BERT tokenizer\n",
    "        max_len     : maximum sequence length for tokenization\n",
    "        bert_model  : a BERT model for generating embeddings (if precompute=True)\n",
    "        embed_folder: folder to store .pt files of precomputed embeddings\n",
    "        precompute  : True -> generate & save embeddings, False -> load from disk only\n",
    "        \"\"\"\n",
    "        self.reviews = reviews\n",
    "        self.targets = targets\n",
    "        self.tokenizer = tokenizer\n",
    "        self.max_len = max_len\n",
    "        self.bert_model = bert_model\n",
    "        self.embed_folder = embed_folder\n",
    "        self.precompute = precompute\n",
    "\n",
    "        # Create the folder if it doesn't exist\n",
    "        if not os.path.exists(self.embed_folder):\n",
    "            os.makedirs(self.embed_folder)\n",
    "\n",
    "        if self.precompute and (self.bert_model is not None):\n",
    "            self._precompute_embeddings()\n",
    "\n",
    "    def __len__(self):\n",
    "        return len(self.reviews)\n",
    "\n",
    "    def __getitem__(self, idx):\n",
    "        \"\"\"\n",
    "        Returns a dictionary with:\n",
    "          - 'review_text'   : original text (optional, for reference)\n",
    "          - 'pooled_output' : [768]-dim embedding from BERT\n",
    "          - 'last_hidden'   : [seq_len, 768] from the last hidden layer\n",
    "          - 'targets'       : 0 or 1\n",
    "        \"\"\"\n",
    "        review = str(self.reviews[idx])\n",
    "        target = self.targets[idx]\n",
    "\n",
    "        embed_path = os.path.join(self.embed_folder, f'embedding_{idx}.pt')\n",
    "        # Load precomputed embeddings\n",
    "        embedding_dict = torch.load(embed_path)\n",
    "        target = embedding_dict['target']\n",
    "\n",
    "        return {\n",
    "            'review_text': review,\n",
    "            'pooled_output': embedding_dict['pooled'],\n",
    "            'last_hidden': embedding_dict['last'],\n",
    "            'targets': torch.tensor(target, dtype=torch.long)\n",
    "        }\n",
    "\n",
    "\n",
    "    def _precompute_embeddings(self, batch_size=256, device=\"cuda\"):\n",
    "        \"\"\"\n",
    "        Precompute embeddings in batches rather than one by one.\n",
    "        \"\"\"\n",
    "        # Move the model to device (CPU/GPU)\n",
    "        self.bert_model = self.bert_model.to(device)\n",
    "        self.bert_model.eval()\n",
    "\n",
    "        print(\"Precomputing BERT embeddings (batched)...\")\n",
    "\n",
    "        # 1) Tokenize everything\n",
    "        encodings = [self.tokenizer.encode_plus(\n",
    "            str(review),\n",
    "            add_special_tokens=True,\n",
    "            max_length=self.max_len,\n",
    "            return_token_type_ids=False,\n",
    "            pad_to_max_length=True,\n",
    "            return_attention_mask=True,\n",
    "            return_tensors='pt',\n",
    "            truncation=True\n",
    "        ) for review in self.reviews]\n",
    "        input_ids = torch.cat([e['input_ids'] for e in encodings], dim=0)\n",
    "        attention_masks = torch.cat([e['attention_mask'] for e in encodings], dim=0)\n",
    "\n",
    "        # 2) Create a TensorDataset and DataLoader\n",
    "        dataset_tensors = TensorDataset(input_ids, attention_masks)\n",
    "        dataloader = DataLoader(dataset_tensors, batch_size=batch_size, shuffle=False)\n",
    "\n",
    "        # We'll need to index back into `self.reviews` to save each sample’s .pt\n",
    "        idx_offset = 0\n",
    "\n",
    "        for batch in tqdm(dataloader, total=len(dataloader)):\n",
    "            input_ids, attention_mask = [t.to(device) for t in batch]\n",
    "\n",
    "            with torch.no_grad():\n",
    "                outputs = self.bert_model(\n",
    "                    input_ids=input_ids,\n",
    "                    attention_mask=attention_mask,\n",
    "                    output_hidden_states=True\n",
    "                )\n",
    "            # outputs.pooler_output.shape is [batch_size, hidden_dim]\n",
    "            # outputs.hidden_states[-1].shape is [batch_size, seq_len, hidden_dim]\n",
    "\n",
    "            pooled_output_batch = outputs.pooler_output.detach().cpu()\n",
    "            last_hidden_batch = outputs.hidden_states[-1].detach().cpu()\n",
    "\n",
    "            # 3) Save each sample in the batch\n",
    "            for i in range(len(input_ids)):\n",
    "                sample_idx = idx_offset + i\n",
    "                label = int(self.targets[sample_idx])  # Fetch the label from the original targets list\n",
    "\n",
    "                embedding_dict = {\n",
    "                    'pooled': pooled_output_batch[i].clone(),\n",
    "                    'last': last_hidden_batch[i].clone(),\n",
    "                    'target': label \n",
    "                }\n",
    "\n",
    "                embed_path = os.path.join(self.embed_folder, f'embedding_{sample_idx}.pt')\n",
    "                torch.save(embedding_dict, embed_path)\n",
    "\n",
    "                print(f\"Saved idx {sample_idx} with label: {label}\")\n",
    "\n",
    "\n",
    "            idx_offset += len(input_ids)\n",
    "\n",
    "        print(\"Done precomputing embeddings.\")\n"
   ]
  },
  {
   "cell_type": "code",
   "execution_count": null,
   "metadata": {},
   "outputs": [
    {
     "name": "stdout",
     "output_type": "stream",
     "text": [
      "Training: 23838, Validation: 7946, Test: 7947\n"
     ]
    }
   ],
   "source": [
    "from sklearn.model_selection import train_test_split\n",
    "\n",
    "df = df.drop_duplicates(subset='review').reset_index(drop=True)\n",
    "\n",
    "df_train, df_temp = train_test_split(df, test_size=0.4, random_state=42, stratify=df['sentiment'])\n",
    "df_valid, df_test = train_test_split(df_temp, test_size=0.5, random_state=42, stratify=df_temp['sentiment'])\n",
    "df_train = df_train.reset_index(drop=True)\n",
    "df_valid = df_valid.reset_index(drop=True)\n",
    "df_test = df_test.reset_index(drop=True)\n",
    "\n",
    "print(f\"Training: {len(df_train)}, Validation: {len(df_valid)}, Test: {len(df_test)}\")"
   ]
  },
  {
   "cell_type": "code",
   "execution_count": null,
   "metadata": {},
   "outputs": [
    {
     "name": "stdout",
     "output_type": "stream",
     "text": [
      "Overlap between train and valid: 0\n",
      "Overlap between train and test : 0\n",
      "Overlap between valid and test : 0\n"
     ]
    }
   ],
   "source": [
    "train_reviews = set(df_train['review'])\n",
    "valid_reviews = set(df_valid['review'])\n",
    "test_reviews = set(df_test['review'])\n",
    "\n",
    "print(\"Overlap between train and valid:\", len(train_reviews & valid_reviews))\n",
    "print(\"Overlap between train and test :\", len(train_reviews & test_reviews))\n",
    "print(\"Overlap between valid and test :\", len(valid_reviews & test_reviews))"
   ]
  },
  {
   "cell_type": "code",
   "execution_count": 317,
   "metadata": {
    "id": "27_5roCZeI8T"
   },
   "outputs": [],
   "source": [
    "from tqdm import tqdm\n",
    "\n",
    "# prepare data loaders\n",
    "MAX_LEN = 400\n",
    "BATCH_SIZE = 32\n",
    "num_workers = 0\n",
    "pin_memory = True\n",
    "precompute = False\n",
    "\n",
    "device = torch.device(\"cuda\" if torch.cuda.is_available() else \"cpu\")\n",
    "\n",
    "#training data\n",
    "train_dataset = MovieReviewDataset(\n",
    "    reviews=df_train['review'].values,\n",
    "    targets=df_train['sentiment'].values,\n",
    "    tokenizer=tokenizer,\n",
    "    max_len=MAX_LEN,\n",
    "    bert_model=bert_model,       # required if we want to precompute now\n",
    "    embed_folder='train_embeds', # folder to save embeddings\n",
    "    precompute=precompute          # set to True so we generate them\n",
    ")\n",
    "\n",
    "train_data_loader = DataLoader(\n",
    "    train_dataset,\n",
    "    batch_size=BATCH_SIZE,\n",
    "    num_workers=num_workers,\n",
    "    pin_memory=pin_memory,\n",
    "    shuffle=False\n",
    ") \n",
    "\n",
    "#validation data\n",
    "\n",
    "# TO BE COMPLETED\n",
    "valid_dataset = MovieReviewDataset(\n",
    "    reviews=df_valid['review'].values,  \n",
    "    targets=df_valid['sentiment'].values,\n",
    "    tokenizer=tokenizer,\n",
    "    max_len=MAX_LEN,\n",
    "    bert_model=bert_model,       # required if we want to precompute now\n",
    "    embed_folder='valid_embeds', # folder to save embeddings\n",
    "    precompute=precompute          # set to True so we generate them\n",
    ")\n",
    "\n",
    "valid_data_loader = DataLoader(\n",
    "    valid_dataset,\n",
    "    batch_size=BATCH_SIZE,\n",
    "    num_workers=num_workers,\n",
    "    pin_memory=pin_memory\n",
    ")\n",
    "\n",
    "#test data\n",
    "\n",
    "# TO BE COMPLETED\n",
    "test_dataset = MovieReviewDataset(\n",
    "    reviews=df_test['review'].values,  \n",
    "    targets=df_test['sentiment'].values,\n",
    "    tokenizer=tokenizer,\n",
    "    max_len=MAX_LEN,\n",
    "    bert_model=bert_model,       # required if we want to precompute now\n",
    "    embed_folder='test_embeds',  # folder to save embeddings\n",
    "    precompute=precompute          # set to True so we generate them\n",
    ")\n",
    "\n",
    "test_data_loader = DataLoader(\n",
    "    test_dataset,\n",
    "    batch_size=BATCH_SIZE,\n",
    "    num_workers=num_workers,\n",
    "    pin_memory=pin_memory\n",
    ")"
   ]
  },
  {
   "cell_type": "markdown",
   "metadata": {
    "id": "g0ymyMvzfdVv"
   },
   "source": [
    "### Part (ii) [1pt EXPLORATORY]\n",
    "\n",
    "Use the **train_data_loader** to load one sample. What are the different attributes provided with the sample and how are they used?"
   ]
  },
  {
   "cell_type": "code",
   "execution_count": 318,
   "metadata": {
    "id": "UgdwGNtik1ZR"
   },
   "outputs": [
    {
     "name": "stdout",
     "output_type": "stream",
     "text": [
      "dict_keys(['review_text', 'pooled_output', 'last_hidden', 'targets'])\n",
      "Review Text: Thought I just might get a few laughs from this long drawn out film, but was sadly disappointed. This film is all about losers who spend most of their time trying to get a passing grade with out even trying to open a book or accomplish anything. The film also portrayed teachers and the principal, Mary Tyler Moore (Mrs. Stark),\"Labor Pains\",2000 as complete idiots. I know this was suppose to be a comedy, but it never made me laugh and I thought the entire film was a COMPLETE WASTE OF TIME! However, all the actors gave excellent performances and had the hard task of trying to make this film an enjoyable and entertaining FILM! Just plain studying and getting good grades for college is the only way to GO!\n",
      "Pooled Output Shape: torch.Size([768])\n",
      "Last Hidden Shape: torch.Size([400, 768])\n",
      "Target Label: 0\n"
     ]
    }
   ],
   "source": [
    "# TO BE COMPLETED\n",
    "sample = train_dataset[0]\n",
    "print(sample.keys())\n",
    "print(f\"Review Text: {sample['review_text']}\")\n",
    "print(f\"Pooled Output Shape: {sample['pooled_output'].shape}\")\n",
    "print(f\"Last Hidden Shape: {sample['last_hidden'].shape}\")\n",
    "print(f\"Target Label: {sample['targets']}\")"
   ]
  },
  {
   "cell_type": "code",
   "execution_count": null,
   "metadata": {
    "id": "OOVKM8kPdPwC"
   },
   "outputs": [],
   "source": [
    "'''\n",
    "PROVIDE YOUR ANSWER BELOW\n",
    "There are four attributes with the sample, including reviewing_text, pooled_output, last_function, and targets.\n",
    "Applications:\n",
    "1. reviewing_text: just for reference and debugging\n",
    "2. pooled_output: it's a 768 dim vector, which extracted from BERT's CLS token representation, which represents as\n",
    "a fixed-size representation of the entire review.\n",
    "3. last_hidden: each word has a 768 dim vectore representation, which can be used for per-word embeddings\n",
    "4. targets: the ground truth label for loss computation\n",
    "'''"
   ]
  },
  {
   "cell_type": "markdown",
   "metadata": {
    "id": "GXQt2HiGfh4p"
   },
   "source": [
    "### Part (iii) [1pt EXPLORATORY]\n",
    "\n",
    "Determine the range of values for the tokens in the training data. How are the tokens obtained?\n",
    "\n",
    "Hint: You can apply your intuition here, or do some additional research to find how the \"bert-base-cased\" tokenization is done."
   ]
  },
  {
   "cell_type": "code",
   "execution_count": 319,
   "metadata": {
    "id": "6cVEH5YhkYUQ"
   },
   "outputs": [
    {
     "name": "stdout",
     "output_type": "stream",
     "text": [
      "101 27157\n"
     ]
    }
   ],
   "source": [
    "# TO BE COMPLETED\n",
    "input_ids = tokenizer.encode(sample['review_text'], add_special_tokens=True)\n",
    "\n",
    "min_token_value = min(input_ids)\n",
    "max_token_value = max(input_ids)\n",
    "\n",
    "print(min_token_value, max_token_value)"
   ]
  },
  {
   "cell_type": "code",
   "execution_count": null,
   "metadata": {
    "id": "Im2KNoOPdYHU"
   },
   "outputs": [
    {
     "name": "stdout",
     "output_type": "stream",
     "text": []
    }
   ],
   "source": [
    "'''\n",
    "PROVIDE YOUR ANSWER BELOW\n",
    "The tokens in the training data are obtained using a pretrained tokenizer such as BERT's tokenizer. \n",
    "This tokenizer splits each input review into subword units, then maps each subword token to a unique integer ID from the model's vocabulary. \n",
    "Special tokens such as [CLS] and [SEP] are also added automatically.\n",
    "'''"
   ]
  },
  {
   "cell_type": "markdown",
   "metadata": {
    "id": "6CYKglzbfTmw"
   },
   "source": [
    "### Part (iv) [1pt EXPLORATORY]\n",
    "\n",
    "Generate histograms of all the token values in the training data. Repeat for the validation and test data. What are the top 5 occuring tokens in the training_dataset? What do these tokens represent?"
   ]
  },
  {
   "cell_type": "code",
   "execution_count": null,
   "metadata": {
    "id": "HTZdkR7ukhRg"
   },
   "outputs": [
    {
     "name": "stdout",
     "output_type": "stream",
     "text": [
      "Processing 23838 samples from Training Data...\n"
     ]
    },
    {
     "name": "stderr",
     "output_type": "stream",
     "text": [
      "Tokenizing Training Data: 100%|██████████| 23838/23838 [05:31<00:00, 71.90sample/s]\n"
     ]
    },
    {
     "name": "stdout",
     "output_type": "stream",
     "text": [
      "Finished processing Training Data!\n"
     ]
    },
    {
     "data": {
      "image/png": "[encoded data removed]",
      "text/plain": [
       "<Figure size 1200x600 with 1 Axes>"
      ]
     },
     "metadata": {},
     "output_type": "display_data"
    },
    {
     "name": "stdout",
     "output_type": "stream",
     "text": [
      "Processing 7946 samples from Validation Data...\n"
     ]
    },
    {
     "name": "stderr",
     "output_type": "stream",
     "text": [
      "Tokenizing Validation Data: 100%|██████████| 7946/7946 [01:50<00:00, 71.62sample/s]\n"
     ]
    },
    {
     "name": "stdout",
     "output_type": "stream",
     "text": [
      "Finished processing Validation Data!\n"
     ]
    },
    {
     "data": {
      "image/png": "[encoded data removed]",
      "text/plain": [
       "<Figure size 1200x600 with 1 Axes>"
      ]
     },
     "metadata": {},
     "output_type": "display_data"
    },
    {
     "name": "stdout",
     "output_type": "stream",
     "text": [
      "Processing 7947 samples from Test Data...\n"
     ]
    },
    {
     "name": "stderr",
     "output_type": "stream",
     "text": [
      "Tokenizing Test Data: 100%|██████████| 7947/7947 [01:55<00:00, 68.98sample/s]\n"
     ]
    },
    {
     "name": "stdout",
     "output_type": "stream",
     "text": [
      "Finished processing Test Data!\n"
     ]
    },
    {
     "data": {
      "image/png": "[encoded data removed]",
      "text/plain": [
       "<Figure size 1200x600 with 1 Axes>"
      ]
     },
     "metadata": {},
     "output_type": "display_data"
    },
    {
     "data": {
      "text/plain": [
       "[('.', (119, 274853)),\n",
       " ('the', (1103, 240724)),\n",
       " (',', (117, 225496)),\n",
       " ('a', (170, 132529)),\n",
       " ('and', (1105, 129894))]"
      ]
     },
     "execution_count": 43,
     "metadata": {},
     "output_type": "execute_result"
    }
   ],
   "source": [
    "def plot_token_histogram_with_progress(dataset, tokenizer, dataset_name=\"Dataset\", max_length=512):\n",
    "    \n",
    "    gc.collect()\n",
    "    torch.cuda.empty_cache()\n",
    "\n",
    "    token_counts = Counter()\n",
    "    print(f\"Processing {len(dataset)} samples from {dataset_name}...\")\n",
    "\n",
    "    for i in tqdm(range(len(dataset)), desc=f\"Tokenizing {dataset_name}\", unit=\"sample\"):\n",
    "        review_text = dataset[i]['review_text']\n",
    "        encoded = tokenizer.encode(\n",
    "            review_text, \n",
    "            add_special_tokens=True, \n",
    "            truncation=True,\n",
    "            max_length=max_length  \n",
    "        )\n",
    "\n",
    "        token_counts.update(encoded) \n",
    "    print(f\"Finished processing {dataset_name}!\")\n",
    "\n",
    "    tokens, counts = zip(*token_counts.most_common(50))  \n",
    "\n",
    "    # Plot histogram\n",
    "    plt.figure(figsize=(12, 6))\n",
    "    plt.bar(tokens, counts, edgecolor='black', alpha=0.75)\n",
    "    plt.xlabel(\"Token ID\")\n",
    "    plt.ylabel(\"Frequency\")\n",
    "    plt.title(f\"Token Value Distribution in {dataset_name}\")\n",
    "    plt.xticks(rotation=90) \n",
    "    plt.yscale(\"log\")\n",
    "    plt.show()\n",
    "\n",
    "    return token_counts.most_common(5)  # return top 5 most common tokens\n",
    "\n",
    "top_5_train_tokens = plot_token_histogram_with_progress(train_dataset, tokenizer, \"Training Data\")\n",
    "top_5_valid_tokens = plot_token_histogram_with_progress(valid_dataset, tokenizer, \"Validation Data\")\n",
    "top_5_test_tokens = plot_token_histogram_with_progress(test_dataset, tokenizer, \"Test Data\")\n",
    "\n",
    "decoded_train_tokens = tokenizer.convert_ids_to_tokens([token[0] for token in top_5_train_tokens])\n",
    "\n",
    "list(zip(decoded_train_tokens, top_5_train_tokens))"
   ]
  },
  {
   "cell_type": "code",
   "execution_count": null,
   "metadata": {
    "id": "fS1c0a6wddHl"
   },
   "outputs": [],
   "source": [
    "'''\n",
    "PROVIDE YOUR ANSWER BELOW\n",
    "The output above represents the 5 most common tokens, which is '.', 'the', ',', 'a', and 'and'.\n",
    "'''"
   ]
  },
  {
   "cell_type": "markdown",
   "metadata": {
    "id": "3ElnJDdgcaiy"
   },
   "source": [
    "### Part (v) [1pt EXPLORATORY]\n",
    "\n",
    "Select a single sample from your training DataLoader and feed it through the **bert_model** to obtain the hidden_states and pooled_output. Briefly describe what each tensor dimension represents and what affects the size of each dimension."
   ]
  },
  {
   "cell_type": "code",
   "execution_count": 44,
   "metadata": {
    "id": "1HOknY9Ncai9"
   },
   "outputs": [
    {
     "name": "stdout",
     "output_type": "stream",
     "text": [
      "Hidden states shape: [torch.Size([1, 512, 768]), torch.Size([1, 512, 768]), torch.Size([1, 512, 768]), torch.Size([1, 512, 768]), torch.Size([1, 512, 768]), torch.Size([1, 512, 768]), torch.Size([1, 512, 768]), torch.Size([1, 512, 768]), torch.Size([1, 512, 768]), torch.Size([1, 512, 768]), torch.Size([1, 512, 768]), torch.Size([1, 512, 768]), torch.Size([1, 512, 768])]\n",
      "Pooled output shape: torch.Size([1, 768])\n"
     ]
    },
    {
     "name": "stderr",
     "output_type": "stream",
     "text": [
      "c:\\Users\\Austin\\anaconda3\\envs\\MIE1517\\lib\\site-packages\\transformers\\models\\bert\\modeling_bert.py:440: UserWarning: 1Torch was not compiled with flash attention. (Triggered internally at C:\\cb\\pytorch_1000000000000\\work\\aten\\src\\ATen\\native\\transformers\\cuda\\sdp_utils.cpp:455.)\n",
      "  attn_output = torch.nn.functional.scaled_dot_product_attention(\n"
     ]
    }
   ],
   "source": [
    "# TO BE COMPLETED\n",
    "# get single batch from the training DataLoader\n",
    "sample_batch = next(iter(train_dataset))\n",
    "\n",
    "# extract review text from the batch\n",
    "sample_text = sample_batch['review_text']\n",
    "\n",
    "# tokenize the review text for BERT input\n",
    "encoded_input = tokenizer.encode_plus(\n",
    "    sample_text,\n",
    "    add_special_tokens=True,\n",
    "    max_length=512,\n",
    "    truncation=True,\n",
    "    padding=\"max_length\",\n",
    "    return_tensors=\"pt\"\n",
    ")\n",
    "\n",
    "device = torch.device(\"cuda\" if torch.cuda.is_available() else \"cpu\")\n",
    "input_ids = encoded_input['input_ids'].to(device)\n",
    "attention_mask = encoded_input['attention_mask'].to(device)\n",
    "\n",
    "# Load pre-trained BERT model\n",
    "bert_model = BertModel.from_pretrained(\"bert-base-cased\").to(device)\n",
    "\n",
    "# Get the outputs from BERT\n",
    "with torch.no_grad():\n",
    "    outputs = bert_model(input_ids, attention_mask=attention_mask, output_hidden_states=True)\n",
    "\n",
    "# Extract hidden_states and pooled_output\n",
    "hidden_states = outputs.hidden_states\n",
    "pooled_output = outputs.pooler_output  \n",
    "hidden_states_shape = [layer.shape for layer in hidden_states]  \n",
    "pooled_output_shape = pooled_output.shape\n",
    "\n",
    "print(\"Hidden states shape:\", hidden_states_shape)\n",
    "print(\"Pooled output shape:\", pooled_output_shape)"
   ]
  },
  {
   "cell_type": "code",
   "execution_count": null,
   "metadata": {
    "id": "34OnAb9EdjtW"
   },
   "outputs": [],
   "source": [
    "'''\n",
    "PROVIDE YOUR ANSWER BELOW\n",
    "There are 13 tensors in the hidden states, each with a shape of (1, 512, 768), representing the token embeddings at each of BERT's 12 transformer layers with \n",
    "a initial embedding layer. Each word in the review is represented by a 768 dim vector, with 512 tokens per sequence because of padding and truncation.\n",
    "The pooling output has a shape of (1, 768), which represents a compressed sentence-level embedding derived from the CLS token.\n",
    "The hidden states are mostly used in world-level tasks like token classficiation, and the pooled output is best used for sentence-level tasks such as\n",
    "sentiment analysis.\n",
    "'''"
   ]
  },
  {
   "cell_type": "markdown",
   "metadata": {
    "id": "rDbQ7nRBek5S"
   },
   "source": [
    "## Part 2. Model Architecture [2 pt]\n",
    "\n",
    "### Part (i) [1pt MODEL]\n",
    "\n",
    "Prepare a review classifier model that builds on the pooled output from the Bert model to identify positive and negative reviews.\n",
    "\n",
    "\n",
    "An example is provided below in `BaselineSentimentClassifierPooled`, which you can use for inspiration. However, you should build your own model."
   ]
  },
  {
   "cell_type": "code",
   "execution_count": 45,
   "metadata": {
    "id": "gNDd-010GSnM"
   },
   "outputs": [],
   "source": [
    "class BaselineSentimentClassifierPooled(nn.Module):\n",
    "    def __init__(self, n_classes):\n",
    "        super(BaselineSentimentClassifierPooled, self).__init__()\n",
    "        self.linear = nn.Linear(768, n_classes)\n",
    "\n",
    "    def forward(self, pooled_embedding):\n",
    "        \"\"\"\n",
    "        pooled_embedding: shape [batch_size, 768]\n",
    "        \"\"\"\n",
    "        outputs = self.linear(pooled_embedding)\n",
    "        return outputs\n"
   ]
  },
  {
   "cell_type": "code",
   "execution_count": 46,
   "metadata": {
    "id": "kAISbN5VexqS"
   },
   "outputs": [],
   "source": [
    "class SentimentClassifierPooled(nn.Module):\n",
    "    def __init__(self, n_classes):\n",
    "        super(SentimentClassifierPooled, self).__init__()\n",
    "        # More complex architecture\n",
    "        self.fc1 = nn.Linear(768, 256)\n",
    "        self.fc2 = nn.Linear(256, 1)\n",
    "        \n",
    "    def forward(self, pooled_embedding):\n",
    "        x = self.fc1(pooled_embedding)\n",
    "        x = F.relu(x)\n",
    "        x = self.fc2(x)\n",
    "        \n",
    "        return x.squeeze(1)"
   ]
  },
  {
   "cell_type": "markdown",
   "metadata": {
    "id": "RLFzooLUgn3c"
   },
   "source": [
    "### Part (ii) [1pt MODEL]\n",
    "\n",
    "Construct the architecture for a review classifier model that uses the last hidden output from the Bert model to identify positive and negative reviews.\n",
    "\n",
    "An example is provided below in `BaselineSentimentClassifierLast`, which you can use for inspiration . However, you should build your own model.\n"
   ]
  },
  {
   "cell_type": "code",
   "execution_count": 47,
   "metadata": {
    "id": "pqDKQse6H-Y6"
   },
   "outputs": [],
   "source": [
    "class BaselineSentimentClassifierLast(nn.Module):\n",
    "    def __init__(self, n_classes):\n",
    "        super(BaselineSentimentClassifierLast, self).__init__()\n",
    "        # Again, no BERT directly needed if using precomputed data\n",
    "        self.linear = nn.Linear(768, n_classes)\n",
    "\n",
    "\n",
    "    def forward(self, last_hidden):\n",
    "        \"\"\"\n",
    "        last_hidden: shape [batch_size, seq_len, 768]\n",
    "        We'll do a simple max-pool across seq_len dimension => shape [batch_size, 768]\n",
    "        \"\"\"\n",
    "        # last_hidden has shape [B, T, 768]\n",
    "        # we want max across T => shape [B, 768]\n",
    "        x, _ = torch.max(last_hidden, dim=1)\n",
    "        x = self.dropout(x)\n",
    "        outputs = self.linear(x)\n",
    "        return outputs\n"
   ]
  },
  {
   "cell_type": "code",
   "execution_count": 48,
   "metadata": {
    "id": "Q34oWGhoe38H"
   },
   "outputs": [],
   "source": [
    "class SentimentClassifierLast(nn.Module):\n",
    "    def __init__(self):\n",
    "        super().__init__()\n",
    "        self.fc1 = nn.Linear(768, 256)\n",
    "        self.fc2 = nn.Linear(256, 1)\n",
    "        self.dropout = nn.Dropout(0.3)\n",
    "\n",
    "    def forward(self, last_hidden):\n",
    "        x, _ = torch.max(last_hidden, dim=1)\n",
    "        x = F.relu(self.fc1(x))\n",
    "        x = self.dropout(x)\n",
    "        return self.fc2(x)\n"
   ]
  },
  {
   "cell_type": "markdown",
   "metadata": {
    "id": "nqkKp1CgiYZb"
   },
   "source": [
    "## Part 3. Training [3 pt]\n",
    "\n",
    "### Part (i) [1pt MODEL]\n",
    "\n",
    "Complete the `get_accuracy` function, which will compute the\n",
    "accuracy (rate) of your model across a dataset (e.g. validation set)."
   ]
  },
  {
   "cell_type": "code",
   "execution_count": null,
   "metadata": {
    "id": "LC89f2i7iYZl"
   },
   "outputs": [],
   "source": [
    "def get_accuracy(model, data):\n",
    "    \"\"\" Compute the accuracy of the `model` across a dataset `data`\n",
    "\n",
    "    Example usage:\n",
    "\n",
    "    >>> model = MyRNN() # to be defined\n",
    "    >>> get_accuracy(model, valid_loader) # the variable `valid_loader` is from above\n",
    "    \"\"\"\n",
    "\n",
    "    # TO BE COMPLETED\n",
    "    model.eval()  \n",
    "    correct = 0\n",
    "    total = 0\n",
    "\n",
    "    with torch.no_grad(): \n",
    "        for batch in data_loader:\n",
    "            inputs = batch['last_hidden'].to(device)  \n",
    "            labels = batch['targets'].to(device)\n",
    "\n",
    "            outputs = model(inputs)  \n",
    "            predictions = torch.argmax(outputs, dim=1)  \n",
    "\n",
    "            correct += (predictions == labels).sum().item()\n",
    "            total += labels.size(0)\n",
    "\n",
    "    accuracy = correct / total\n",
    "    return accuracy"
   ]
  },
  {
   "cell_type": "markdown",
   "metadata": {
    "id": "ruaRg5JCiYZm"
   },
   "source": [
    "### Part (ii) [1pt MODEL]\n",
    "\n",
    "Write a function **train_model** to train your model. Plot the training curve of your final model.\n",
    "Your training curve should have the training/validation loss and\n",
    "accuracy plotted periodically."
   ]
  },
  {
   "cell_type": "code",
   "execution_count": null,
   "metadata": {},
   "outputs": [],
   "source": [
    "def train_model(\n",
    "    model, train_loader, valid_loader, criterion, optimizer, epochs=10, \n",
    "    device=\"cuda\" if torch.cuda.is_available() else \"cpu\", use_pooled=True\n",
    "):\n",
    "    model.to(device)\n",
    "\n",
    "    history = {\n",
    "        'train_loss': [], 'train_acc': [],\n",
    "        'val_loss': [], 'val_acc': []\n",
    "    }\n",
    "\n",
    "    for epoch in range(1, epochs + 1):\n",
    "        # Training\n",
    "        model.train()\n",
    "        train_loss, train_correct, train_total = 0.0, 0, 0\n",
    "        train_progress = tqdm(train_loader, desc=f\"[Epoch {epoch}/{epochs}] Training\")\n",
    "\n",
    "        for batch in train_progress:\n",
    "            inputs = batch['pooled_output' if use_pooled else 'last_hidden'].to(device)\n",
    "            targets = batch['targets'].float().to(device)\n",
    "\n",
    "            optimizer.zero_grad()\n",
    "            outputs = model(inputs)\n",
    "            loss = criterion(outputs, targets)\n",
    "            loss.backward()\n",
    "            optimizer.step()\n",
    "\n",
    "            train_loss += loss.item() * inputs.size(0)\n",
    "            predictions = (torch.sigmoid(outputs) > 0.5).float()\n",
    "            train_correct += (predictions == targets).sum().item()\n",
    "            train_total += targets.size(0)\n",
    "\n",
    "            train_progress.set_postfix(loss=loss.item(), acc=f\"{100 * train_correct / train_total:.2f}%\")\n",
    "        train_loss /= train_total\n",
    "        train_acc = 100 * train_correct / train_total\n",
    "\n",
    "        # Validation \n",
    "        model.eval()\n",
    "        val_loss, val_correct, val_total = 0.0, 0, 0\n",
    "        valid_progress = tqdm(valid_loader, desc=f\"[Epoch {epoch}/{epochs}] Validation\", leave=False)\n",
    "\n",
    "        with torch.no_grad():\n",
    "            for batch in valid_progress:\n",
    "                inputs = batch['pooled_output' if use_pooled else 'last_hidden'].to(device)\n",
    "                targets = batch['targets'].float().to(device)\n",
    "\n",
    "                outputs = model(inputs)\n",
    "                loss = criterion(outputs, targets)\n",
    "\n",
    "                val_loss += loss.item() * inputs.size(0)\n",
    "                predictions = (torch.sigmoid(outputs) > 0.5).float()\n",
    "                val_correct += (predictions == targets).sum().item()\n",
    "                val_total += targets.size(0)\n",
    "\n",
    "                valid_progress.set_postfix(loss=loss.item(), acc=f\"{100 * val_correct / val_total:.2f}%\")\n",
    "\n",
    "        val_loss /= val_total\n",
    "        val_acc = 100 * val_correct / val_total\n",
    "        history['train_loss'].append(train_loss)\n",
    "        history['train_acc'].append(train_acc)\n",
    "        history['val_loss'].append(val_loss)\n",
    "        history['val_acc'].append(val_acc)\n",
    "\n",
    "        # Print epoch summary\n",
    "        print(f\"Epoch {epoch}/{epochs}: Train Loss = {train_loss:.4f}, Train Acc = {train_acc:.2f}% | \"\n",
    "              f\"Val Loss = {val_loss:.4f}, Val Acc = {val_acc:.2f}%\")\n",
    "    plot_training_results(history)\n",
    "\n",
    "    return model, history\n",
    "\n",
    "\n",
    "def plot_training_results(history):\n",
    "    epochs_range = range(1, len(history['train_loss']) + 1)\n",
    "\n",
    "    plt.figure(figsize=(12, 5))\n",
    "\n",
    "    # Loss \n",
    "    plt.subplot(1, 2, 1)\n",
    "    plt.plot(epochs_range, history['train_loss'], label=\"Train Loss\")\n",
    "    plt.plot(epochs_range, history['val_loss'], label=\"Validation Loss\")\n",
    "    plt.xlabel(\"Epoch\")\n",
    "    plt.ylabel(\"Loss\")\n",
    "    plt.title(\"Training & Validation Loss\")\n",
    "    plt.legend()\n",
    "    plt.grid()\n",
    "\n",
    "    # Accuracy \n",
    "    plt.subplot(1, 2, 2)\n",
    "    plt.plot(epochs_range, history['train_acc'], label=\"Train Accuracy\")\n",
    "    plt.plot(epochs_range, history['val_acc'], label=\"Validation Accuracy\")\n",
    "    plt.xlabel(\"Epoch\")\n",
    "    plt.ylabel(\"Accuracy (%)\")\n",
    "    plt.title(\"Training & Validation Accuracy\")\n",
    "    plt.legend()\n",
    "    plt.grid()\n",
    "\n",
    "    plt.show()\n"
   ]
  },
  {
   "cell_type": "code",
   "execution_count": 54,
   "metadata": {},
   "outputs": [
    {
     "name": "stderr",
     "output_type": "stream",
     "text": [
      "[Epoch 1/5] Training: 100%|██████████| 745/745 [01:44<00:00,  7.15it/s, acc=64.57%, loss=0.572]\n",
      "                                                                                                 \r"
     ]
    },
    {
     "name": "stdout",
     "output_type": "stream",
     "text": [
      "Epoch 1/5: Train Loss = 0.6281, Train Acc = 64.57% | Val Loss = 0.5905, Val Acc = 68.98%\n"
     ]
    },
    {
     "name": "stderr",
     "output_type": "stream",
     "text": [
      "[Epoch 2/5] Training: 100%|██████████| 745/745 [02:09<00:00,  5.74it/s, acc=70.81%, loss=0.534]\n",
      "                                                                                                 \r"
     ]
    },
    {
     "name": "stdout",
     "output_type": "stream",
     "text": [
      "Epoch 2/5: Train Loss = 0.5674, Train Acc = 70.81% | Val Loss = 0.5467, Val Acc = 72.49%\n"
     ]
    },
    {
     "name": "stderr",
     "output_type": "stream",
     "text": [
      "[Epoch 3/5] Training: 100%|██████████| 745/745 [01:30<00:00,  8.19it/s, acc=73.10%, loss=0.521]\n",
      "                                                                                                 \r"
     ]
    },
    {
     "name": "stdout",
     "output_type": "stream",
     "text": [
      "Epoch 3/5: Train Loss = 0.5373, Train Acc = 73.10% | Val Loss = 0.5220, Val Acc = 74.10%\n"
     ]
    },
    {
     "name": "stderr",
     "output_type": "stream",
     "text": [
      "[Epoch 4/5] Training: 100%|██████████| 745/745 [01:14<00:00, 10.04it/s, acc=74.65%, loss=0.516]\n",
      "                                                                                                 \r"
     ]
    },
    {
     "name": "stdout",
     "output_type": "stream",
     "text": [
      "Epoch 4/5: Train Loss = 0.5185, Train Acc = 74.65% | Val Loss = 0.5071, Val Acc = 75.04%\n"
     ]
    },
    {
     "name": "stderr",
     "output_type": "stream",
     "text": [
      "[Epoch 5/5] Training: 100%|██████████| 745/745 [00:55<00:00, 13.49it/s, acc=75.64%, loss=0.514]\n",
      "                                                                                                 \r"
     ]
    },
    {
     "name": "stdout",
     "output_type": "stream",
     "text": [
      "Epoch 5/5: Train Loss = 0.5063, Train Acc = 75.64% | Val Loss = 0.4967, Val Acc = 75.75%\n"
     ]
    },
    {
     "data": {
      "image/png": "[encoded data removed]",
      "text/plain": [
       "<Figure size 1200x500 with 2 Axes>"
      ]
     },
     "metadata": {},
     "output_type": "display_data"
    }
   ],
   "source": [
    "# Initialize model\n",
    "model = SentimentClassifierPooled(n_classes=1)\n",
    "\n",
    "# Loss function and optimizer\n",
    "criterion = nn.BCEWithLogitsLoss()\n",
    "optimizer = torch.optim.Adam(model.parameters(), lr=1e-4)\n",
    "\n",
    "# Train model\n",
    "trained_model, history = train_model(\n",
    "    model, train_data_loader, valid_data_loader, criterion, optimizer, \n",
    "    epochs=5, use_pooled=True\n",
    ")"
   ]
  },
  {
   "cell_type": "markdown",
   "metadata": {
    "id": "XVvzpQRWiYZm"
   },
   "source": [
    "### Part (iii) [1pt MODEL]\n",
    "\n",
    "Choose at least 4 hyperparameters to tune. Explain how you tuned the hyperparameters. You don't need to include your training curve for every model you trained.\n",
    "Instead, explain what hyperparemters you tuned, what the best validation accuracy was,\n",
    "and the reasoning behind the hyperparameter decisions you made.\n",
    "\n",
    "For this assignment, you should tune more than just your learning rate and epoch.\n",
    "Choose at least 2 hyperparameters that are unrelated to the optimizer."
   ]
  },
  {
   "cell_type": "code",
   "execution_count": 55,
   "metadata": {},
   "outputs": [
    {
     "name": "stderr",
     "output_type": "stream",
     "text": [
      "[Epoch 1/5] Training:   0%|          | 0/745 [00:00<?, ?it/s]"
     ]
    },
    {
     "name": "stderr",
     "output_type": "stream",
     "text": [
      "[Epoch 1/5] Training: 100%|██████████| 745/745 [00:59<00:00, 12.59it/s, acc=69.43%, loss=0.537]\n",
      "                                                                                                 \r"
     ]
    },
    {
     "name": "stdout",
     "output_type": "stream",
     "text": [
      "Epoch 1/5: Train Loss = 0.5787, Train Acc = 69.43% | Val Loss = 0.5084, Val Acc = 75.79%\n"
     ]
    },
    {
     "name": "stderr",
     "output_type": "stream",
     "text": [
      "[Epoch 2/5] Training: 100%|██████████| 745/745 [00:56<00:00, 13.29it/s, acc=75.31%, loss=0.499]\n",
      "                                                                                                 \r"
     ]
    },
    {
     "name": "stdout",
     "output_type": "stream",
     "text": [
      "Epoch 2/5: Train Loss = 0.5080, Train Acc = 75.31% | Val Loss = 0.4691, Val Acc = 78.28%\n"
     ]
    },
    {
     "name": "stderr",
     "output_type": "stream",
     "text": [
      "[Epoch 3/5] Training: 100%|██████████| 745/745 [00:55<00:00, 13.39it/s, acc=76.70%, loss=0.426]\n",
      "                                                                                                 \r"
     ]
    },
    {
     "name": "stdout",
     "output_type": "stream",
     "text": [
      "Epoch 3/5: Train Loss = 0.4888, Train Acc = 76.70% | Val Loss = 0.4566, Val Acc = 78.93%\n"
     ]
    },
    {
     "name": "stderr",
     "output_type": "stream",
     "text": [
      "[Epoch 4/5] Training: 100%|██████████| 745/745 [00:57<00:00, 12.86it/s, acc=77.28%, loss=0.467]\n",
      "                                                                                                 \r"
     ]
    },
    {
     "name": "stdout",
     "output_type": "stream",
     "text": [
      "Epoch 4/5: Train Loss = 0.4793, Train Acc = 77.28% | Val Loss = 0.4509, Val Acc = 78.78%\n"
     ]
    },
    {
     "name": "stderr",
     "output_type": "stream",
     "text": [
      "[Epoch 5/5] Training: 100%|██████████| 745/745 [00:55<00:00, 13.50it/s, acc=77.37%, loss=0.44] \n",
      "                                                                                                 \r"
     ]
    },
    {
     "name": "stdout",
     "output_type": "stream",
     "text": [
      "Epoch 5/5: Train Loss = 0.4702, Train Acc = 77.37% | Val Loss = 0.4508, Val Acc = 78.73%\n"
     ]
    },
    {
     "data": {
      "image/png": "[encoded data removed]",
      "text/plain": [
       "<Figure size 1200x500 with 2 Axes>"
      ]
     },
     "metadata": {},
     "output_type": "display_data"
    }
   ],
   "source": [
    "class SentimentClassifierPooled(nn.Module):\n",
    "    def __init__(self, n_classes):\n",
    "        super(SentimentClassifierPooled, self).__init__()\n",
    "        # More complex architecture\n",
    "        self.fc1 = nn.Linear(768, 512)\n",
    "        self.bn1 = nn.BatchNorm1d(512) \n",
    "        self.fc2 = nn.Linear(512, 256)\n",
    "        self.bn2 = nn.BatchNorm1d(256)\n",
    "        self.fc3 = nn.Linear(256, 1)\n",
    "        self.dropout = nn.Dropout(0.3)  # Less dropout\n",
    "        \n",
    "    def forward(self, pooled_embedding):\n",
    "        x = self.fc1(pooled_embedding)\n",
    "        x = self.bn1(x)\n",
    "        x = F.relu(x)\n",
    "        x = self.dropout(x)\n",
    "        \n",
    "        x = self.fc2(x)\n",
    "        x = self.bn2(x)\n",
    "        x = F.relu(x)\n",
    "        x = self.dropout(x)\n",
    "        \n",
    "        x = self.fc3(x)\n",
    "        return x.squeeze(1)\n",
    "\n",
    "# Initialize model\n",
    "model = SentimentClassifierPooled(n_classes=1)\n",
    "\n",
    "# Loss function and optimizer\n",
    "criterion = nn.BCEWithLogitsLoss()\n",
    "optimizer = torch.optim.Adam(model.parameters(), lr=2e-5)\n",
    "\n",
    "# Train model\n",
    "trained_model, history = train_model(\n",
    "    model, train_data_loader, valid_data_loader, criterion, optimizer, \n",
    "    epochs=5, use_pooled=True\n",
    ")\n"
   ]
  },
  {
   "cell_type": "code",
   "execution_count": 56,
   "metadata": {},
   "outputs": [],
   "source": [
    "torch.save(model.state_dict(), 'A4-BERT-Yang_Chen_Lin-1011781948.pth')"
   ]
  },
  {
   "cell_type": "code",
   "execution_count": null,
   "metadata": {
    "id": "N9o-7udJmahe"
   },
   "outputs": [],
   "source": [
    "'''\n",
    "PROVIDE YOUR ANSWER BELOW\n",
    "Best prediction accuracy: 78.93%\n",
    "Tuned hyperparameters:\n",
    "1. Hidden dimensions\n",
    "2. Add BatchNorm between layers\n",
    "3. Add dropout rate\n",
    "4. reduce learning rate\n",
    "\n",
    "Since the review text contains few long sentences, I added a layer and\n",
    "gradually reduce dimensionality from 768 -> 521 -> 256 -> 1, instead of 768 -> 256 -> 1.\n",
    "Moreover, I added dropout between layers to prevent overfitting and batch normalization to \n",
    "stablilize gradients. Lastly, I reduce the learning rate to prevent fluctuation during the \n",
    "training.\n",
    "'''"
   ]
  },
  {
   "cell_type": "markdown",
   "metadata": {
    "id": "ecKaJIpQe9UV"
   },
   "source": [
    "## Part 4. Evaluation [10 pt]\n",
    "\n",
    "### Part (i) [3pt RESULT]\n",
    "\n",
    "Report the final test accuracy of your best BERT-based model. Then summarize in a pandas dataframe the accuracy obtained on the training, validation, and test data of your best models from Part A and B.\n",
    "\n",
    "How does the BERT model compare to the approach in part A using only LSTM? Are the results what you expected? Explain.\n",
    "\n"
   ]
  },
  {
   "cell_type": "code",
   "execution_count": 57,
   "metadata": {
    "id": "AoweZb8i2cRb"
   },
   "outputs": [
    {
     "name": "stderr",
     "output_type": "stream",
     "text": [
      "Evaluating on Test Set:   0%|          | 0/249 [00:00<?, ?it/s]"
     ]
    },
    {
     "name": "stderr",
     "output_type": "stream",
     "text": [
      "Evaluating on Test Set: 100%|██████████| 249/249 [01:28<00:00,  2.82it/s]"
     ]
    },
    {
     "name": "stdout",
     "output_type": "stream",
     "text": [
      "Final Test Accuracy: 78.14%\n"
     ]
    },
    {
     "name": "stderr",
     "output_type": "stream",
     "text": [
      "\n"
     ]
    }
   ],
   "source": [
    "# TO BE COMPLETED\n",
    "def evaluate_test(model, test_loader, criterion, device=\"cuda\"):\n",
    "    model.to(device)\n",
    "    model.eval()\n",
    "\n",
    "    test_loss = 0.0\n",
    "    correct = 0\n",
    "    total = 0\n",
    "\n",
    "    with torch.no_grad():\n",
    "        for batch in tqdm(test_loader, desc=\"Evaluating on Test Set\"):\n",
    "            inputs = batch['pooled_output'].to(device)\n",
    "            labels = batch['targets'].float().to(device)\n",
    "\n",
    "            outputs = model(inputs)\n",
    "            loss = criterion(outputs, labels)\n",
    "\n",
    "            test_loss += loss.item() * inputs.size(0)\n",
    "            predicted = (torch.sigmoid(outputs) > 0.5).float()\n",
    "            total += labels.size(0)\n",
    "            correct += (predicted == labels).sum().item()\n",
    "\n",
    "    test_loss /= total\n",
    "    test_acc = 100 * correct / total\n",
    "    return test_loss, test_acc\n",
    "\n",
    "model = SentimentClassifierPooled(1)\n",
    "model.load_state_dict(torch.load(\"A4-BERT-Yang_Chen_Lin-1011781948.pth\"))\n",
    "criterion = nn.BCEWithLogitsLoss()\n",
    "test_loss, test_acc = evaluate_test(model, test_data_loader, criterion, device)\n",
    "print(f\"Final Test Accuracy: {test_acc:.2f}%\")"
   ]
  },
  {
   "cell_type": "code",
   "execution_count": 262,
   "metadata": {},
   "outputs": [
    {
     "data": {
      "text/html": [
       "<div>\n",
       "<style scoped>\n",
       "    .dataframe tbody tr th:only-of-type {\n",
       "        vertical-align: middle;\n",
       "    }\n",
       "\n",
       "    .dataframe tbody tr th {\n",
       "        vertical-align: top;\n",
       "    }\n",
       "\n",
       "    .dataframe thead th {\n",
       "        text-align: right;\n",
       "    }\n",
       "</style>\n",
       "<table border=\"1\" class=\"dataframe\">\n",
       "  <thead>\n",
       "    <tr style=\"text-align: right;\">\n",
       "      <th></th>\n",
       "      <th>Model</th>\n",
       "      <th>Train Accuracy</th>\n",
       "      <th>Validation Accuracy</th>\n",
       "      <th>Test Accuracy</th>\n",
       "    </tr>\n",
       "  </thead>\n",
       "  <tbody>\n",
       "    <tr>\n",
       "      <th>0</th>\n",
       "      <td>Part A (GRU)</td>\n",
       "      <td>86.48</td>\n",
       "      <td>84.35</td>\n",
       "      <td>85.36</td>\n",
       "    </tr>\n",
       "    <tr>\n",
       "      <th>1</th>\n",
       "      <td>Part B (BERT-based)</td>\n",
       "      <td>77.67</td>\n",
       "      <td>78.04</td>\n",
       "      <td>77.44</td>\n",
       "    </tr>\n",
       "  </tbody>\n",
       "</table>\n",
       "</div>"
      ],
      "text/plain": [
       "                 Model  Train Accuracy  Validation Accuracy  Test Accuracy\n",
       "0         Part A (GRU)           86.48                84.35          85.36\n",
       "1  Part B (BERT-based)           77.67                78.04          77.44"
      ]
     },
     "metadata": {},
     "output_type": "display_data"
    }
   ],
   "source": [
    "import pandas as pd\n",
    "from IPython.display import display\n",
    "\n",
    "data = {\n",
    "    \"Model\": [\"Part A (GRU)\", \"Part B (BERT-based)\"],\n",
    "    \"Train Accuracy\": [86.48, 77.67],\n",
    "    \"Validation Accuracy\": [84.35, 78.04],\n",
    "    \"Test Accuracy\": [85.36, 77.44]\n",
    "}\n",
    "\n",
    "df_summary = pd.DataFrame(data)\n",
    "display(df_summary)\n"
   ]
  },
  {
   "cell_type": "code",
   "execution_count": null,
   "metadata": {
    "id": "1RIZ3JWzm2a_"
   },
   "outputs": [
    {
     "name": "stdout",
     "output_type": "stream",
     "text": []
    }
   ],
   "source": [
    "'''\n",
    "PROVIDE YOUR ANSWER BELOW\n",
    "The GRU based model achieved a higher train, validation, and test accuracy than the BERT-based model.\n",
    "This result is not expected since BERT-based model usually outperforms LSTMs due to its context embeddings\n",
    "and transformer-based attention mechanisms. This is because most examples on the internet which has higher accuracy have\n",
    "their BERT model fine-tuned end-to-end, but in this assignment we're using precomputed embeddings then\n",
    "passed through a MLP classifier, which eventually led to a inferior accuracy in the prediction.\n",
    "'''"
   ]
  },
  {
   "cell_type": "markdown",
   "metadata": {
    "id": "ybdyEKx5Ww4F"
   },
   "source": [
    "### Part (ii) [2pt RESULT]\n",
    "\n",
    "Report the false positive rate and false negative rate of your model across the test set. Then summarize in a pandas dataframe the false postive and false negative rate of your model obtained on the training, validation, and test data of your best models from Part A and B.\n",
    "\n",
    "How does the BERT model compare to the approach in part A using only LSTM? Are the results what you expected? Explain."
   ]
  },
  {
   "cell_type": "markdown",
   "metadata": {},
   "source": [
    "#### FPR and FNR for BERT Model"
   ]
  },
  {
   "cell_type": "code",
   "execution_count": 59,
   "metadata": {
    "id": "vuxLCHhFWw4F"
   },
   "outputs": [
    {
     "data": {
      "text/html": [
       "<div>\n",
       "<style scoped>\n",
       "    .dataframe tbody tr th:only-of-type {\n",
       "        vertical-align: middle;\n",
       "    }\n",
       "\n",
       "    .dataframe tbody tr th {\n",
       "        vertical-align: top;\n",
       "    }\n",
       "\n",
       "    .dataframe thead th {\n",
       "        text-align: right;\n",
       "    }\n",
       "</style>\n",
       "<table border=\"1\" class=\"dataframe\">\n",
       "  <thead>\n",
       "    <tr style=\"text-align: right;\">\n",
       "      <th></th>\n",
       "      <th>Dataset</th>\n",
       "      <th>False Positive Rate (FPR)</th>\n",
       "      <th>False Negative Rate (FNR)</th>\n",
       "    </tr>\n",
       "  </thead>\n",
       "  <tbody>\n",
       "    <tr>\n",
       "      <th>0</th>\n",
       "      <td>Train</td>\n",
       "      <td>0.128337</td>\n",
       "      <td>0.293070</td>\n",
       "    </tr>\n",
       "    <tr>\n",
       "      <th>1</th>\n",
       "      <td>Validation</td>\n",
       "      <td>0.139970</td>\n",
       "      <td>0.284855</td>\n",
       "    </tr>\n",
       "    <tr>\n",
       "      <th>2</th>\n",
       "      <td>Test</td>\n",
       "      <td>0.134125</td>\n",
       "      <td>0.302407</td>\n",
       "    </tr>\n",
       "  </tbody>\n",
       "</table>\n",
       "</div>"
      ],
      "text/plain": [
       "      Dataset  False Positive Rate (FPR)  False Negative Rate (FNR)\n",
       "0       Train                   0.128337                   0.293070\n",
       "1  Validation                   0.139970                   0.284855\n",
       "2        Test                   0.134125                   0.302407"
      ]
     },
     "metadata": {},
     "output_type": "display_data"
    }
   ],
   "source": [
    "# TO BE COMPLETED\n",
    "from sklearn.metrics import confusion_matrix\n",
    "\n",
    "def compute_fpr_fnr(model, data_loader, device=\"cuda\"):\n",
    "    model.eval()\n",
    "    all_preds, all_labels = [], []\n",
    "    \n",
    "    with torch.no_grad():\n",
    "        for batch in data_loader:\n",
    "            inputs = batch['pooled_output'].to(device)\n",
    "            labels = batch['targets'].cpu().numpy()\n",
    "            outputs = model(inputs)\n",
    "            predictions = (torch.sigmoid(outputs) > 0.5).float().cpu().numpy()\n",
    "            all_preds.extend(predictions)\n",
    "            all_labels.extend(labels)\n",
    "    \n",
    "    tn, fp, fn, tp = confusion_matrix(all_labels, all_preds).ravel()\n",
    "    fpr = fp / (fp + tn)\n",
    "    fnr = fn / (fn + tp)\n",
    "    \n",
    "    return fpr, fnr\n",
    "\n",
    "# Compute FPR & FNR for all datasets\n",
    "train_fpr, train_fnr = compute_fpr_fnr(trained_model, train_data_loader)\n",
    "val_fpr, val_fnr = compute_fpr_fnr(trained_model, valid_data_loader)\n",
    "test_fpr, test_fnr = compute_fpr_fnr(trained_model, test_data_loader)\n",
    "\n",
    "summary_df = pd.DataFrame({\n",
    "    \"Dataset\": [\"Train\", \"Validation\", \"Test\"],\n",
    "    \"False Positive Rate (FPR)\": [train_fpr, val_fpr, test_fpr],\n",
    "    \"False Negative Rate (FNR)\": [train_fnr, val_fnr, test_fnr]\n",
    "})\n",
    "display(summary_df)"
   ]
  },
  {
   "cell_type": "markdown",
   "metadata": {},
   "source": [
    "#### FPR and FNR for RNN Model"
   ]
  },
  {
   "cell_type": "code",
   "execution_count": 303,
   "metadata": {},
   "outputs": [
    {
     "data": {
      "text/html": [
       "<div>\n",
       "<style scoped>\n",
       "    .dataframe tbody tr th:only-of-type {\n",
       "        vertical-align: middle;\n",
       "    }\n",
       "\n",
       "    .dataframe tbody tr th {\n",
       "        vertical-align: top;\n",
       "    }\n",
       "\n",
       "    .dataframe thead th {\n",
       "        text-align: right;\n",
       "    }\n",
       "</style>\n",
       "<table border=\"1\" class=\"dataframe\">\n",
       "  <thead>\n",
       "    <tr style=\"text-align: right;\">\n",
       "      <th></th>\n",
       "      <th>Dataset</th>\n",
       "      <th>False Positive Rate (FPR)</th>\n",
       "      <th>False Negative Rate (FNR)</th>\n",
       "    </tr>\n",
       "  </thead>\n",
       "  <tbody>\n",
       "    <tr>\n",
       "      <th>0</th>\n",
       "      <td>Train</td>\n",
       "      <td>0.150858</td>\n",
       "      <td>0.062573</td>\n",
       "    </tr>\n",
       "    <tr>\n",
       "      <th>1</th>\n",
       "      <td>Validation</td>\n",
       "      <td>0.223306</td>\n",
       "      <td>0.111972</td>\n",
       "    </tr>\n",
       "    <tr>\n",
       "      <th>2</th>\n",
       "      <td>Test</td>\n",
       "      <td>0.201550</td>\n",
       "      <td>0.106973</td>\n",
       "    </tr>\n",
       "  </tbody>\n",
       "</table>\n",
       "</div>"
      ],
      "text/plain": [
       "      Dataset  False Positive Rate (FPR)  False Negative Rate (FNR)\n",
       "0       Train                   0.150858                   0.062573\n",
       "1  Validation                   0.223306                   0.111972\n",
       "2        Test                   0.201550                   0.106973"
      ]
     },
     "metadata": {},
     "output_type": "display_data"
    }
   ],
   "source": [
    "def get_predictions(model, loader):\n",
    "    model.eval()\n",
    "    all_preds = []\n",
    "    all_labels = []\n",
    "    \n",
    "    with torch.no_grad():\n",
    "        for inputs, labels in loader:\n",
    "            inputs = inputs.to(device)\n",
    "            labels = labels.to(device)\n",
    "            outputs = model(inputs)\n",
    "            preds = (outputs > 0.5).float()\n",
    "            all_preds.append(preds.cpu())\n",
    "            all_labels.append(labels.cpu())\n",
    "\n",
    "    return torch.cat(all_preds), torch.cat(all_labels)\n",
    "\n",
    "def compute_fpr_fnr(y_true, y_pred):\n",
    "    tn, fp, fn, tp = confusion_matrix(y_true, y_pred).ravel()\n",
    "    fpr = fp / (fp + tn) if (fp + tn) > 0 else 0.0\n",
    "    fnr = fn / (fn + tp) if (fn + tp) > 0 else 0.0\n",
    "    return fpr, fnr\n",
    "\n",
    "vocab_size = len(stoi) + 1\n",
    "embedding_dim = 200\n",
    "hidden_dim = 64\n",
    "num_layers = 4\n",
    "output_dim = 1\n",
    "dropout = 0.7\n",
    "pooling = 'concat'\n",
    "device=\"cuda\" if torch.cuda.is_available() else \"cpu\"\n",
    "\n",
    "model = SentimentRNN(vocab_size, embedding_dim, hidden_dim, num_layers, output_dim, dropout, pooling)\n",
    "model.load_state_dict(torch.load(\"A4-RNN-Yang_Chen_Lin-1011781948.pth\"))\n",
    "model.to(device)\n",
    "\n",
    "train_preds, train_labels_out = get_predictions(model, train_loader)\n",
    "val_preds, val_labels_out = get_predictions(model, valid_loader)\n",
    "test_preds, test_labels_out = get_predictions(model, test_loader)\n",
    "\n",
    "fpr_train, fnr_train = compute_fpr_fnr(train_labels_out, train_preds)\n",
    "fpr_val, fnr_val = compute_fpr_fnr(val_labels_out, val_preds)\n",
    "fpr_test, fnr_test = compute_fpr_fnr(test_labels_out, test_preds)\n",
    "df_RNN = pd.DataFrame({\n",
    "    \"Dataset\": [\"Train\", \"Validation\", \"Test\"],\n",
    "    \"False Positive Rate (FPR)\": [fpr_train, fpr_val, fpr_test],\n",
    "    \"False Negative Rate (FNR)\": [fnr_train, fnr_val, fnr_test]\n",
    "})\n",
    "\n",
    "display(df_RNN)"
   ]
  },
  {
   "cell_type": "code",
   "execution_count": null,
   "metadata": {
    "id": "vIu8lB9jm3X_"
   },
   "outputs": [],
   "source": [
    "'''\n",
    "PROVIDE YOUR ANSWER BELOW\n",
    "From the above tables, we can see that BERT is likely to misclassify negatives as positives, \n",
    "but misses large portion of TP, which indicates this model is conservative in predicting positive\n",
    "sentiment. For the RNN, it's more likely to predict positive negative reviews as positives, but it's \n",
    "successful at capturing actual positive reviews.\n",
    "\n",
    "The results are expected since BERT uses pretrained embeddings and tends to perform better on subtle \n",
    "language patterns, which makes it more precise, i.e., only predict positive when it's very confident.\n",
    "And the RNN is trained from scratch and relies on fixed word embeddings, so it memorize the data and \n",
    "leads to more confidence, which causes more FPs.\n",
    "'''"
   ]
  },
  {
   "cell_type": "markdown",
   "metadata": {
    "id": "646WjsAwWw4F"
   },
   "source": [
    "### Part (iii) [3pt DISCUSSION]\n",
    "Examine some of the misclassified reviews from you best BERT and LSTM models to better identify the differences in the models. Try to provide some justification for any differences in the misclassifications observed in the models.\n",
    "\n",
    "Is there any part of the review that you could modify to make the classifications correct? Try to make small changes to the review to see if you can make the model make the correct classification while keeping the review as close to the original as possible."
   ]
  },
  {
   "cell_type": "markdown",
   "metadata": {},
   "source": [
    "#### Misclassified reviews in BERT"
   ]
  },
  {
   "cell_type": "code",
   "execution_count": 60,
   "metadata": {
    "id": "0OvvnW8OWw4G"
   },
   "outputs": [
    {
     "data": {
      "text/plain": [
       "[{'Review': 'Every time I watch this film, it just really makes me wanna go out and have a good night! My mate uses \"the weekend has landed\" speech to psyche himself up before going out! and so do I...sometimes. <br /><br />This film is a great debut for the writer/director - well done mate!<br /><br />The acting is great, all the characters are believable and are larger than life! The \\'weird\\' scenes are a joy to watch, Jip\\'s running Mr floppy flashbacks/explanations/visualizations are all great! The scene in the huuuuuuuge pub when everyone stands up and starts singing the mock national anthem is a laugh too. There\\'s loads of comedy here - Howard Marks\\' \\'spliff politics\\' speech is hilarious!<br /><br />Oh god, you just need to see this. Mind you, I felt the film did somewhat glorify the use of ecstacy, but hey, that\\'s the truth of the matter eh? At least the film doesn\\'t shy away from this fact. I suppose the film does carry a decent message to it as well - don\\'t take life TOO seriously, you have to let you hair down sometime. And of course the chat in the pub when Moff tries to explain to his mates that he\\'s coming off the drugs is a sure reminder that when the come down\\'s out-way the good times, you know the party\\'s over!<br /><br />This is at times a very clever film in it\\'s use of the camera, lighting, etc. It was a realised piece of cinema, and a great feel-good tale of mates, love, clubs, and drugs.<br /><br />Get outta the \\'rat race\\' people!!!<br /><br />8/10<br /><br />Enjoy!',\n",
       "  'True Label': 1,\n",
       "  'Predicted': 0},\n",
       " {'Review': 'This production was quite good. The usual fabulous scenery, interesting, quirky characters. It was just so strange not to have Captain Hastings, Miss Lemon, and Poirot\\'s office/residence, so prominently featured in the original PBS/BBC mysteries.<br /><br />In the original series, so much took place at the office. Hastings reading the paper, while Poirot \"exercises his little gray cells.\" Miss Lemon pitching in whenever needed.<br /><br />Poirot without Capt. Hastings would be like Holmes without Watson ... he can most certainly solve the crime, but it is not as interesting.<br /><br />And what would a Poirot mystery be without Hastings, with his impeccable manners, falling for some beautiful, unattainable woman.',\n",
       "  'True Label': 1,\n",
       "  'Predicted': 0},\n",
       " {'Review': \"As a professional poker dealer for over 25 years I found this movie very hard to watch. Too unreal. It seems the producers of this movie either had done little or no research or just didn't care. The card tricks are something you never would see performed in a real poker game. Common sense right? Plus it was full of film cuts and such during the tricks. Who couldn't do that? The cheating was amateur stuff. Palming, marked cards, etc. Would you sit in a high limit game where they use opened deck cards? Would you sit in a game where the players push their chips into the middle of a pot (constantly), mixing them in then just verbalizing how much they bet? C'MON ! I gave it a 4 because the twists and turns might be interesting to some people but for those who know how to play the game it will be pretty painful. Next time they should use real players and get some insight on how to do it right. OUCH!!!\",\n",
       "  'True Label': 0,\n",
       "  'Predicted': 1},\n",
       " {'Review': \"Nearly everything that Stephen King has ever written seems to have been turned into a film or TV series; in fact, I'm surprised that no one has tried to make a mini-series from the guy's grocery list. Let's face it, if they did, it couldn't be any less interesting than Children of the Corn.<br /><br />Based on one of King's many short stories, this 1984 horror flick sees Linda Hamilton and Peter Horton playing a couple on a long car journey who run into a spot of bother when they chance upon the sleepy Nebraska town of Gatlin, where all of the adults have been murdered by children who worship an ancient evil that lurks in the corn fields.<br /><br />Although director Fritz Kiersch does manage to build a fair amount of atmosphere at the beginning (after Hamilton's silly song and dance, but before we get to meet the freakish Isaac, leader of the killer kids), he completely blows it with endless unexciting scenes in which Hamilton and Horton are hunted down by the town's homicidal half-pints. Courtney Gains, as violent redhead Malachai, manages to appear genuinely menacing, but the rest of the children are not the least bit threatening; as a result, many of the film's 'scary' moments fail to work. <br /><br />Towards the end of the film, when we finally get to see the malevolent force that inhabits the field surrounding Gatlin, the film descends into a glut of terrible 80s visual effects that probably looked pretty ropey almost 25 years ago, but look positively laughable nowadays.<br /><br />Children of the Corn might be of interest to King fans keen to see how the writer's work has been translated to the big screen, but your average horror-film fan will be most unimpressed.\",\n",
       "  'True Label': 0,\n",
       "  'Predicted': 1},\n",
       " {'Review': 'The adaptation of Will Eisner\\'s SPIRIT to the TV screen followed many other offerings developed from comic strip pages or comic books. (Remember, the two aren\\'t exactly the same medium) It is indeed ironic that this is the one and only adaptation (as of the time of this writing)of Eisner\\'s smart alec, wise cracking, tongue-in-cheek super hero.<br /><br />Story has it that Republic Pictures was interested in doing a film version and was in negotiation with the copyright owner in the mid \\'40\\'s, but they were never able to close the deal. The left over screen play became the serial, THE MASKED MARVEL, one of Republic\\'s best. Perhaps that it was just as well, for that studio had a penchant for tinkering with material adapted from the comic strips, pulp mags, radio and the comic books.<br /><br />As for this 1987 made for TV movie, it\\'s pretty obvious that it was a failed pilot for a proposed television series. Whereas an old, long time comic reader,like myself, can be a little harsh in criticism of an adaptation, a viewer unfamiliar with the character may be able to give some fresh observations, clear of any preconceived notions of what this screen version should look like.<br /><br />Well, while sitting and watching the story unfold, with the characters interacting amid some crime wave, the Little Lady (my wife, Mrs. Ryan) nailed it with one statement. \"This can\\'t make up its mind if it\\'s serious or not!\" That pretty well describes both THE SPIRIT and his creator, Mr. Will Eisner, the true creative genius in the comics.<br /><br />The film is a sincere attempt to put Eisner\\'s world on the screen. The casting of Denny Colt/The Spirit, Commissioner Dolan and Ellen was really quite well done. Though in a contemporary setting, it was still in the tradition of \"the good old days\" as far as the costuming goes, you know, when men and women still wore hats! That brings up this one final (and meandering) point, and that is that the director and the production made a conscious effort and succeeded in giving the characters a Will Eisner look as far as facial expressions and body language. We say,Kudos to them for their efforts.<br /><br />It\\'s just too bad that no series followed! Oh, well in today\\'s motion picture world, comic adaptations seem to be a hot item. Maybe some big timer producer and director could do a really 1st class SPIRIT production for the Big Screen. We can only hope.<br /><br />UPDATE: Dateline, Chicago, Illinois. 6/4/2008. By now, everyone who goes to the Movies at the Shopping Centre Multiplexes has seen the poster advertising the new film of THE SPIRIT, (subtitled, MY CITY SCREAMS); which is to be released Christmas Day, 2008. Well, we\\'ll see then just what we\\'ve been talking about. Just keep your fingers crossed! TO BE CONTINUED.............<br /><br />UPDATE II: We saw the new film, Writer-Director Frank Miller\\'s rendition of THE SPIRIT a couple of days ago. Well, we got our wish; but is this a good thing or another case of \"Be careful what you ask for; because you may get it?\" Please read our write-up elsewhere in IMDb.com. THANX!',\n",
       "  'True Label': 1,\n",
       "  'Predicted': 0},\n",
       " {'Review': \"Herbie, the Volkswagen that thinks like a man, is back, now being driven by Maggie Peyton (Lindsay Lohan), a young woman who hopes to become a NASCAR champion. The only thing standing in her way is the current champion, Trip Murphy (Matt Dillon), who will do anything to stop them.<br /><br />The original love bug wasn't that good. Even as a kid, I remember not liking it very much. I had some hope for the sequel though. I mean the cast is pretty good and the trailer makes it seem like a pretty fun movie. Unfortunately, Herbie is no better now than he was before. The film is defiantly weak for people over the age of 12. It will probably entertain the kids but that's all.<br /><br />I realize it's a kids film and all but they could have made the film a little more interesting. There were very few laughs and it got boring near the end. Most of the actors seemed dead in their roles too. Lindsay Lohan was alright as Maggie Peyton. She usually gives better performances like in Freaky Friday and Mean Girls. Matt Dillon gave the best performance out of everyone. He was very good as the bad guy even though he didn't have a lot to work with. Justin Long, Breckin Meyer and Michael Keaton are really just there and they don't do anything special.<br /><br />Angela Robinson directs and she does an okay job. She tries to keep the film interesting but she's working with a weak script. Thomas Lennon and Ben Garant wrote the screenplay and would it be any surprise to you that they were also responsible for Taxi and The Pacifier? These two make light films yet they fail to really make the stories interesting or enjoyable. It's not completely their fault but hopefully next time they will try harder. In the end, Herbie is a safe, predictable family film that's worth watching if you're a kid. Everyone else is better off skipping it. Rating 4/10\",\n",
       "  'True Label': 0,\n",
       "  'Predicted': 1},\n",
       " {'Review': 'Simon Pegg plays a rude crude and often out of control celebrity journalist who is brought from England to work for a big American magazine. Of course his winning ways create all sorts of complications. Amusing fact based comedy that co stars Kristen Dunst (looking rather grown up), Danny Huston, and Jeff Bridges. It works primarily because we like Simon Pegg despite his bad behavior. We completely understand why Kristen Dunst continues to talk to him despite his frequent screw ups. I liked the film. Its not the be all and end all but it was a nice way to cap off an evening of sitting on the couch watching movies.<br /><br />7 out of 10',\n",
       "  'True Label': 1,\n",
       "  'Predicted': 0},\n",
       " {'Review': 'What a disaster! Normally, when one critiques a historical movie, it\\'s always fun to point out the inaccuracies that slip in, usually added by the writers to create more \"dramatic\" situations. However, \"Imperium: Nerone\" is a whole \\'nuther kind of animal. In this movie you strain to find ANYTHING at all that is confirmed by the historical record amidst the farrago of nonsense and fiction presented as the life of Rome\\'s bad-boy artist-emperor.<br /><br />And it\\'s a pity, because Nero is one of the most fascinating of all the Roman emperors. His life was filled with enough tumultuous events and interesting people to make a really good movie. The producers of this mess chose another route, which leads only to head-scratching on the part of any informed viewer.<br /><br />Just a few examples: <br /><br />1. Nero is depicted as an 6-8 year old boy when Caligula has his father killed for treason, exiles his mother Agrippina, and sends the boy to be raised by slaves in the countryside. \"Ten years later,\" the story resumes just before the assassination of Caligula. Facts: Nero was born about six months after Caligula began his four year reign, and was only three when he was assassinated; Nero\\'s father died of natural causes; Agrippina was briefly exiled for bad behavior, not treason; and Nero was not raised among slaves, but had the typical upbringing of a young member of the imperial family.<br /><br />2. Okay, according to the writers, Nero is now about 16 when his great uncle Claudius becomes emperor (in fact he was about to turn 4); Agrippina engineers the downfall of the empress Messalina and marries Claudius, who adopts Nero. Then he goes off to conquer Britain, and is poisoned by Agrippina soon after his victorious return. Nero is declared emperor, although he\\'s still perhaps only 18 or 19 years old. Fact: Claudius conquered Britain in 43 A.D., two years after beginning his reign. He lived until 54 A.D. Nero should have been 31 years old by then by any normal chronology, but in fact succeeded to the throne at age 16.<br /><br />History tells us that there then followed the \"Five Good Years,\" where Nero ruled wisely and well under the tutelage of the philosopher Seneca and the Praetorian commander Burrus. This is shown -- sort of -- except that portraying the Roman Senate as opposing Nero\\'s good measures is false. Senatorial opposition to Nero only commenced when he started to show signs of insanity and began killing Senators for real or imagined treason.<br /><br />3. Nero\\'s mother Agrippina is the controlling sort, who murdered her uncle-husband to make her son emperor. After a while, Nero tires of her meddling and decides to kill her. In the movie, he sends his henchman Tigellinus to stab her to death. All true enough, but the reality was so much better! Agrippina was a survivor, and didn\\'t go easily. Nero tried three times to poison her, but as an old poisoner herself she was savvy to all that, and he failed. Then he tried to crush her to death by collapsing the ceiling of her bedchamber, but that also failed. Next, he sent her on a voyage on a ship that was deliberately constructed to fall apart and sink; as it went down, she jumped into the sea and swam to shore. Finally, he had her stabbed to death. Now showing all THAT would have definitely improved this movie! <br /><br />Other errors abound: Nero\\'s lover Acte was not a childhood slave-friend, she never repudiated him, and there is no evidence that she became a Christian. Nero did not commit suicide by slitting his wrists while sitting beside a lake. Etc. etc. etc.<br /><br />The sources for Nero\\'s life are primarily the Roman historians Tacitus and Suetonius, both of whom were of the senatorial class hostile to him and his memory. But the evidence indicates that he remained very popular with the common people, unlike one of the final scenes where he is pelted by the mob with vegetables as he leaves the city to commit suicide.<br /><br />WHY did the writers and producers take an inherently interesting story with plenty of good stuff for any movie, and make THIS piece of crap? Oh, and did I mention how cheesy the sets and costumes were? Lol.<br /><br />One star, because there\\'s no way to rate it lower.',\n",
       "  'True Label': 0,\n",
       "  'Predicted': 1},\n",
       " {'Review': '\"Lights of New York\" originally started out as an experimental two reel Vitaphone short that eventually snowballed into the first all talkie feature film. Helene Costelle was supposedly one of the most beautiful actresses in Hollywood and sister to (in my opinion the real beauty) Dolores Costello, who seemed to get all the breaks. Poor Helene is best known for appearing in this pretty dreary film that bought a revolution to Hollywood!!<br /><br />Two bootleggers on the lam in \"Main Street\" convince a couple of small town barbers to try their luck on Broadway. The barbers Eddie (Cullen Landis) and Gene (Eugene Palette) don\\'t realise that their barber shop is soon a cover for illegal bootlegging activities. They soon do realise it and regret the day they left their small town. The only thing keeping them going is the loan that Eddie\\'s mother gave them and that they desperately want to pay back. Eddie becomes re-acquainted with Kitty Lewis (Helene Costello) a girl from his home town who has made good on Broadway. Kitty is worried about \"Hawk\" Miller (Wheeler Oakman) who is always hanging around her but Eddie, innocently, thinks she is exaggerating as \"Hawk\" already has a girlfriend Molly (Gladys Brockwell) but to reassure her he gives her a little handgun to frighten unwanted admirers away. \"Hawk\", who has killed a police officer and has the \"Feds\" closing in, decides to frame Eddie. Meanwhile Molly is getting pretty fed up with \"Hawks\" treatment of her and after a showdown where he tells her he is after a chicken and not an old hen the stage is set for - Murder!!!<br /><br />The fact is it isn\\'t completely awful, apart from gangsters and showgirls alike speaking in their best elocution voices and that was still happening in films in 1930. Gladys Brockwell (if a trifle melodramatic) and Eugene Palette (quite natural) were okay and were the most seasoned actors in the cast. There was no John or Ethel Barrymore to be seen - Cullen Landis and Helene Costello soon returned to the obscurity from which they had come. I also didn\\'t notice much of the \"hidden mike\" - where people had to be grouped around different objects ie a telephone or sitting on a couch before they could engage in conversation. People who saw it at the cinema probably started to think that all policeman talked in that flat monotone as that trend continued in many early talkies ie \"Little Caesar\" (1930). In any case they were probably intrigued by the novelty of a completely all talkie - with some singing and dancing - film in 1928.<br /><br />Recommended.',\n",
       "  'True Label': 1,\n",
       "  'Predicted': 0},\n",
       " {'Review': 'We watched this on \"The Wonderful World of Disney\" on ABC last night, and I came to the conclusion that things must be tighter there at \"the Mouse\" than usual. <br /><br />Since this movie only runs 74 minutes, and they had to pad it out to 2 hours of broadcast television time, they had, and I\\'m not making this up, commercial breaks that lasted 6 to 7 minutes. And during these commercial breaks, they had another advertisement in the guise of a \"TV show\" hosted by the oh-so-annoying Kelly Rippa that loudly proclaimed the magical wonders of \"Cinderella 2: Dreams Come True\".<br /><br />Again and again, break after break, Disney took time out of the real movie to tell us, the loyal viewers, that we needed to get a copy of the sequel. Thank you, Disney, for doing us the service of creating a sequel to your beloved gem of a movie.<br /><br />Anyway, all this commercialism and cash-register-ringing made it a difficult task to get into the actual movie of \"Cinderella\", because by the time the commercials were over, I had forgotten where the story had left off.<br /><br />But of course, the original \"Cinderella\" still maintains its magic, and the story is still a good one, though we\\'ve all seen it countless times. It\\'s a shame they had to cheapen it with all the marketing for what looks to be a lame follow-up.',\n",
       "  'True Label': 1,\n",
       "  'Predicted': 0}]"
      ]
     },
     "execution_count": 60,
     "metadata": {},
     "output_type": "execute_result"
    }
   ],
   "source": [
    "# TO BE COMPLETED\n",
    "def get_misclassified_samples(model, dataset, device=\"cuda\", use_pooled=True, max_samples=10):\n",
    "    model.eval()\n",
    "    misclassified = []\n",
    "\n",
    "    with torch.no_grad():\n",
    "        for idx in range(len(dataset)):\n",
    "            batch = dataset[idx]\n",
    "            input_tensor = batch['pooled_output' if use_pooled else 'last_hidden'].unsqueeze(0).to(device)\n",
    "            label = batch['targets'].item()\n",
    "            text = batch['review_text']\n",
    "\n",
    "            output = model(input_tensor)\n",
    "            prediction = (torch.sigmoid(output) > 0.5).float().item()\n",
    "\n",
    "            if int(prediction) != int(label):\n",
    "                misclassified.append({\n",
    "                    \"Review\": text,\n",
    "                    \"True Label\": label,\n",
    "                    \"Predicted\": int(prediction)\n",
    "                })\n",
    "\n",
    "            if len(misclassified) >= max_samples:\n",
    "                break\n",
    "\n",
    "    return misclassified\n",
    "\n",
    "bert_misclassified = get_misclassified_samples(model, test_dataset, use_pooled=True)\n",
    "bert_misclassified"
   ]
  },
  {
   "cell_type": "markdown",
   "metadata": {},
   "source": [
    "#### Misclassified reviews in RNN"
   ]
  },
  {
   "cell_type": "markdown",
   "metadata": {},
   "source": [
    "##### Misclassified as negative:\n",
    "1. ive watching lot present great low budget late early movie elements decent western good story talented actors everything else although genre way done didnt work made moviebr br movie easily two br first part great great opening scene interesting story going going large part course movie three characters form attempt get money comic earlier films genre comedy doesnt overall br second half film comedy goes movie point right part stop goes waiting four dead place point movie decent western comic br three horrible scenes one one one follow one wasnt bad enough fighting ridiculous since sound picture makes even worse fight scene place around like although worst part fight scenes music dance cheesy episode scenes main br overall movie lot potential decent western comic turns want see good western see want see good western avoid movie\n",
    "2. thing film dvd much budget moment would film good example film enjoy watching richard br great sometimes bit much thats case minute sound film good nothing br story story actors sound sets etc say three times everyone believable character movie us especially stars filmbr br decent job playing cheap early love first even though hes world film bad romance part story takes away itbr br average film means good great certainly worth one could lot better film\n",
    "3. ive watching lot present great low budget late early movie elements decent western good story talented actors everything else although genre way done didnt work made moviebr br movie easily two br first part great great opening scene interesting story going going large part course movie three characters form attempt get money comic earlier films genre comedy doesnt overall br second half film comedy goes movie point right part stop goes waiting four dead place point movie decent western comic br three horrible scenes one one one follow one wasnt bad enough fighting ridiculous since sound picture makes even worse fight scene place around like although worst part fight scenes music dance cheesy episode scenes main br overall movie lot potential decent western comic turns want see good western see want see good western avoid movie\n",
    "4. island lee family wont company cant films even question whether filmmakers thought script actually funny even make\n",
    "5. actually good thing james im sure wouldnt able keep fast women less pretty scifi thriller often despite know movies nothing seems think plot writers make sure new twist everyone events take place world major dont really lot apart trying others company literally people new let biggest hand tries whole business whos secret actually less sounds director takes time important less important characters first half film rather sadly john rock also former life style even set seem come straight film white seem theres also plenty great action suspense crew boring middle film little already realize towards slightly portrayal future perfectly cast lady appears side directors choice david memorable role well made scifi entertainment highly people like use brain time time"
   ]
  },
  {
   "cell_type": "code",
   "execution_count": null,
   "metadata": {
    "id": "7TWkK5Sgm4YM"
   },
   "outputs": [],
   "source": [
    "'''\n",
    "PROVIDE YOUR ANSWER BELOW\n",
    "BERT tends to misclassify positive reviews that have detailed critique tone, i.e., mixed sentiments.\n",
    "The RNN misclassify vague or structurally confusing positives when the sentences are long and flat.\n",
    "'''"
   ]
  },
  {
   "cell_type": "markdown",
   "metadata": {
    "id": "H4FlSj_Mn2yY"
   },
   "source": [
    "### Part (iv) [2pt DISCUSSION]\n",
    "Find 5 samples of positive and negative reviews on IMDB that were posted recently and evaluate them with your best BERT and LSTM models from parts A and B. How well do they perform?"
   ]
  },
  {
   "cell_type": "markdown",
   "metadata": {},
   "source": [
    "#### Review sample and dataframe creation"
   ]
  },
  {
   "cell_type": "code",
   "execution_count": 306,
   "metadata": {
    "id": "y3DCyMW_n05f"
   },
   "outputs": [
    {
     "name": "stdout",
     "output_type": "stream",
     "text": [
      "                                              review sentiment\n",
      "0  Surprisingly good show, with great action scen...         1\n",
      "1  Stranger Things is absolutely as good as every...         1\n",
      "2  This show is such a refreshing breeze of great...         1\n",
      "3  Production has an incredibly important place t...         1\n",
      "4  After hearing about all the hype and seeing it...         1\n",
      "5  The first season is really good, 8/10. The sec...         0\n",
      "6  When you run out of plot and end up filling it...         0\n",
      "7  Mando goes to finish a quest. Mando finishes q...         0\n",
      "8  I thought they at least had a descency to say ...         0\n",
      "9  I thought season 1 was like an interesting rol...         0\n"
     ]
    }
   ],
   "source": [
    "# TO BE COMPLETED\n",
    "# Load the raw positive and negative reviews into a pandas df\n",
    "positive_reviews = [\n",
    "    \"\"\"Surprisingly good show, with great action scenes and a likeable main character. An interesting crime story that reminds us of good old-fashioned entertainment.\n",
    "\n",
    "The story follows the atmosphere from the books well, and the casting is great. Alan Ritchson is a great choice for the role of Jack Reacher, not only does he look like him, but he conveyed his character well on screen.\n",
    "\n",
    "Most of today's series is unwatchable, but this is a really positive surprise. The series follows the plot of the first book, \"Killing Floor,\" and Reacher tries to find the culprits responsible for a series of murders.\n",
    "\n",
    "The show is a real surprise, because it does not suffer from most of the common flaws of today's film production. There are only a few small things that could be better, but this is definitely better than the vast majority of today's shows, because it tries to entertain the viewer, and not bother him with unnecessary things.\n",
    "\n",
    "The fight scenes are excellent, tense and brutal. Alan Ritchson is convincing in the role of Jack Reacher, but the other actors also portrayed their characters well. A really pleasant surprise, considering that most good stories are ruined by today's writers.\n",
    "\n",
    "The show looks interesting, very cinematic and is well directed. The soundtrack is good, it blended in perfectly with the atmosphere of the story.\n",
    "\n",
    "An interesting crime story with an excellent main character, tense plot, brutal action and a good cast.\"\"\",\n",
    "    \"\"\"Stranger Things is absolutely as good as everyone says it is. When a show is as talked about about as much as this one has been it's hard to live up to expectations. Stranger Things has not only met those expectations but has surpassed them in every way. This is the show that our Netflix on the map as far as original shows go as this was not only one of their first but their biggest. As much as I love this show it's probably time for it for end and it is. This upcoming season is going to be the last. We have literally watched this cast grow up, they were children when this show first started and now they're all in their 20's. I can't wait for this last season and going to miss it when it's gone!\"\"\",\n",
    "    \"\"\"This show is such a refreshing breeze of great quality Star Wars. Hopefully with Episode 9, this horrible era of Star Wars will end, and we will finally get what we all wanted the whole time - great stories set in the Star Wars universe. Stories like this, that make sense. Stories that hook us and make us want more, make us relate to the characters on the screen, just by showing their weaknesses along with their strengths. The Mandalorian has faced more adversity in these two episodes than Rey has in two three hour movies. Definitely my favorite character of the Disney Star Wars era, and he has only said a few lines. Brilliant directing, brilliant script, brilliant execution of everything. I can't wait to see where the story goes.\"\"\",\n",
    "    \"\"\"Production has an incredibly important place to shoot a series or film. Sometimes even a very minimalist story can reach an incredibly successful point after the right production stages. The Witcher series is far from minimalist. The Witcher is one of the best Middle-earth works in the world. Production quality is essential if you want to handle such a topic successfully.\n",
    "\n",
    "The world that The Witcher goes through is a world with its own rules, races, characters, creatures, beliefs, even if it does not seem too strange to those familiar with fantastic narratives. In particular, the first two chapters carry the risk of being too confusing while reflecting the details of this world to the audience. After the chapters where it is difficult to fully understand which character serves whom and why, the story becomes more beautiful as the other characters gradually increase in the narrative. There are two main characters in the narrative except Geralt. One of them is Ciri, who was advised to find Geralt when her lands were taken over by the enemies. The other is Yennefer, a kind of witch whose aim is to gain as much power as possible. While the goal of these two characters is evident, the fact that Geralt at the center of the narrative does not have a significant motivation due to the character's characteristics causes the story to be thrown from one place to another. However, the story deepens as the characteristics of this character become evident and the dynamics of the world in which events take place gradually emerge. It is the primary factor that gives the dark tone of The Witcher's world that people use their power and material resources to seize land. The dark narrative that expresses the evil within man is supported by the visual language of the series. The visual language, dominated by darkness and shadows, brings The Witcher closer to a gothic horror narrative from time to time when combined with the characteristics of the characters it contains. This dark atmosphere also gains a realistic tone with the violence of the series. The Witcher, one of Netflix's most courageous works to date, relentlessly conveys the mess of the world it tells. It creates a consistent and dark atmosphere thanks to well-captured battle and combat scenes and technical details such as image management and music usage.\"\"\",\n",
    "    \"\"\"After hearing about all the hype and seeing it was one of the most watched series in the entire world I finally found time to watch Squid Game. I have to admit that I had fun watching it and was very entertained throughout the entire season. It's about hundreds of contestants (who are all down on their luck and need money) that are asked to play children's games for an shot at winning a lot of money, 45.6 billion won (about 33 million dollars). The only thing is these children games are now all deadly and the last contestant standing wins all the money. It will pull you into its world and before you know it you'll be hooked. It's a thriller with lots of twists and lots of violence. This is a show that will stay in your mind long after you watched it. I know it's already been renewed for another seasons so I hope they can keep the same magic they had for season one.\"\"\"\n",
    "]\n",
    "\n",
    "negative_reviews = [\n",
    "    \"\"\"The first season is really good, 8/10. The second one is embrassing, unfortunalety. Just 5/10, no progress, poor characters and a very bad storywriting. Even the action parts are very bad directed in the second season.\n",
    "\n",
    "At the first season the storytelling and the characters are very interesting, the direction was fine and even the action parts were nice and thrilling presented.\n",
    "\n",
    "But the second season destroys all the good and fascinating characteristics, unfortunalety. Really bad storyline without any interesting topic, poor perfomance of all actors and also bad action.\n",
    "\n",
    "So I really recommend the first season, pass the second and we all should hope for a good third one.\"\"\",\n",
    "    \"\"\"When you run out of plot and end up filling it with cameo characters, casting mistakes and product placement, this is the result. Took over 20 separate viewings to struggle through this last season.\n",
    "\n",
    "Season 1 and somewhat 2, were plot driven with cutey references to the era, where as 3 just played on those same now-tired references without any character/plot development purpose other than keeping all the individual characters \"in play\".\n",
    "\n",
    "I feel sorry for the actors who have this as a blemish now. Luckily the kids will grow beyond it, but the adult actors just signed out of the business. One-string-Winona is a good example of that, it's the same scene she's repeating, and after the first lynching of her whining it deafens you out to the plight of her character.\n",
    "\n",
    "This wasn't worth the extra time to create the new season.\"\"\",\n",
    "    \"\"\"Mando goes to finish a quest. Mando finishes quest and episode ends. Now do this for the whole show and you have \"character\" development... here is a good review that said it better\n",
    "\n",
    "\" When I play RPGs, I religiously hoard loot. But while armor and weapon upgrades provide you with a sense of progression in video games, the same can't be said about television. In television, progression comes from your characters changing. It's pretty much a paired down version of Joseph Campbell's \"Hero's Journey\": Your character goes on a journey, changes, and returns having accomplished whatever they set out to do. In the words of Dan Harmon, it's a \"ritual of descent and return\" - one \"that all life, including the human mind and the communities we create, marches to.\" In A New Hope, Luke Skywalker must learn to grow up and master the Force before he can save Leia and blow up the Death Star. But in The Mandalorian, Mando must learn - well, nothing. And that's the problem. It's kind of like playing Skyrim. Instead of progressing through change, Mando just gets some sick Beskar plate armor, some tiny arm-rockets, and a jetpack.\"\"\",\n",
    "    \"\"\"I thought they at least had a descency to say goodbuy to Henry's Geralt properly or include some cool action scenes in the last episode. Nope. Instead, they included some unnecessary annoying characters, unneeded scenes, and huge plot gaps. Tissaia's character is completely wasted. She supposed to be a strong and powerful figure. Instead, she is depicted as a weak teenage girl weeping for some dude. Yennefer was built as an ever-powerful witch in the first season and her character is completely wasted as well. Suddenly the elves are so powerful, while they resembled some homeless tribe during the first two seasons. Ciri is... I don't know what she is. Overall, the only good thing about this TV show was Cavill and his representation of a witcher. Since he is no longer in it, I will not watch it.\n",
    "\n",
    "Also, Hissrich ruined all female characters in this show by horrible writing and poor casting choices.\"\"\",\n",
    "    \"\"\"I thought season 1 was like an interesting roller coaster ride but season 2 didn't do it for me. The main character and some of the side characters got on my nerves from time to time and I really didn't care enough about anyone to be passionate about whether they lived or died other than on a basic human level of wanting everyone to live. I'm more upset that I spent all these hours watching this especially with that ridiculous ending. The payoff was not worth the journey. It had its moments but overall, it was a decent watch. Much of the storyline and character charisma was in season 1. I also didn't like the direction they chose to go with the main character this time around but that's just me. Lastly, they spent too much time on subpar characters and some characters were not needed at all. I. E. The guy with the cross around his neck was so cringe and irritating to me. This was a season of frustration for me. Very unsatisfying and disappointing. Maybe Season 3 will be better, if they decide to go another round.\"\"\"\n",
    "]\n",
    "\n",
    "df_reviews = pd.DataFrame({\n",
    "    \"review\": positive_reviews + negative_reviews,\n",
    "    \"sentiment\": [\"1\"] * len(positive_reviews) + [\"0\"] * len(negative_reviews)\n",
    "})\n",
    "print(df_reviews)"
   ]
  },
  {
   "cell_type": "markdown",
   "metadata": {},
   "source": [
    "#### Load review sample into dataloader and evaluate using BERT"
   ]
  },
  {
   "cell_type": "code",
   "execution_count": null,
   "metadata": {},
   "outputs": [
    {
     "name": "stderr",
     "output_type": "stream",
     "text": [
      "Evaluating on Test Set:   0%|          | 0/249 [00:00<?, ?it/s]"
     ]
    },
    {
     "name": "stderr",
     "output_type": "stream",
     "text": [
      "Evaluating on Test Set: 100%|██████████| 249/249 [00:30<00:00,  8.16it/s]"
     ]
    },
    {
     "name": "stdout",
     "output_type": "stream",
     "text": [
      "Custom Review Accuracy using BERT: 78.14%\n"
     ]
    },
    {
     "name": "stderr",
     "output_type": "stream",
     "text": [
      "\n"
     ]
    }
   ],
   "source": [
    "custom_test_dataset = MovieReviewDataset(\n",
    "    reviews=df_reviews['review'].values,  # Assuming df_reviews contains test data\n",
    "    targets=df_reviews['sentiment'].values,\n",
    "    tokenizer=tokenizer,\n",
    "    max_len=MAX_LEN,\n",
    "    bert_model=bert_model,       # Required if we want to precompute now\n",
    "    embed_folder='test_embeds',  # Folder to save embeddings\n",
    "    precompute=precompute          # Set to True so we generate them\n",
    ")\n",
    "\n",
    "custom_test_data_loader = DataLoader(\n",
    "    test_dataset,\n",
    "    batch_size=BATCH_SIZE,\n",
    "    num_workers=num_workers,\n",
    "    pin_memory=pin_memory\n",
    ")\n",
    "\n",
    "bert_model = SentimentClassifierPooled(n_classes=1)\n",
    "bert_model.load_state_dict(torch.load(\"A4-BERT-Yang_Chen_Lin-1011781948.pth\", map_location=device))\n",
    "criterion = nn.BCEWithLogitsLoss()\n",
    "\n",
    "test_loss, test_acc = evaluate_test(bert_model, custom_test_data_loader, criterion, device=device)\n",
    "print(f\"Custom Review Accuracy using BERT: {test_acc:.2f}%\")\n"
   ]
  },
  {
   "cell_type": "markdown",
   "metadata": {},
   "source": [
    "#### Load review samples for RNN"
   ]
  },
  {
   "cell_type": "code",
   "execution_count": null,
   "metadata": {},
   "outputs": [],
   "source": [
    "# Extract reviews and labels\n",
    "reviews = df_reviews[\"review\"].values\n",
    "labels = df_reviews[\"sentiment\"].values\n",
    "\n",
    "# Tokenize datasets\n",
    "def tokenize(data, labels, stoi):\n",
    "    data_encoded = []\n",
    "    for review in data:\n",
    "        data_encoded.append([stoi[word] for word in preprocess_sentence(review)\n",
    "                             if word in stoi])\n",
    "    labels_encoded = [int(label) for label in labels]\n",
    "\n",
    "    return np.array(data_encoded, dtype=object), np.array(labels_encoded)\n",
    "\n",
    "data, labels = tokenize(reviews, labels, stoi)\n",
    "data_encoded = []\n",
    "\n",
    "for review in reviews:\n",
    "    tokens = preprocess_sentence(review)           \n",
    "    indices = [stoi[word] for word in tokens if word in stoi] \n",
    "    data_encoded.append(indices)\n",
    "    \n",
    "padding_length = 500\n",
    "custom_test_data_padded = padding_(data_encoded, padding_length)"
   ]
  },
  {
   "cell_type": "code",
   "execution_count": null,
   "metadata": {},
   "outputs": [
    {
     "data": {
      "text/plain": [
       "(torch.Size([10, 500]), torch.Size([10]))"
      ]
     },
     "execution_count": 322,
     "metadata": {},
     "output_type": "execute_result"
    }
   ],
   "source": [
    "custom_test_tensor = torch.tensor(custom_test_data_padded, dtype=torch.long)\n",
    "custom_test_labels_tensor = torch.tensor(labels, dtype=torch.long)\n",
    "custom_test_dataset = TensorDataset(custom_test_tensor, custom_test_labels_tensor)\n",
    "\n",
    "batch_size = 16\n",
    "custom_test_loader = DataLoader(custom_test_dataset, batch_size=batch_size, shuffle=False)\n",
    "\n",
    "# Get a single batch to verify DataLoader functionality\n",
    "sample_batch, sample_labels = next(iter(custom_test_loader))\n",
    "(sample_batch.shape, sample_labels.shape)"
   ]
  },
  {
   "cell_type": "code",
   "execution_count": null,
   "metadata": {},
   "outputs": [],
   "source": [
    "def get_accuracy(model, data_loader):\n",
    "    all_preds = []\n",
    "    all_labels = []\n",
    "    \n",
    "    correct = 0\n",
    "    total = 0\n",
    "    model.eval()\n",
    "    with torch.no_grad():\n",
    "        for inputs, targets in data_loader:\n",
    "            inputs, targets = inputs.to(device), targets.to(device)\n",
    "            outputs = model(inputs).squeeze(1)\n",
    "            predicted = (outputs > 0.5).float()  # get the predicted class\n",
    "            all_preds.extend(predicted.cpu().numpy())\n",
    "            all_labels.extend(targets.cpu().numpy())\n",
    "            correct += (predicted == targets).sum().item()\n",
    "            total += targets.size(0)\n",
    "            \n",
    "    all_preds = [int(p) for p in all_preds]\n",
    "    all_labels = [int(l) for l in all_labels]\n",
    "\n",
    "    print(\"Predicted:\", all_preds)\n",
    "    print(\"Ground truth:\", all_labels)\n",
    "    \n",
    "    return correct / total"
   ]
  },
  {
   "cell_type": "code",
   "execution_count": 344,
   "metadata": {},
   "outputs": [
    {
     "name": "stdout",
     "output_type": "stream",
     "text": [
      "Predicted: [1, 1, 1, 1, 1, 0, 0, 1, 0, 0]\n",
      "Ground truth: [1, 1, 1, 1, 1, 0, 0, 0, 0, 0]\n",
      "Final Test Accuracy using RNN: 0.9000\n"
     ]
    }
   ],
   "source": [
    "# TO BE COMPLETED\n",
    "vocab_size = len(stoi) + 1\n",
    "embedding_dim = 200\n",
    "hidden_dim = 64\n",
    "num_layers = 4\n",
    "output_dim = 1\n",
    "dropout = 0.7\n",
    "pooling = 'concat'\n",
    "\n",
    "RNN_model = SentimentRNN(vocab_size, embedding_dim, hidden_dim, num_layers, output_dim, dropout, pooling)\n",
    "RNN_model.load_state_dict(torch.load(\"A4-RNN-Yang_Chen_Lin-1011781948.pth\"))\n",
    "RNN_model.to(device)\n",
    "RNN_model.eval()\n",
    "\n",
    "test_acc = get_accuracy(RNN_model, custom_test_loader)\n",
    "print(f\"Final Test Accuracy using RNN: {test_acc:.4f}\")"
   ]
  },
  {
   "cell_type": "code",
   "execution_count": null,
   "metadata": {
    "id": "0kLt9a5Xm5cO"
   },
   "outputs": [],
   "source": [
    "'''\n",
    "PROVIDE YOUR ANSWER BELOW\n",
    "The RNN model achieved 90% accuracy on the new dataset, outperforming BERT's 78.14%, even \n",
    "though BERT typically excels due to its pretrained knowledge and contextual understanding.\n",
    "However, in this assignment, the BERT model used precomputed pooled embeddings, which limits \n",
    "its ability to adapt to new context during inference. Meanwhile, the RNN may have benefited from \n",
    "better alignment with the language style of the new reviews. This suggests that simpler models like \n",
    "RNNs can outperform larger ones when the vocabulary and structure of the test data closely match the \n",
    "training distribution.\n",
    "'''"
   ]
  },
  {
   "cell_type": "markdown",
   "metadata": {
    "id": "ARDyU7N2mWFh"
   },
   "source": [
    "# PART C (Optional) - Bonus Challenge!\n",
    "\n",
    "This is an optional exercise for those that finish the assignment early and would like to take on a challenging task.\n",
    "\n",
    "In part A we constructed and trained an LSTM model to identify the sentiment in movie reviews. In Part B we used the embeddings of a BERT model pretrained on a large corpus of text to demonstrate how transfer learning can be used to improve our movie sentiment model. The BERT model is one of many language models that we could have used to implement transfer learning.\n",
    "\n",
    "For this bonus challenge you are asked to implement a generative character-level LSTM model to produce IMDB movie reviews. Once the model is sufficiently trained you can then use its hidden states as the embedding for training a movie sentiment model. Construct your new movie sentiment analysis model and compare the performance against the model from part A and B.\n",
    "\n",
    "There are many variants of a generative LSTM model that you can consider. As a starting point you can use the generative LSTM sample code provided in the lecture notes. Specifically, the one used to generate Shakeaspeare. More advanced versions of a generative LSTM can be found in the Universal Language Model Fine-turing for Text Classification (ULMfit) paper (https://arxiv.org/abs/1801.06146).\n",
    "\n",
    "Tasks:\n",
    "\n",
    "1. Create a generative character-level LSTM model trained to create IMDB reviews\n",
    "2. Create a classifier using the embeddings from the generative LSTM model (from step 1) to identify positive and negative reviews.\n",
    "3. Compare the performance of the model with the results in parts A and B of the assignment.\n",
    "4. Upgrade the generative LSTM model using the techniques listed in the ULMfit paper (e.g., bi-directional LSTM, pretraining with wikipedia text and fine-tuning on IMDBT reviews, etc.).\n",
    "\n",
    "Bonus marks will be provided based on the number of steps completed. Summarize below your results and anything intersting you learned from the steps that you completed. Bonus marks cannot be accumulated beyond a maximum assignment grade.\n"
   ]
  },
  {
   "cell_type": "code",
   "execution_count": null,
   "metadata": {
    "id": "9eUKPfCumdpW"
   },
   "outputs": [],
   "source": [
    "# TO BE COMPLETED\n",
    "\n",
    "\n"
   ]
  },
  {
   "cell_type": "code",
   "execution_count": null,
   "metadata": {
    "id": "ryS5uR0NB8pE"
   },
   "outputs": [],
   "source": [
    "'''\n",
    "PROVIDE YOUR ANSWER BELOW\n",
    "\n",
    "\n",
    "\n",
    "\n",
    "\n",
    "\n",
    "'''"
   ]
  },
  {
   "cell_type": "markdown",
   "metadata": {
    "id": "FYwI4RmFS2RB"
   },
   "source": [
    "### Saving to HTML\n",
    "Detailed instructions for saving to HTML can be found <a href=\"https://stackoverflow.com/questions/53460051/convert-ipynb-notebook-to-html-in-google-colab/64487858#64487858\">here</a>. Provided below are a summary of the instructions:\n",
    "\n",
    "(1) download your ipynb file by clicking on File->Download.ipynb\n",
    "\n",
    "(2) reupload your file to the temporary Google Colab storage (you can access the temporary storage from the tab to the left)\n",
    "\n",
    "(3) run the following:"
   ]
  },
  {
   "cell_type": "code",
   "execution_count": null,
   "metadata": {
    "id": "2TrsqdNgS5ex"
   },
   "outputs": [],
   "source": [
    "#!pip install nbconvert\n",
    "\n",
    "%%shell\n",
    "jupyter nbconvert --to html /content/A4.ipynb\n"
   ]
  },
  {
   "cell_type": "markdown",
   "metadata": {
    "id": "nuXhlFlPTY7F"
   },
   "source": [
    "(4) the html file will be available for download in the temporary Google Colab storage\n",
    "\n",
    "(5) review the html file and make sure all the results are visible before submitting your assignment to Quercus"
   ]
  },
  {
   "cell_type": "markdown",
   "metadata": {
    "id": "Oo8xLbm4mggI"
   },
   "source": [
    "# Assignment Grading Rubric\n",
    "The grading of the assignment will be based on the following categories:\n",
    "\n",
    "(1) **10 Pt - EXPLORATORY QUESTIONS** These are basic questions that in most cases can be answered without requiring a fully working and trained neural network model. For example, data loading, processing and visualization, summary statistics, data exploration, model and training setup, etc.\n",
    "\n",
    "(2) **10 Pt - MODEL** Student has successfully implemented all the required neural network models and has demonstrated successful training of the model without any errors.\n",
    "\n",
    "(3) **10 Pt - RESULT** Students are evaluated based on the results achieved in comparison to the expected results of the assignment.\n",
    "\n",
    "(4) **10 Pt - DISCUSSION QUESTIONS** Student demonstrated understanding beyond the basic exploratory questions, can answer some of the more challenging questions, and provide arguments for their model selection decisions.\n",
    "\n",
    "(5) **10 Pt - COMMUNICATION** Student has provided a quality submission that is easy to read without too many unnecessary output statements that distract the reading of the document. The code has been well commented and all the answers are communicated clearly and concisely.\n",
    "\n",
    "(6) **10 Pt - BONUS** Student has completed the assignment and has taken on the challenging bonus tasks listed in PART C. The student has demonstrated a good understanding of all aspects of the assignment and has exceeded expectations for the assignment.\n",
    "\n",
    "\n",
    "\n",
    "**TOTAL GRADE = _____ of 50 Pts**"
   ]
  }
 ],
 "metadata": {
  "accelerator": "GPU",
  "colab": {
   "gpuType": "T4",
   "provenance": []
  },
  "kernelspec": {
   "display_name": "MIE1517",
   "language": "python",
   "name": "python3"
  },
  "language_info": {
   "codemirror_mode": {
    "name": "ipython",
    "version": 3
   },
   "file_extension": ".py",
   "mimetype": "text/x-python",
   "name": "python",
   "nbconvert_exporter": "python",
   "pygments_lexer": "ipython3",
   "version": "3.9.18"
  }
 },
 "nbformat": 4,
 "nbformat_minor": 0
}
