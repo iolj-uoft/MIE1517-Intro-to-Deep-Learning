{
  "cells": [
    {
      "cell_type": "markdown",
      "metadata": {
        "id": "DjU0K-Jy2STo"
      },
      "source": [
        "# Pre 4A - Recurrent Neural Networks (Assignment Preparation)\n",
        "\n",
        "This tutorial is split into three parts. Parts A and B are covered in the lecture and focus on Word2Vec and GloVe word embeddings. Sentiment analysis using GloVe embeddings with a simple ANN classifier is the focus of Part B. Part C introduces recurrent neural networks (RNNs) for sentiment analysis and provides sample code for batching of data."
      ]
    },
    {
      "cell_type": "markdown",
      "metadata": {
        "id": "vsDHAKK-6e16"
      },
      "source": [
        "# Part A: Word2Vec and GloVe Vectors\n",
        "We saw how autoencoders are used to learn a latent\n",
        "**embedding space**: an alternative, low-dimensional representation\n",
        "of a set of data with some appealing properties:\n",
        "for example, we saw that interpolating in the latent space\n",
        "is a way of generating new examples. In particular,\n",
        "interpolation in the latent space generates more compelling\n",
        "examples than, say, interpolating in the raw pixel space.\n",
        "\n",
        "The idea of learning an alternative representation/features/*embeddings* of data\n",
        "is a prevalent one in machine learning. Good representations will\n",
        "make downstream tasks (like generating new data, clustering, computing distances) perform much better.\n",
        "\n",
        "With autoencoders, we were able to learn a representation of MNIST digits.\n",
        "In lab 4, we use an autoencoder to learn a representation of a census record.\n",
        "In both cases, we used a model that looks like this:\n",
        "\n",
        "- **Encoder**: data -> embedding\n",
        "- **Decoder**: embedding -> data\n",
        "\n",
        "This type of architecture works well for certain types of data (e.g. images)\n",
        "that are easy to generate, and whose meaning is encoded in the input data\n",
        "representation (e.g. the pixels).\n",
        "\n",
        "But what if we want to train an embedding on words? Words are different\n",
        "from images, in that the meaning of a word is not represented\n",
        "by the letters that make up the word (the same way that the meaning\n",
        "of an image is represented by the pixels that make up the pixel). Instead,\n",
        "the meaning of words comes from how they are used in conjunction with other\n",
        "words.\n",
        "\n",
        "## word2vec models\n",
        "\n",
        "A word2vec model learns embedding of words using the following architecture:\n",
        "\n",
        "- **Encoder**: word -> embedding\n",
        "- **Decoder**: embedding -> nearby words (context)\n",
        "\n",
        "Specific word2vec models differ in the which \"nearby words\" is predicted\n",
        "using the decoder: is it the 3 context words that appeared *before*\n",
        "the input word? Is it the 3 words that appeared *after*? Or is it a combination\n",
        "of the two words that appeared before and two words that appeared after\n",
        "the input word?\n",
        "\n",
        "These models are trained using a large corpus of text: for example the whole\n",
        "of Wikipedia or a large collection of news articles. We won't train our\n",
        "own word2vec models in this course, so we won't talk about the many considerations involved in training a word2vec model.\n",
        "\n",
        "Instead, we will use a set of pre-trained word embeddings. These are embeddings\n",
        "that someone else took the time and computational power to train.\n",
        "One of the most commonly-used pre-trained word embeddings are the **GloVe embeddings**.\n",
        "\n",
        "GloVe is a variation of a word2vec model. Again, the specifics of the algorithm\n",
        "and its training will be beyond the scope of this course.\n",
        "You should think of **GloVe embeddings** similarly to pre-trained AlexNet weights in that they \"may\" provide improvements to the representation of data.\n",
        "\n",
        "More information about GloVe is available here: https://nlp.stanford.edu/projects/glove/\n",
        "\n",
        "Unlike AlexNet, there are several variations of GloVe embeddings. They\n",
        "differ in the corpus used to train the embedding, and the *size* of the embeddings.\n",
        "\n",
        "## GloVe Embeddings\n",
        "\n",
        "To load pre-trained GloVe embeddings, we'll use a package called `torchtext`.\n",
        "The package `torchtext` contains other useful tools for working with text\n",
        "that we will see later in the course. The documentation for torchtext\n",
        "GloVe vectors are available at: https://torchtext.readthedocs.io/en/latest/vocab.html#glove\n",
        "\n",
        "We'll begin by loading a set of GloVe embeddings. The first time you run the code below, Python will download a large file (862MB) containing the pre-trained embeddings."
      ]
    },
    {
      "cell_type": "code",
      "execution_count": null,
      "metadata": {
        "colab": {
          "base_uri": "https://localhost:8080/",
          "height": 1000
        },
        "id": "EvPondzEx6_W",
        "outputId": "a95b370c-510b-44d6-e047-8ce43c857b13"
      },
      "outputs": [],
      "source": [
        "# README\n",
        "# torchtext has been deprecated, use last working versions of pytorch and torchtext\n",
        "# https://github.com/pytorch/text/issues/2250\n",
        "\n",
        "!pip install torch==2.3.0 # then restart runtime\n",
        "\n",
        "# may need to uninstall torch before you can downgrade the versions\n",
        "#!pip uninstall torch -y\n"
      ]
    },
    {
      "cell_type": "code",
      "execution_count": 3,
      "metadata": {
        "colab": {
          "base_uri": "https://localhost:8080/"
        },
        "id": "zG-8roXa2Ezj",
        "outputId": "e95d1d37-9eea-44cc-f322-aed8aae3d766"
      },
      "outputs": [
        {
          "name": "stdout",
          "output_type": "stream",
          "text": [
            "2.3.0\n"
          ]
        }
      ],
      "source": [
        "# verify version\n",
        "import torch\n",
        "print(torch.__version__)"
      ]
    },
    {
      "cell_type": "code",
      "execution_count": null,
      "metadata": {
        "colab": {
          "base_uri": "https://localhost:8080/"
        },
        "id": "nkItDdGZ18OR",
        "outputId": "c82edd8d-e49f-4a3a-a3e5-8a303981910a"
      },
      "outputs": [],
      "source": [
        "!pip install torchtext==0.18.0"
      ]
    },
    {
      "cell_type": "code",
      "execution_count": 4,
      "metadata": {
        "colab": {
          "base_uri": "https://localhost:8080/"
        },
        "id": "UORHOkpF6e18",
        "outputId": "a10220ea-9c31-4c35-a8f4-e2c30c9e6bb2"
      },
      "outputs": [],
      "source": [
        "# requirement: torch 2.3.0 and torchtext 0.18.0\n",
        "\n",
        "from torchtext.vocab import GloVe  # Import GloVe directly\n",
        "\n",
        "# The first time you run this will download a ~823MB file\n",
        "glove = GloVe(name=\"6B\", # trained on Wikipedia 2014 corpus\n",
        "              dim=50)"
      ]
    },
    {
      "cell_type": "markdown",
      "metadata": {
        "id": "I18-A-vX6e2B"
      },
      "source": [
        "Let's look at what the embedding of the word \"cat\" looks like:"
      ]
    },
    {
      "cell_type": "code",
      "execution_count": 5,
      "metadata": {
        "colab": {
          "base_uri": "https://localhost:8080/"
        },
        "id": "45MJth3T6e2C",
        "outputId": "aecc8c5e-00fd-45ed-c678-305b6d081d50"
      },
      "outputs": [
        {
          "data": {
            "text/plain": [
              "tensor([ 0.4528, -0.5011, -0.5371, -0.0157,  0.2219,  0.5460, -0.6730, -0.6891,\n",
              "         0.6349, -0.1973,  0.3368,  0.7735,  0.9009,  0.3849,  0.3837,  0.2657,\n",
              "        -0.0806,  0.6109, -1.2894, -0.2231, -0.6158,  0.2170,  0.3561,  0.4450,\n",
              "         0.6089, -1.1633, -1.1579,  0.3612,  0.1047, -0.7832,  1.4352,  0.1863,\n",
              "        -0.2611,  0.8328, -0.2312,  0.3248,  0.1449, -0.4455,  0.3350, -0.9595,\n",
              "        -0.0975,  0.4814, -0.4335,  0.6945,  0.9104, -0.2817,  0.4164, -1.2609,\n",
              "         0.7128,  0.2378])"
            ]
          },
          "execution_count": 5,
          "metadata": {},
          "output_type": "execute_result"
        }
      ],
      "source": [
        "glove['cat']"
      ]
    },
    {
      "cell_type": "markdown",
      "metadata": {
        "id": "pnMtWa6i6e2G"
      },
      "source": [
        "It is a torch tensor with dimension `(50,)`. It is difficult to determine what each\n",
        "number in this embedding means, if anything. However, we know that there is structure\n",
        "in this embedding space. That is, distances in this embedding space is meaningful.\n",
        "\n",
        "## Measuring Distance\n",
        "\n",
        "To explore the structure of the embedding space, it is necessary to introduce\n",
        "a notion of *distance*. You are probably already familiar with the notion\n",
        "of the **Euclidean distance**. The Euclidean distance of two vectors $x = [x_1, x_2, ... x_n]$ and\n",
        "$y = [y_1, y_2, ... y_n]$ is just the 2-norm of their difference $x - y$. We can compute\n",
        "the Euclidean distance between $x$ and $y$:\n",
        "$\\sqrt{\\sum_i (x_i - y_i)^2}$\n",
        "\n",
        "The PyTorch function `torch.norm` computes the 2-norm of a vector for us, so we\n",
        "can compute the Euclidean distance between two vectors like this:"
      ]
    },
    {
      "cell_type": "code",
      "execution_count": 6,
      "metadata": {
        "colab": {
          "base_uri": "https://localhost:8080/"
        },
        "id": "1AF5zD3r6e2H",
        "outputId": "3654fd09-de92-4beb-e0be-4c2dc4809b09"
      },
      "outputs": [
        {
          "data": {
            "text/plain": [
              "tensor(1.8846)"
            ]
          },
          "execution_count": 6,
          "metadata": {},
          "output_type": "execute_result"
        }
      ],
      "source": [
        "x = glove['cat']\n",
        "y = glove['dog']\n",
        "torch.norm(y - x)"
      ]
    },
    {
      "cell_type": "code",
      "execution_count": 7,
      "metadata": {
        "colab": {
          "base_uri": "https://localhost:8080/"
        },
        "id": "B9d4OENG6e2L",
        "outputId": "6c2a5fbb-cc08-45d5-95af-395b6eab5dbc"
      },
      "outputs": [
        {
          "data": {
            "text/plain": [
              "tensor(3.3189)"
            ]
          },
          "execution_count": 7,
          "metadata": {},
          "output_type": "execute_result"
        }
      ],
      "source": [
        "torch.norm(glove['good'] - glove['bad'])"
      ]
    },
    {
      "cell_type": "code",
      "execution_count": null,
      "metadata": {
        "colab": {
          "base_uri": "https://localhost:8080/"
        },
        "id": "XYYTNoJd6e2P",
        "outputId": "d798793a-8dd6-4fc6-9df8-6fed511fec56"
      },
      "outputs": [
        {
          "data": {
            "text/plain": [
              "tensor(5.3390)"
            ]
          },
          "execution_count": 12,
          "metadata": {},
          "output_type": "execute_result"
        }
      ],
      "source": [
        "torch.norm(glove['good'] - glove['water'])"
      ]
    },
    {
      "cell_type": "code",
      "execution_count": null,
      "metadata": {
        "colab": {
          "base_uri": "https://localhost:8080/"
        },
        "id": "agzsKxtB6e2S",
        "outputId": "8da9cdc5-5261-465e-ed93-310b67e183f8"
      },
      "outputs": [
        {
          "data": {
            "text/plain": [
              "tensor(2.7703)"
            ]
          },
          "execution_count": 13,
          "metadata": {},
          "output_type": "execute_result"
        }
      ],
      "source": [
        "torch.norm(glove['good'] - glove['well'])"
      ]
    },
    {
      "cell_type": "code",
      "execution_count": 11,
      "metadata": {
        "colab": {
          "base_uri": "https://localhost:8080/"
        },
        "id": "Ja6wXHUR6e2f",
        "outputId": "25c6be57-ffde-4b21-a4c6-fcd4795227f5"
      },
      "outputs": [
        {
          "data": {
            "text/plain": [
              "tensor(2.8834)"
            ]
          },
          "execution_count": 11,
          "metadata": {},
          "output_type": "execute_result"
        }
      ],
      "source": [
        "torch.norm(glove['good'] - glove['perfect'])"
      ]
    },
    {
      "cell_type": "code",
      "execution_count": 10,
      "metadata": {
        "colab": {
          "base_uri": "https://localhost:8080/"
        },
        "id": "J5yo0nRA6e2j",
        "outputId": "5d47bb33-261a-4e93-8537-541f4a0b44be"
      },
      "outputs": [
        {
          "data": {
            "text/plain": [
              "tensor(3.7491)"
            ]
          },
          "execution_count": 10,
          "metadata": {},
          "output_type": "execute_result"
        }
      ],
      "source": [
        "torch.norm(glove['cat'] - glove['horse'])"
      ]
    },
    {
      "cell_type": "markdown",
      "metadata": {
        "id": "L68vJPyp6e2l"
      },
      "source": [
        "An alternative measure of distance is the **Cosine Similarity**.\n",
        "The cosine similarity measures the *angle* between two vectors,\n",
        "and has the property that it only considers the *direction* of the\n",
        "vectors, not their the magnitudes."
      ]
    },
    {
      "cell_type": "code",
      "execution_count": 9,
      "metadata": {
        "colab": {
          "base_uri": "https://localhost:8080/"
        },
        "id": "kQGqLuLo6e2m",
        "outputId": "bd5fc17a-7177-4c15-9892-8c3fdec24cb0"
      },
      "outputs": [
        {
          "data": {
            "text/plain": [
              "tensor([0.3333])"
            ]
          },
          "execution_count": 9,
          "metadata": {},
          "output_type": "execute_result"
        }
      ],
      "source": [
        "x = torch.tensor([1., 1., 1.]).unsqueeze(0)\n",
        "y = torch.tensor([2., 2., -2.]).unsqueeze(0)\n",
        "torch.cosine_similarity(x, y)"
      ]
    },
    {
      "cell_type": "markdown",
      "metadata": {
        "id": "v1iL4y9G6e2p"
      },
      "source": [
        "The cosine similarity is a *similarity* measure rather than a *distance* measure:\n",
        "The larger the similarity,\n",
        "the \"closer\" the word embeddings are to each other."
      ]
    },
    {
      "cell_type": "code",
      "execution_count": 12,
      "metadata": {
        "colab": {
          "base_uri": "https://localhost:8080/"
        },
        "id": "nq5TjyjM6e2q",
        "outputId": "59e24a12-2335-434d-b197-367c0348b084"
      },
      "outputs": [
        {
          "data": {
            "text/plain": [
              "tensor([0.9218])"
            ]
          },
          "execution_count": 12,
          "metadata": {},
          "output_type": "execute_result"
        }
      ],
      "source": [
        "x = glove['cat']\n",
        "y = glove['dog']\n",
        "torch.cosine_similarity(x.unsqueeze(0), y.unsqueeze(0))"
      ]
    },
    {
      "cell_type": "code",
      "execution_count": 13,
      "metadata": {
        "colab": {
          "base_uri": "https://localhost:8080/"
        },
        "id": "Isp4ENaP6e2s",
        "outputId": "b9458ebe-1635-4716-89e4-03a955bd867a"
      },
      "outputs": [
        {
          "data": {
            "text/plain": [
              "tensor([0.7965])"
            ]
          },
          "execution_count": 13,
          "metadata": {},
          "output_type": "execute_result"
        }
      ],
      "source": [
        "torch.cosine_similarity(glove['good'].unsqueeze(0),\n",
        "                        glove['bad'].unsqueeze(0))"
      ]
    },
    {
      "cell_type": "code",
      "execution_count": null,
      "metadata": {
        "colab": {
          "base_uri": "https://localhost:8080/"
        },
        "id": "7KT6t--m6e2v",
        "outputId": "16d2170f-c4b9-41cd-b455-3dc307823dab"
      },
      "outputs": [
        {
          "data": {
            "text/plain": [
              "tensor([0.8511])"
            ]
          },
          "execution_count": 25,
          "metadata": {},
          "output_type": "execute_result"
        }
      ],
      "source": [
        "torch.cosine_similarity(glove['good'].unsqueeze(0),\n",
        "                        glove['well'].unsqueeze(0))"
      ]
    },
    {
      "cell_type": "code",
      "execution_count": null,
      "metadata": {
        "colab": {
          "base_uri": "https://localhost:8080/"
        },
        "id": "JrrYJjtg6e2y",
        "outputId": "cdfc9497-7818-4a50-d635-6e167e6a8608"
      },
      "outputs": [
        {
          "data": {
            "text/plain": [
              "tensor([0.8376])"
            ]
          },
          "execution_count": 26,
          "metadata": {},
          "output_type": "execute_result"
        }
      ],
      "source": [
        "torch.cosine_similarity(glove['good'].unsqueeze(0),\n",
        "                        glove['perfect'].unsqueeze(0))"
      ]
    },
    {
      "cell_type": "code",
      "execution_count": null,
      "metadata": {
        "colab": {
          "base_uri": "https://localhost:8080/"
        },
        "id": "s2j5GhxN6e21",
        "outputId": "8501ea2f-1b4b-4420-c6cb-0645b6f8e6d1"
      },
      "outputs": [
        {
          "data": {
            "text/plain": [
              "tensor([0.1991])"
            ]
          },
          "execution_count": 27,
          "metadata": {},
          "output_type": "execute_result"
        }
      ],
      "source": [
        "torch.cosine_similarity(glove['good'].unsqueeze(0),\n",
        "                        glove['bravo'].unsqueeze(0))"
      ]
    },
    {
      "cell_type": "markdown",
      "metadata": {
        "id": "2prXo1u16e28"
      },
      "source": [
        "## Word Similarity\n",
        "\n",
        "Now that we have a notion of distance in our embedding space, we can talk\n",
        "about words that are \"close\" to each other in the embedding space.\n",
        "For now, let's use Euclidean distances to look at how close various words\n",
        "are to the word \"cat\"."
      ]
    },
    {
      "cell_type": "code",
      "execution_count": 15,
      "metadata": {
        "colab": {
          "base_uri": "https://localhost:8080/"
        },
        "id": "PjOT20nu6e29",
        "outputId": "feccc464-40b9-4b55-9a9e-eb00937f8e5b"
      },
      "outputs": [
        {
          "name": "stdout",
          "output_type": "stream",
          "text": [
            "pet 3.039675712585449\n",
            "dog 1.8846030235290527\n",
            "bike 5.048375129699707\n",
            "kitten 3.5068609714508057\n",
            "puppy 3.0644657611846924\n",
            "kite 4.210376262664795\n",
            "computer 6.0306525230407715\n",
            "neuron 6.228668212890625\n"
          ]
        }
      ],
      "source": [
        "word = 'cat'\n",
        "other = ['pet', 'dog', 'bike', 'kitten', 'puppy', 'kite', 'computer', 'neuron']\n",
        "for w in other:\n",
        "    dist = torch.norm(glove[word] - glove[w]) # euclidean distance\n",
        "    print(w, float(dist))"
      ]
    },
    {
      "cell_type": "markdown",
      "metadata": {
        "id": "w8xuChOT6e3B"
      },
      "source": [
        "In fact, we can look through our entire vocabulary for words that are closest\n",
        "to a point in the embedding space -- for example, we can look for words\n",
        "that are closest to another word like \"cat\"."
      ]
    },
    {
      "cell_type": "code",
      "execution_count": 16,
      "metadata": {
        "colab": {
          "base_uri": "https://localhost:8080/"
        },
        "id": "fyIdY_Ol6e3C",
        "outputId": "4a15c5f9-6cab-40ab-b2f5-12102a129e8e"
      },
      "outputs": [
        {
          "name": "stdout",
          "output_type": "stream",
          "text": [
            "dog 1.884603\n",
            "rabbit 2.45728\n",
            "monkey 2.8102055\n",
            "cats 2.8972247\n",
            "rat 2.945535\n",
            "beast 2.9878407\n",
            "monster 3.0022192\n",
            "pet 3.0396757\n",
            "snake 3.0617995\n",
            "puppy 3.0644658\n"
          ]
        }
      ],
      "source": [
        "def print_closest_words(vec, n=5):\n",
        "    dists = torch.norm(glove.vectors - vec, dim=1)     # compute distances to all words\n",
        "    lst = sorted(enumerate(dists.numpy()), key=lambda x: x[1]) # sort by distance\n",
        "    for idx, difference in lst[1:n+1]:                         # take the top n\n",
        "        print(glove.itos[idx], difference)\n",
        "\n",
        "print_closest_words(glove[\"cat\"], n=10)"
      ]
    },
    {
      "cell_type": "code",
      "execution_count": 17,
      "metadata": {
        "colab": {
          "base_uri": "https://localhost:8080/"
        },
        "id": "QPiEs8Dx6e3G",
        "outputId": "8ccd726f-77dc-4a76-d12c-5b1fc86ea810"
      },
      "outputs": [
        {
          "name": "stdout",
          "output_type": "stream",
          "text": [
            "doctor 3.127453\n",
            "dentist 3.1306615\n",
            "nurses 3.26872\n",
            "pediatrician 3.3212206\n",
            "counselor 3.3987117\n"
          ]
        }
      ],
      "source": [
        "print_closest_words(glove['nurse'])"
      ]
    },
    {
      "cell_type": "code",
      "execution_count": null,
      "metadata": {
        "colab": {
          "base_uri": "https://localhost:8080/"
        },
        "id": "yKQmaqwe6e3O",
        "outputId": "39f29a56-1127-4cb3-9844-314d78bb28f5"
      },
      "outputs": [
        {
          "name": "stdout",
          "output_type": "stream",
          "text": [
            "computers 2.4362667\n",
            "software 2.926823\n",
            "technology 3.190351\n",
            "electronic 3.506741\n",
            "computing 3.599979\n"
          ]
        }
      ],
      "source": [
        "print_closest_words(glove['computer'])"
      ]
    },
    {
      "cell_type": "code",
      "execution_count": null,
      "metadata": {
        "colab": {
          "base_uri": "https://localhost:8080/"
        },
        "id": "_nEYq4UB6e3V",
        "outputId": "d5aa79a8-71b4-40b8-dc12-a3cb5e49fe52"
      },
      "outputs": [
        {
          "name": "stdout",
          "output_type": "stream",
          "text": [
            "margaret 2.007497\n",
            "mary 2.270394\n",
            "anne 2.300691\n",
            "catherine 2.6155548\n",
            "katherine 2.722239\n"
          ]
        }
      ],
      "source": [
        "print_closest_words(glove['elizabeth'])"
      ]
    },
    {
      "cell_type": "code",
      "execution_count": null,
      "metadata": {
        "colab": {
          "base_uri": "https://localhost:8080/",
          "height": 108
        },
        "id": "JRyHGVsU6e3Z",
        "outputId": "8da90732-7aa9-4e1c-cd3b-e6862844e981"
      },
      "outputs": [
        {
          "name": "stdout",
          "output_type": "stream",
          "text": [
            "peter 2.922138\n",
            "moore 2.9317658\n",
            "david 2.9446106\n",
            "steven 2.9881783\n",
            "murphy 3.018417\n"
          ]
        }
      ],
      "source": [
        "print_closest_words(glove['michael'])"
      ]
    },
    {
      "cell_type": "code",
      "execution_count": null,
      "metadata": {
        "colab": {
          "base_uri": "https://localhost:8080/"
        },
        "id": "O-SDsoL46e3c",
        "outputId": "b7e6dac5-c0c5-466c-92a6-009afd7d3759"
      },
      "outputs": [
        {
          "name": "stdout",
          "output_type": "stream",
          "text": [
            "marlon 3.7966218\n",
            "dwayne 3.8805976\n",
            "coco 3.908012\n",
            "hooper 3.9350462\n",
            "lara 4.029812\n"
          ]
        }
      ],
      "source": [
        "print_closest_words(glove['bravo'])"
      ]
    },
    {
      "cell_type": "code",
      "execution_count": null,
      "metadata": {
        "colab": {
          "base_uri": "https://localhost:8080/"
        },
        "id": "l2SX5Sb-Ecj5",
        "outputId": "6f634417-8f4c-4992-e279-b31ac52b65ee"
      },
      "outputs": [
        {
          "name": "stdout",
          "output_type": "stream",
          "text": [
            "playing 1.970869\n",
            "played 2.6870694\n",
            "plays 2.8820314\n",
            "game 2.9284909\n",
            "player 2.992642\n"
          ]
        }
      ],
      "source": [
        "print_closest_words(glove['play'])"
      ]
    },
    {
      "cell_type": "markdown",
      "metadata": {
        "id": "ZefA2jV86e3e"
      },
      "source": [
        "We could also look at which words are closest to the midpoints of two words:"
      ]
    },
    {
      "cell_type": "code",
      "execution_count": null,
      "metadata": {
        "colab": {
          "base_uri": "https://localhost:8080/"
        },
        "id": "UbAyMQjw6e3f",
        "outputId": "01c01ac3-1e90-4361-d3f6-ddd4ef09041f"
      },
      "outputs": [
        {
          "name": "stdout",
          "output_type": "stream",
          "text": [
            "happy 1.9199749\n",
            "feels 2.360464\n",
            "sorry 2.4984782\n",
            "hardly 2.52593\n",
            "imagine 2.5652788\n"
          ]
        }
      ],
      "source": [
        "print_closest_words((glove['happy'] + glove['sad']) / 2)"
      ]
    },
    {
      "cell_type": "code",
      "execution_count": null,
      "metadata": {
        "colab": {
          "base_uri": "https://localhost:8080/",
          "height": 108
        },
        "id": "AZaSgfTm6e3l",
        "outputId": "eafe0c94-ff88-4b2c-96da-59e6a4eb9b68"
      },
      "outputs": [
        {
          "name": "stdout",
          "output_type": "stream",
          "text": [
            "surrounding 3.0698414\n",
            "nearby 3.1112068\n",
            "bridge 3.1585503\n",
            "along 3.1610188\n",
            "shore 3.1618817\n"
          ]
        }
      ],
      "source": [
        "print_closest_words((glove['lake'] + glove['building']) / 2)"
      ]
    },
    {
      "cell_type": "code",
      "execution_count": null,
      "metadata": {
        "colab": {
          "base_uri": "https://localhost:8080/",
          "height": 108
        },
        "id": "7fDh7JSr6e3p",
        "outputId": "00873ee4-8adb-4b26-ed5a-c09f039c21e8"
      },
      "outputs": [
        {
          "name": "stdout",
          "output_type": "stream",
          "text": [
            "farrell 2.8013926\n",
            "anderson 2.850686\n",
            "jacobs 2.8537047\n",
            "boyle 2.8578227\n",
            "slater 2.865489\n"
          ]
        }
      ],
      "source": [
        "print_closest_words((glove['bravo'] + glove['michael']) / 2)"
      ]
    },
    {
      "cell_type": "code",
      "execution_count": 18,
      "metadata": {
        "colab": {
          "base_uri": "https://localhost:8080/",
          "height": 108
        },
        "id": "1NZ5vxDt6e3s",
        "outputId": "6156e524-ba89-4f8e-e39d-c920b6d7b6f2"
      },
      "outputs": [
        {
          "name": "stdout",
          "output_type": "stream",
          "text": [
            "ten 1.5737572\n",
            "only 1.8805304\n",
            "three 2.0309954\n",
            "five 2.0468996\n",
            "four 2.1125531\n"
          ]
        }
      ],
      "source": [
        "print_closest_words((glove['one'] + glove['ten']) / 2)"
      ]
    },
    {
      "cell_type": "markdown",
      "metadata": {
        "id": "-4kJq7qN6e3w"
      },
      "source": [
        "## Analogies\n",
        "\n",
        "One surprising aspect of GloVe vectors is that the *directions* in the\n",
        "embedding space can be meaningful. The structure of the GloVe vectors\n",
        "certain analogy-like relationship like this tend to hold:\n",
        "\n",
        "$$ king - man + woman \\approx queen $$"
      ]
    },
    {
      "cell_type": "code",
      "execution_count": 19,
      "metadata": {
        "colab": {
          "base_uri": "https://localhost:8080/"
        },
        "id": "pJ2AXRTo6e3x",
        "outputId": "ffdbd229-2eb9-4a4f-d38c-4b6a6a2018f8"
      },
      "outputs": [
        {
          "name": "stdout",
          "output_type": "stream",
          "text": [
            "queen 2.8391209\n",
            "prince 3.661004\n",
            "elizabeth 3.715252\n",
            "daughter 3.8317876\n",
            "widow 3.8493776\n"
          ]
        }
      ],
      "source": [
        "print_closest_words(glove['king'] - glove['man'] + glove['woman'])"
      ]
    },
    {
      "cell_type": "markdown",
      "metadata": {
        "id": "Y-HjB0406e30"
      },
      "source": [
        "We get reasonable answers like \"queen\", \"throne\" and the name of\n",
        "our current queen.\n",
        "\n",
        "We can likewise flip the analogy around:"
      ]
    },
    {
      "cell_type": "code",
      "execution_count": 20,
      "metadata": {
        "colab": {
          "base_uri": "https://localhost:8080/"
        },
        "id": "N2HhfeRs6e32",
        "outputId": "6396bcd7-110d-4906-ab02-ad51d1c33aa9"
      },
      "outputs": [
        {
          "name": "stdout",
          "output_type": "stream",
          "text": [
            "king 2.8391206\n",
            "prince 3.2508988\n",
            "crown 3.4485192\n",
            "knight 3.5587437\n",
            "coronation 3.6198907\n"
          ]
        }
      ],
      "source": [
        "print_closest_words(glove['queen'] - glove['woman'] + glove['man'])"
      ]
    },
    {
      "cell_type": "markdown",
      "metadata": {
        "id": "UXHR54mM6e38"
      },
      "source": [
        "Or, try a different but related analogies along the gender axis:"
      ]
    },
    {
      "cell_type": "code",
      "execution_count": 21,
      "metadata": {
        "colab": {
          "base_uri": "https://localhost:8080/",
          "height": 108
        },
        "id": "oXqfqaOW6e3-",
        "outputId": "95c16fb4-57f0-469e-c935-e9f6d40b13b2"
      },
      "outputs": [
        {
          "name": "stdout",
          "output_type": "stream",
          "text": [
            "queen 3.1845968\n",
            "king 3.910329\n",
            "bride 4.2857203\n",
            "lady 4.2995706\n",
            "sister 4.4211774\n"
          ]
        }
      ],
      "source": [
        "print_closest_words(glove['king'] - glove['prince'] + glove['princess'])"
      ]
    },
    {
      "cell_type": "code",
      "execution_count": 22,
      "metadata": {
        "colab": {
          "base_uri": "https://localhost:8080/",
          "height": 108
        },
        "id": "mlokVrC06e4E",
        "outputId": "2d1d5c1e-53f5-43b5-f9e3-fd87ce4f2c08"
      },
      "outputs": [
        {
          "name": "stdout",
          "output_type": "stream",
          "text": [
            "grandmother 2.323353\n",
            "aunt 2.352789\n",
            "granddaughter 2.3615324\n",
            "daughter 2.4039288\n",
            "uncle 2.6026237\n"
          ]
        }
      ],
      "source": [
        "print_closest_words(glove['uncle'] - glove['man'] + glove['woman'])"
      ]
    },
    {
      "cell_type": "code",
      "execution_count": null,
      "metadata": {
        "colab": {
          "base_uri": "https://localhost:8080/",
          "height": 108
        },
        "id": "ZLhkBKcq6e4I",
        "outputId": "2aad3095-857c-41f9-bce0-812ad4f59105"
      },
      "outputs": [
        {
          "name": "stdout",
          "output_type": "stream",
          "text": [
            "uncle 2.0784423\n",
            "father 2.0912483\n",
            "grandson 2.2965577\n",
            "nephew 2.353551\n",
            "elder 2.4274695\n"
          ]
        }
      ],
      "source": [
        "print_closest_words(glove['grandmother'] - glove['mother'] + glove['father'])"
      ]
    },
    {
      "cell_type": "code",
      "execution_count": null,
      "metadata": {
        "colab": {
          "base_uri": "https://localhost:8080/",
          "height": 108
        },
        "id": "vfvleT6A6e4L",
        "outputId": "dc67d69b-5727-4e0b-998e-736083e0e86b"
      },
      "outputs": [
        {
          "name": "stdout",
          "output_type": "stream",
          "text": [
            "father 4.0326614\n",
            "son 4.4065413\n",
            "grandfather 4.51851\n",
            "grandson 4.722089\n",
            "daughter 4.786716\n"
          ]
        }
      ],
      "source": [
        "print_closest_words(glove['old'] - glove['young'] + glove['father'])"
      ]
    },
    {
      "cell_type": "markdown",
      "metadata": {
        "id": "bhO_pa1r6e4P"
      },
      "source": [
        "We can move an embedding towards the direction of \"goodness\" or \"badness\":"
      ]
    },
    {
      "cell_type": "code",
      "execution_count": 23,
      "metadata": {
        "colab": {
          "base_uri": "https://localhost:8080/",
          "height": 108
        },
        "id": "N5wYLXZf6e4P",
        "outputId": "4a32da9d-bf58-42d8-bd29-f3b2785b0ba7"
      },
      "outputs": [
        {
          "name": "stdout",
          "output_type": "stream",
          "text": [
            "versatile 4.3815613\n",
            "creative 4.5690002\n",
            "entrepreneur 4.6343737\n",
            "enables 4.7177725\n",
            "intelligent 4.7349973\n"
          ]
        }
      ],
      "source": [
        "print_closest_words(glove['good'] - glove['bad'] + glove['programmer'])"
      ]
    },
    {
      "cell_type": "code",
      "execution_count": null,
      "metadata": {
        "colab": {
          "base_uri": "https://localhost:8080/"
        },
        "id": "Y9plKEy76e4S",
        "outputId": "8e0b8874-ffb4-4447-cd90-4c520149a7d9"
      },
      "outputs": [
        {
          "name": "stdout",
          "output_type": "stream",
          "text": [
            "hacker 3.8383653\n",
            "glitch 4.003873\n",
            "originator 4.041952\n",
            "hack 4.047719\n",
            "serial 4.2250676\n"
          ]
        }
      ],
      "source": [
        "print_closest_words(glove['bad'] - glove['good'] + glove['programmer'])"
      ]
    },
    {
      "cell_type": "code",
      "execution_count": null,
      "metadata": {
        "id": "O7oNYNb3IdmG"
      },
      "outputs": [],
      "source": [
        "print_closest_words(glove['tokyo'] - glove['japan'] + glove['germany'])"
      ]
    },
    {
      "cell_type": "markdown",
      "metadata": {
        "id": "KRoLUQVu6e4W"
      },
      "source": [
        "## Biased in Word Vectors\n",
        "\n",
        "Machine learning models have an air of \"fairness\" about them, since models\n",
        "make decisions without human intervention. However, models can and do learn\n",
        "whatever bias is present in the training data!\n",
        "\n",
        "GloVe vectors seems innocuous enough: they are just representations of\n",
        "words in some embedding space. Even so, we'll show that the structure\n",
        "of the GloVe vectors encodes the everyday biases present in the texts\n",
        "that they are trained on.\n",
        "\n",
        "We'll start with an example analogy:\n",
        "\n",
        "$$doctor - man + woman \\approx ??$$\n",
        "\n",
        "Let's use GloVe vectors to find the answer to the above analogy:"
      ]
    },
    {
      "cell_type": "code",
      "execution_count": null,
      "metadata": {
        "colab": {
          "base_uri": "https://localhost:8080/",
          "height": 108
        },
        "id": "Icjm4OIT6e4X",
        "outputId": "225ceede-f2c3-4c17-d17b-7232532a73b7"
      },
      "outputs": [
        {
          "name": "stdout",
          "output_type": "stream",
          "text": [
            "nurse 3.1355345\n",
            "pregnant 3.7805371\n",
            "child 3.78347\n",
            "woman 3.8643107\n",
            "mother 3.922231\n"
          ]
        }
      ],
      "source": [
        "print_closest_words(glove['doctor'] - glove['man'] + glove['woman'])"
      ]
    },
    {
      "cell_type": "markdown",
      "metadata": {
        "id": "vR-lVcpe6e4a"
      },
      "source": [
        "The $$doctor - man + woman \\approx nurse$$ analogy is very concerning.\n",
        "Just to verify, the same result does not appear if we flip the gender terms:"
      ]
    },
    {
      "cell_type": "code",
      "execution_count": null,
      "metadata": {
        "colab": {
          "base_uri": "https://localhost:8080/"
        },
        "id": "J7_Jo_0X6e4a",
        "outputId": "a9c83f8c-d5b9-4163-de32-43a78b3a58e5"
      },
      "outputs": [
        {
          "name": "stdout",
          "output_type": "stream",
          "text": [
            "man 3.9335632\n",
            "colleague 3.975502\n",
            "himself 3.9847784\n",
            "brother 3.9997008\n",
            "another 4.029071\n"
          ]
        }
      ],
      "source": [
        "print_closest_words(glove['doctor'] - glove['woman'] + glove['man'])"
      ]
    },
    {
      "cell_type": "markdown",
      "metadata": {
        "id": "phDarqJp6e4d"
      },
      "source": [
        "We see similar types of gender bias with other professions."
      ]
    },
    {
      "cell_type": "code",
      "execution_count": null,
      "metadata": {
        "colab": {
          "base_uri": "https://localhost:8080/",
          "height": 108
        },
        "id": "8_ZzBBpl6e4d",
        "outputId": "1d3bac13-7a7d-42bb-93d2-9d2ea4b19e89"
      },
      "outputs": [
        {
          "name": "stdout",
          "output_type": "stream",
          "text": [
            "prodigy 3.6688528\n",
            "psychotherapist 3.8069527\n",
            "therapist 3.8087194\n",
            "introduces 3.9064546\n",
            "swedish-born 4.1178856\n"
          ]
        }
      ],
      "source": [
        "print_closest_words(glove['programmer'] - glove['man'] + glove['woman'])"
      ]
    },
    {
      "cell_type": "markdown",
      "metadata": {
        "id": "icCpHxi66e4g"
      },
      "source": [
        "Beyond the first result, none of the other words are even related to\n",
        "programming! In contrast, if we flip the gender terms, we get very\n",
        "different results:"
      ]
    },
    {
      "cell_type": "code",
      "execution_count": null,
      "metadata": {
        "colab": {
          "base_uri": "https://localhost:8080/",
          "height": 108
        },
        "id": "QW9IjXqI6e4g",
        "outputId": "b7bd0ceb-3ad1-4a47-8961-c0501eaebe3f"
      },
      "outputs": [
        {
          "name": "stdout",
          "output_type": "stream",
          "text": [
            "setup 4.002241\n",
            "innovator 4.0661883\n",
            "programmers 4.1729574\n",
            "hacker 4.2256656\n",
            "genius 4.3644104\n"
          ]
        }
      ],
      "source": [
        "print_closest_words(glove['programmer'] - glove['woman'] + glove['man'])"
      ]
    },
    {
      "cell_type": "markdown",
      "metadata": {
        "id": "qtx2n7Nj6e4i"
      },
      "source": [
        "Here are the results for \"engineer\":"
      ]
    },
    {
      "cell_type": "code",
      "execution_count": null,
      "metadata": {
        "colab": {
          "base_uri": "https://localhost:8080/",
          "height": 108
        },
        "id": "0dFlol9D6e4j",
        "outputId": "ae02adff-e92b-4f22-9ed6-6254f4fc5342"
      },
      "outputs": [
        {
          "name": "stdout",
          "output_type": "stream",
          "text": [
            "technician 3.6926973\n",
            "mechanic 3.9212747\n",
            "pioneer 4.1543956\n",
            "pioneering 4.1880875\n",
            "educator 4.2264576\n"
          ]
        }
      ],
      "source": [
        "print_closest_words(glove['engineer'] - glove['man'] + glove['woman'])"
      ]
    },
    {
      "cell_type": "code",
      "execution_count": null,
      "metadata": {
        "colab": {
          "base_uri": "https://localhost:8080/",
          "height": 108
        },
        "id": "kV-XgFbD6e4l",
        "outputId": "51d9e898-98f9-4e92-cd46-2a57e112e504"
      },
      "outputs": [
        {
          "name": "stdout",
          "output_type": "stream",
          "text": [
            "builder 4.3523865\n",
            "mechanic 4.402976\n",
            "engineers 4.477985\n",
            "worked 4.5281315\n",
            "replacing 4.600204\n"
          ]
        }
      ],
      "source": [
        "print_closest_words(glove['engineer'] - glove['woman'] + glove['man'])"
      ]
    },
    {
      "cell_type": "markdown",
      "metadata": {
        "id": "wBaKH4os6dym"
      },
      "source": [
        "# Part B: GloVe vectors for sentiment analysis\n",
        "## Sentiment Analysis\n",
        "\n",
        "**Sentiment Analysis** is the problem of identifying the writer's sentiment given a piece of text. Sentiment Analysis can be applied to movie reviews, emails, tweets, and much more.\n",
        "\n",
        "Rudimentary forms of **sentiment analysis** might involve scoring each\n",
        "word on a scale from \"sad\" to \"happy\", then averaging the \"happiness score\" of the words in a piece of text. This technique has obvious drawbacks: it won't be able to handle negation, sarcasm, or any complex syntactical form. We can do better.\n",
        "\n",
        "We will perform sentiment analysis using the Sentiment140 data set, which contains tweets with either a positive or negative emoticon. Our goal is to determine whether which type of emoticon the tweet (with the emoticon removed) contained. The dataset was actually collected by a group of students, just like you, who were working on their machine learning project, just like you are doing.\n",
        "\n",
        "This tutorial will require that you download the file \"*training.1600000.processed.noemoticon.csv*\" from Quercus (or from http://help.sentiment140.com/) and upload it to your Google Drive. Please make sure to mount your Drive and that you are able to load the file, otherwise the sample code will not work as intended.\n",
        "\n",
        "Let's look at the data:"
      ]
    },
    {
      "cell_type": "code",
      "execution_count": null,
      "metadata": {
        "colab": {
          "base_uri": "https://localhost:8080/",
          "height": 128
        },
        "id": "aNXtT6iCVsrY",
        "outputId": "73d3c39c-eafa-42da-da55-03fddb688ec5"
      },
      "outputs": [],
      "source": [
        "#setup Google Drive\n",
        "from google.colab import drive\n",
        "drive.mount('/content/drive')"
      ]
    },
    {
      "cell_type": "code",
      "execution_count": null,
      "metadata": {
        "colab": {
          "base_uri": "https://localhost:8080/"
        },
        "id": "ZwgOTTGD6dyp",
        "outputId": "0e3d4e3e-3fc5-4867-f8f7-481840fa982f"
      },
      "outputs": [
        {
          "ename": "SyntaxError",
          "evalue": "(unicode error) 'unicodeescape' codec can't decode bytes in position 2-3: truncated \\UXXXXXXXX escape (2252511775.py, line 8)",
          "output_type": "error",
          "traceback": [
            "\u001b[1;36m  Cell \u001b[1;32mIn[26], line 8\u001b[1;36m\u001b[0m\n\u001b[1;33m    return csv.reader(open(\"C:\\Users\\Austin\\Documents\\MEng_Courses\\MIE1517-Intro-to-Deep-Learning\\2_Assignments\\A4_RNN\\training.1600000.processed.noemoticon.csv.crdownload\",\"rt\", encoding=\"latin-1\"))\u001b[0m\n\u001b[1;37m                                                                                                                                                                            ^\u001b[0m\n\u001b[1;31mSyntaxError\u001b[0m\u001b[1;31m:\u001b[0m (unicode error) 'unicodeescape' codec can't decode bytes in position 2-3: truncated \\UXXXXXXXX escape\n"
          ]
        }
      ],
      "source": [
        "import csv\n",
        "\n",
        "# file location (make sure to use your file location)\n",
        "file_dir = '/content/'\n",
        "\n",
        "# load csv file\n",
        "def get_data():\n",
        "    return csv.reader(open(r\"C:\\Users\\Austin\\Documents\\MEng_Courses\\MIE1517-Intro-to-Deep-Learning\\2_Assignments\\A4_RNN\\training.1600000.processed.noemoticon.csv.crdownload\",\"rt\", encoding=\"latin-1\"))\n",
        "\n",
        "# print only the first tweet\n",
        "for i, line in enumerate(get_data()):\n",
        "    if line[0] != '0':\n",
        "        print(line[0], line[-1])\n",
        "        break"
      ]
    },
    {
      "cell_type": "markdown",
      "metadata": {
        "id": "QQVuCUQH6dys"
      },
      "source": [
        "The columns we care about is the first one and the last one. The first column is the\n",
        "label (the label `0` means \"sad\" tweet, `4` means \"happy\" tweet), and the last column\n",
        "contains the tweet. Our task is to predict the sentiment of the tweet given the text.\n",
        "\n",
        "The approach today is as follows, for each tweet:\n",
        "\n",
        "1. We will split the text into words. We will do so by splitting at all whitespace\n",
        "   characters. There are better ways to perform the split, but let's keep our\n",
        "   dependencies light.\n",
        "2. We will look up the GloVe embedding of each word.\n",
        "   Words that do not have a GloVe vector will be ignored.\n",
        "3. We will sum up all the embeddings, to get an embedding for an entire tweet.\n",
        "4. Finally, we will use a fully-connected neural network\n",
        "   to predict whether the tweet has positive or negative sentiment.\n",
        "\n",
        "First, let's sanity check that there are enough words for us to work with."
      ]
    },
    {
      "cell_type": "code",
      "execution_count": null,
      "metadata": {
        "colab": {
          "base_uri": "https://localhost:8080/"
        },
        "id": "fzUmQaAI6dyw",
        "outputId": "222ea66e-059f-4a99-8854-d14d76a021c7"
      },
      "outputs": [
        {
          "data": {
            "text/plain": [
              "['hello', ';', \"don't\", 'you', 'know', '?']"
            ]
          },
          "execution_count": 24,
          "metadata": {},
          "output_type": "execute_result"
        }
      ],
      "source": [
        "import torchtext\n",
        "glove = torchtext.vocab.GloVe(name=\"6B\", dim=50)\n",
        "\n",
        "def split_tweet(tweet):\n",
        "    # separate punctuations\n",
        "    tweet = tweet.replace(\".\", \" . \") \\\n",
        "                 .replace(\",\", \" , \") \\\n",
        "                 .replace(\";\", \" ; \") \\\n",
        "                 .replace(\"?\", \" ? \")\n",
        "    return tweet.lower().split()\n",
        "\n",
        "split_tweet(\"hello; don't you know?\")"
      ]
    },
    {
      "cell_type": "code",
      "execution_count": null,
      "metadata": {
        "colab": {
          "base_uri": "https://localhost:8080/"
        },
        "id": "dXfvRbMSgGpJ",
        "outputId": "df6b9713-dc19-400a-9851-69a2a5755fd1"
      },
      "outputs": [
        {
          "name": "stdout",
          "output_type": "stream",
          "text": [
            "21\n",
            "23\n",
            "17\n",
            "10\n",
            "22\n",
            "4\n",
            "3\n",
            "21\n",
            "4\n",
            "3\n",
            "9\n",
            "4\n",
            "19\n",
            "15\n",
            "19\n",
            "18\n",
            "18\n",
            "4\n",
            "9\n",
            "13\n",
            "11\n",
            "23\n",
            "8\n",
            "9\n",
            "4\n",
            "11\n",
            "13\n",
            "6\n",
            "23\n",
            "20\n",
            "13\n"
          ]
        }
      ],
      "source": [
        "# verify that each tweet has a reasonable number of words\n",
        "# that have GloVe embeddings\n",
        "for i, line in enumerate(get_data()):\n",
        "    if i > 30:\n",
        "        break\n",
        "    print(sum(int(w in glove.stoi) for w in split_tweet(line[-1])))"
      ]
    },
    {
      "cell_type": "markdown",
      "metadata": {
        "id": "iMijpmBs6dyz"
      },
      "source": [
        "Looks like each tweet has at least one word that has an embedding.\n",
        "\n",
        "Now, steps 1-3 from above can be done ahead of time, just like the transfer learning\n",
        "portion of Lab 3. So, we will write a function that will take the tweets data\n",
        "file, computes the tweet embeddings, and splits the data into train/validation/test.\n",
        "\n",
        "We will only use $\\frac{1}{59}$ of the data in the file, so that this demo runs\n",
        "relatively quickly."
      ]
    },
    {
      "cell_type": "code",
      "execution_count": null,
      "metadata": {
        "id": "dO-mRzST6dy0"
      },
      "outputs": [],
      "source": [
        "import torch\n",
        "import torch.nn as nn\n",
        "\n",
        "def get_tweet_vectors(glove_vector):\n",
        "    train, valid, test = [], [], []\n",
        "    for i, line in enumerate(get_data()):\n",
        "        tweet = line[-1]\n",
        "        if i % 59 == 0:\n",
        "            # obtain an embedding for the entire tweet\n",
        "            tweet_emb = sum(glove_vector[w] for w in split_tweet(tweet))\n",
        "            # generate a label: 1 = happy, 0 = sad\n",
        "            label = torch.tensor(int(line[0] == \"4\")).long()\n",
        "            # place the data set in either the training, validation, or test set\n",
        "            if i % 5 < 3:\n",
        "                train.append((tweet_emb, label)) # 60% training\n",
        "            elif i % 5 == 4:\n",
        "                valid.append((tweet_emb, label)) # 20% validation\n",
        "            else:\n",
        "                test.append((tweet_emb, label)) # 20% test\n",
        "    return train, valid, test"
      ]
    },
    {
      "cell_type": "markdown",
      "metadata": {
        "id": "r5Dh4nem6dy3"
      },
      "source": [
        "I'm making the `glove_vector` a parameter so that we can test the effect\n",
        "of using a higher dimensional GloVe\n",
        "embedding later. Now, let's get our training, validation, and test set.\n",
        "The format is what `torch.utils.data.DataLoader` expects."
      ]
    },
    {
      "cell_type": "code",
      "execution_count": null,
      "metadata": {
        "id": "n0fMybj86dy4"
      },
      "outputs": [],
      "source": [
        "import torchtext\n",
        "\n",
        "#glove = torchtext.vocab.GloVe(name=\"6B\", dim=50)\n",
        "\n",
        "train, valid, test = get_tweet_vectors(glove)\n",
        "\n",
        "train_loader = torch.utils.data.DataLoader(train, batch_size=128, shuffle=True)\n",
        "valid_loader = torch.utils.data.DataLoader(valid, batch_size=128, shuffle=True)\n",
        "test_loader = torch.utils.data.DataLoader(test, batch_size=128, shuffle=True)"
      ]
    },
    {
      "cell_type": "markdown",
      "metadata": {
        "id": "n5V051Cw6dy6"
      },
      "source": [
        "Now, our actual training script! Note that will we use `CrossEntropyLoss`,\n",
        "have two neurons in the final layer of our output layer, and use softmax instead of\n",
        "a sigmoid activation. This is different from our choice in the earlier weeks!\n",
        "Typically, machine learning practitioners will choose to use two output\n",
        "neurons instead of one, even in a binary classification task. The reason is that\n",
        "an extra neuron adds some more parameters to the network, and makes the network\n",
        "a little easier to train (performs better)."
      ]
    },
    {
      "cell_type": "code",
      "execution_count": null,
      "metadata": {
        "id": "J9l9BR5v6dy7"
      },
      "outputs": [],
      "source": [
        "import matplotlib.pyplot as plt\n",
        "\n",
        "def train_network(model, train_loader, valid_loader, num_epochs=5, learning_rate=1e-5):\n",
        "    criterion = nn.CrossEntropyLoss()\n",
        "    optimizer = torch.optim.Adam(model.parameters(), lr=learning_rate)\n",
        "    losses, train_acc, valid_acc = [], [], []\n",
        "    epochs = []\n",
        "    for epoch in range(num_epochs):\n",
        "        for tweets, labels in train_loader:\n",
        "            optimizer.zero_grad()\n",
        "            pred = model(tweets)\n",
        "            loss = criterion(pred, labels)\n",
        "            loss.backward()\n",
        "            optimizer.step()\n",
        "\n",
        "        losses.append(float(loss))\n",
        "        if epoch % 5 == 4:\n",
        "            epochs.append(epoch)\n",
        "            train_acc.append(get_accuracy(model, train_loader))\n",
        "            valid_acc.append(get_accuracy(model, valid_loader))\n",
        "            print(\"Epoch %d; Loss %f; Train Acc %f; Val Acc %f\" % (\n",
        "                epoch+1, loss, train_acc[-1], valid_acc[-1]))\n",
        "\n",
        "    # plotting\n",
        "    plt.title(\"Training Curve\")\n",
        "    plt.plot(losses, label=\"Train\")\n",
        "    plt.xlabel(\"Epoch\")\n",
        "    plt.ylabel(\"Loss\")\n",
        "    plt.show()\n",
        "\n",
        "    plt.title(\"Training Curve\")\n",
        "    plt.plot(epochs, train_acc, label=\"Train\")\n",
        "    plt.plot(epochs, valid_acc, label=\"Validation\")\n",
        "    plt.xlabel(\"Epoch\")\n",
        "    plt.ylabel(\"Accuracy\")\n",
        "    plt.legend(loc='best')\n",
        "    plt.show()\n",
        "\n",
        "def get_accuracy(model, data_loader):\n",
        "    correct, total = 0, 0\n",
        "    for tweets, labels in data_loader:\n",
        "        output = model(tweets)\n",
        "        pred = output.max(1, keepdim=True)[1]\n",
        "        correct += pred.eq(labels.view_as(pred)).sum().item()\n",
        "        total += labels.shape[0]\n",
        "    return correct / total"
      ]
    },
    {
      "cell_type": "markdown",
      "metadata": {
        "id": "SarFbhzt6dy-"
      },
      "source": [
        "As for the actual mode, we will start with a 3-layer neural network.\n",
        "We won't create our own class since this is a fairly straightforward neural\n",
        "network, so an `nn.Sequential` object will do.\n",
        "Let's build and train our network."
      ]
    },
    {
      "cell_type": "code",
      "execution_count": null,
      "metadata": {
        "colab": {
          "base_uri": "https://localhost:8080/",
          "height": 1000
        },
        "id": "Sv9IctEO6dy_",
        "outputId": "ff44fffa-2feb-435e-d311-233e1e8e2af3"
      },
      "outputs": [
        {
          "name": "stdout",
          "output_type": "stream",
          "text": [
            "Epoch 5; Loss 0.622490; Train Acc 0.602852; Val Acc 0.601586\n",
            "Epoch 10; Loss 0.618091; Train Acc 0.653125; Val Acc 0.661873\n",
            "Epoch 15; Loss 0.635344; Train Acc 0.667015; Val Acc 0.672566\n",
            "Epoch 20; Loss 0.587530; Train Acc 0.675681; Val Acc 0.677729\n",
            "Epoch 25; Loss 0.553543; Train Acc 0.673837; Val Acc 0.677544\n",
            "Epoch 30; Loss 0.501117; Train Acc 0.671686; Val Acc 0.675147\n",
            "Epoch 35; Loss 0.522440; Train Acc 0.673038; Val Acc 0.675701\n",
            "Epoch 40; Loss 0.618658; Train Acc 0.673284; Val Acc 0.678650\n",
            "Epoch 45; Loss 0.654725; Train Acc 0.677340; Val Acc 0.677913\n",
            "Epoch 50; Loss 0.552167; Train Acc 0.678938; Val Acc 0.677360\n",
            "Epoch 55; Loss 0.630974; Train Acc 0.678754; Val Acc 0.676438\n",
            "Epoch 60; Loss 0.533905; Train Acc 0.680843; Val Acc 0.676807\n",
            "Epoch 65; Loss 0.694555; Train Acc 0.680843; Val Acc 0.675332\n",
            "Epoch 70; Loss 0.794112; Train Acc 0.683916; Val Acc 0.677729\n",
            "Epoch 75; Loss 0.422007; Train Acc 0.687358; Val Acc 0.679204\n",
            "Epoch 80; Loss 0.657153; Train Acc 0.686620; Val Acc 0.679941\n",
            "Epoch 85; Loss 0.703640; Train Acc 0.688894; Val Acc 0.678282\n",
            "Epoch 90; Loss 0.581066; Train Acc 0.690062; Val Acc 0.678097\n",
            "Epoch 95; Loss 0.573874; Train Acc 0.691107; Val Acc 0.678835\n",
            "Epoch 100; Loss 0.541998; Train Acc 0.689693; Val Acc 0.674410\n"
          ]
        },
        {
          "data": {
            "image/png": "[encoded data removed]",
            "text/plain": [
              "<Figure size 640x480 with 1 Axes>"
            ]
          },
          "metadata": {},
          "output_type": "display_data"
        },
        {
          "data": {
            "image/png": "[encoded data removed]",
            "text/plain": [
              "<Figure size 640x480 with 1 Axes>"
            ]
          },
          "metadata": {},
          "output_type": "display_data"
        },
        {
          "name": "stdout",
          "output_type": "stream",
          "text": [
            "Final test accuracy: 0.6827064896755162\n"
          ]
        }
      ],
      "source": [
        "mymodel = nn.Sequential(nn.Linear(50, 30),\n",
        "                        nn.ReLU(),\n",
        "                        nn.Linear(30, 10),\n",
        "                        nn.ReLU(),\n",
        "                        nn.Linear(10, 2))\n",
        "train_network(mymodel, train_loader, valid_loader, num_epochs=100, learning_rate=1e-4)\n",
        "print(\"Final test accuracy:\", get_accuracy(mymodel, test_loader))"
      ]
    },
    {
      "cell_type": "code",
      "execution_count": null,
      "metadata": {
        "colab": {
          "base_uri": "https://localhost:8080/"
        },
        "id": "mhzOWZST6dzC",
        "outputId": "d5e79cee-da85-4eaa-e17e-ab62cfa4ff82"
      },
      "outputs": [
        {
          "data": {
            "text/plain": [
              "tensor([[1]])"
            ]
          },
          "execution_count": 36,
          "metadata": {},
          "output_type": "execute_result"
        }
      ],
      "source": [
        "def test_model(model, glove_vector, tweet):\n",
        "    emb = sum(glove_vector[w] for w in split_tweet(tweet))\n",
        "    out = mymodel(emb.unsqueeze(0))\n",
        "    pred = out.max(1, keepdim=True)[1]\n",
        "    return pred\n",
        "\n",
        "test_model(mymodel, glove, \"very happy\")"
      ]
    },
    {
      "cell_type": "code",
      "execution_count": null,
      "metadata": {
        "colab": {
          "base_uri": "https://localhost:8080/"
        },
        "id": "XvNr30LO6dzE",
        "outputId": "45f6c468-2e45-4862-c746-9540f99588d2"
      },
      "outputs": [
        {
          "data": {
            "text/plain": [
              "tensor([[0]])"
            ]
          },
          "execution_count": 37,
          "metadata": {},
          "output_type": "execute_result"
        }
      ],
      "source": [
        "test_model(mymodel, glove, \"This is a terrible tragedy\")"
      ]
    },
    {
      "cell_type": "code",
      "execution_count": null,
      "metadata": {
        "colab": {
          "base_uri": "https://localhost:8080/"
        },
        "id": "7ef-BznK6dzQ",
        "outputId": "eb932529-7b69-4323-cdfc-bb7439bd21e0"
      },
      "outputs": [
        {
          "data": {
            "text/plain": [
              "tensor([[0]])"
            ]
          },
          "execution_count": 35,
          "metadata": {},
          "output_type": "execute_result"
        }
      ],
      "source": [
        "test_model(mymodel, glove, \"okay\")"
      ]
    },
    {
      "cell_type": "code",
      "execution_count": null,
      "metadata": {
        "colab": {
          "base_uri": "https://localhost:8080/"
        },
        "id": "jmHZ1_A_b3eL",
        "outputId": "da12c5f7-ddad-4a58-ffa6-da349d27f346"
      },
      "outputs": [
        {
          "data": {
            "text/plain": [
              "tensor([[1]])"
            ]
          },
          "execution_count": 40,
          "metadata": {},
          "output_type": "execute_result"
        }
      ],
      "source": [
        "test_model(mymodel, glove, \"this could be a better day\")"
      ]
    },
    {
      "cell_type": "markdown",
      "metadata": {
        "id": "-WHkOGUz6dzT"
      },
      "source": [
        "Note that the model does not perform very well, but it does get it right from time to time. There are a number of things we could try to improve the performance, for example changing the number of hidden units, number of layers, or change the dimension of the Glove embeddings.\n",
        "\n",
        "Another option is to use a more powerful architecture."
      ]
    },
    {
      "cell_type": "markdown",
      "metadata": {
        "id": "5m-MCuRr6lAG"
      },
      "source": [
        "#Part C: Recurrent Neural Networks\n",
        "\n",
        "One of the drawbacks of the previous approach is that the order of\n",
        "words is lost. The tweets \"the cat likes the dog\" and \"the dog likes the cat\"\n",
        "would have the exact same embedding, even though the sentences have different\n",
        "meanings.\n",
        "\n",
        "For this part we will use a **recurrent neural network**. We will treat each tweet\n",
        "as a **sequence** of words. Like before, we will use GloVe embeddings as inputs\n",
        "to the recurrent network. (As a sidenote, not all recurrent neural networks use\n",
        "word embeddings as input. If we had a small enough vocabulary, we could have used\n",
        "a one-hot embedding of the words.)"
      ]
    },
    {
      "cell_type": "code",
      "execution_count": null,
      "metadata": {
        "colab": {
          "base_uri": "https://localhost:8080/",
          "height": 108
        },
        "id": "bi_v650L6lAJ",
        "outputId": "25c8c3b3-cefb-4a4e-9641-8d5690a1e095"
      },
      "outputs": [
        {
          "name": "stderr",
          "output_type": "stream",
          "text": [
            "\n",
            "  0%|          | 0/400000 [00:00<?, ?it/s]\u001b[A\n",
            "  1%|          | 3122/400000 [00:00<00:12, 31216.83it/s]\u001b[A\n",
            "  2%|▏         | 6388/400000 [00:00<00:12, 31634.51it/s]\u001b[A\n",
            "  2%|▏         | 9980/400000 [00:00<00:11, 32807.89it/s]\u001b[A\n",
            "\u001b[A"
          ]
        }
      ],
      "source": [
        "import csv\n",
        "import torch\n",
        "import torch.nn as nn\n",
        "import torch.nn.functional as F\n",
        "import torch.optim as optim\n",
        "import torchtext\n",
        "import numpy as np\n",
        "import matplotlib.pyplot as plt\n",
        "\n",
        "# file location (make sure to use your file location)\n",
        "file_dir = '/content/'\n",
        "\n",
        "def get_data():\n",
        "    return csv.reader(open(file_dir + \"training.1600000.processed.noemoticon.csv\",\"rt\", encoding=\"latin-1\"))\n",
        "\n",
        "def split_tweet(tweet):\n",
        "    # separate punctuations\n",
        "    tweet = tweet.replace(\".\", \" . \") \\\n",
        "                 .replace(\",\", \" , \") \\\n",
        "                 .replace(\";\", \" ; \") \\\n",
        "                 .replace(\"?\", \" ? \")\n",
        "    return tweet.lower().split()\n",
        "\n",
        "glove = torchtext.vocab.GloVe(name=\"6B\", dim=50, max_vectors=10000) # use 10k most common words"
      ]
    },
    {
      "cell_type": "markdown",
      "metadata": {
        "id": "LSTiHPJA6lAM"
      },
      "source": [
        "Since we are going to store the individual words in a tweet,\n",
        "we will defer looking up the word embeddings.\n",
        "Instead, we will store the **index** of each word in a PyTorch tensor.\n",
        "Our choice is the most memory-efficient, since it takes fewer bits to\n",
        "store an integer index than a 50-dimensional vector or a word."
      ]
    },
    {
      "cell_type": "code",
      "execution_count": null,
      "metadata": {
        "id": "0MoEcSg66lAN"
      },
      "outputs": [],
      "source": [
        "def get_tweet_words(glove_vector):\n",
        "    train, valid, test = [], [], []\n",
        "    for i, line in enumerate(get_data()):\n",
        "        if i % 29 == 0:\n",
        "            tweet = line[-1]\n",
        "            idxs = [glove_vector.stoi[w]        # lookup the index of word\n",
        "                    for w in split_tweet(tweet)\n",
        "                    if w in glove_vector.stoi] # keep words that has an embedding\n",
        "            if not idxs: # ignore tweets without any word with an embedding\n",
        "                continue\n",
        "            idxs = torch.tensor(idxs) # convert list to pytorch tensor\n",
        "            label = torch.tensor(int(line[0] == \"4\")).long()\n",
        "            if i % 5 < 3:\n",
        "                train.append((idxs, label))\n",
        "            elif i % 5 == 4:\n",
        "                valid.append((idxs, label))\n",
        "            else:\n",
        "                test.append((idxs, label))\n",
        "    return train, valid, test\n",
        "\n",
        "train, valid, test = get_tweet_words(glove)"
      ]
    },
    {
      "cell_type": "markdown",
      "metadata": {
        "id": "TH4fypPq6lAQ"
      },
      "source": [
        "Here's what an element of the training set looks like:"
      ]
    },
    {
      "cell_type": "code",
      "execution_count": null,
      "metadata": {
        "colab": {
          "base_uri": "https://localhost:8080/",
          "height": 72
        },
        "id": "Pz3FWzVB6lAR",
        "outputId": "896c57de-709c-48f3-ab74-71ae4420ab94"
      },
      "outputs": [
        {
          "name": "stdout",
          "output_type": "stream",
          "text": [
            "tensor([   2,   11,    1,    7,    2,   81,  405,  684, 9912,    3,  245,  122,\n",
            "           4,   88,   20,    2,   89, 1968])\n",
            "tensor(0)\n"
          ]
        }
      ],
      "source": [
        "tweet, label = train[0]\n",
        "print(tweet)\n",
        "print(label)"
      ]
    },
    {
      "cell_type": "markdown",
      "metadata": {
        "id": "pUl6xwqt6lAU"
      },
      "source": [
        "Unlike in the past, each element of the training set will have a\n",
        "different shape. The difference will present some difficulties when\n",
        "we discuss batching later on."
      ]
    },
    {
      "cell_type": "code",
      "execution_count": null,
      "metadata": {
        "colab": {
          "base_uri": "https://localhost:8080/",
          "height": 199
        },
        "id": "W_GUKqt76lAV",
        "outputId": "1423983a-dae8-4b1a-d394-728cfb877b7b"
      },
      "outputs": [
        {
          "name": "stdout",
          "output_type": "stream",
          "text": [
            "torch.Size([18])\n",
            "torch.Size([23])\n",
            "torch.Size([8])\n",
            "torch.Size([20])\n",
            "torch.Size([6])\n",
            "torch.Size([5])\n",
            "torch.Size([10])\n",
            "torch.Size([8])\n",
            "torch.Size([7])\n",
            "torch.Size([31])\n"
          ]
        }
      ],
      "source": [
        "for i in range(10):\n",
        "    tweet, label = train[i]\n",
        "    print(tweet.shape)"
      ]
    },
    {
      "cell_type": "markdown",
      "metadata": {
        "id": "Emg79Nia6lAY"
      },
      "source": [
        "## Embedding\n",
        "\n",
        "We are also going to use an `nn.Embedding` layer, instead of using the variable\n",
        "`glove` directly. The reason is that the `nn.Embedding` layer allows us look up\n",
        "the embeddings of multiple words simultaneously."
      ]
    },
    {
      "cell_type": "code",
      "execution_count": null,
      "metadata": {
        "colab": {
          "base_uri": "https://localhost:8080/",
          "height": 35
        },
        "id": "JCb12CCp6lAZ",
        "outputId": "d884f3bb-f9b8-45c0-9fcd-cada6706fa61"
      },
      "outputs": [
        {
          "data": {
            "text/plain": [
              "torch.Size([18, 50])"
            ]
          },
          "execution_count": 9,
          "metadata": {
            "tags": []
          },
          "output_type": "execute_result"
        }
      ],
      "source": [
        "glove_emb = nn.Embedding.from_pretrained(glove.vectors)\n",
        "\n",
        "# Example: we use the forward function of glove_emb to lookup the\n",
        "# embedding of each word in `tweet`\n",
        "tweet_emb = glove_emb(tweet)\n",
        "tweet_emb.shape"
      ]
    },
    {
      "cell_type": "markdown",
      "metadata": {
        "id": "KRczqTwm6lAc"
      },
      "source": [
        "## Recurrent Neural Network Module\n",
        "\n",
        "PyTorch has variations of recurrent neural network modules.\n",
        "These modules computes the following:\n",
        "\n",
        "$$hidden = updatefn(hidden, input)$$\n",
        "$$output = outputfn(hidden)$$\n",
        "\n",
        "These modules are more complex and less intuitive than the usual\n",
        "neural network layers, so let's take a look:"
      ]
    },
    {
      "cell_type": "code",
      "execution_count": null,
      "metadata": {
        "id": "PaQnkloA6lAd"
      },
      "outputs": [],
      "source": [
        "rnn_layer = nn.RNN(input_size=50,    # dimension of the input repr\n",
        "                   hidden_size=50,   # dimension of the hidden units\n",
        "                   batch_first=True) # input format is [batch_size, seq_len, repr_dim]"
      ]
    },
    {
      "cell_type": "markdown",
      "metadata": {
        "id": "McnkXSD06lAf"
      },
      "source": [
        "Now, let's try and run this untrained `rnn_layer` on `tweet_emb`.\n",
        "We will need to add an extra dimension to `tweet_emb` to account for\n",
        "batching. We will also need to initialize a set of hidden units of size\n",
        "`[batch_size, 1, repr_dim]`, to be used for the *first* set of computations.\n",
        "\n",
        "![](imgs/rnn.png)"
      ]
    },
    {
      "cell_type": "code",
      "execution_count": null,
      "metadata": {
        "id": "46ARRDO76lAg"
      },
      "outputs": [],
      "source": [
        "tweet_input = tweet_emb.unsqueeze(0) # add the batch_size dimension\n",
        "h0 = torch.zeros(1, 1, 50)           # initial hidden state\n",
        "out, last_hidden = rnn_layer(tweet_input, h0)"
      ]
    },
    {
      "cell_type": "markdown",
      "metadata": {
        "id": "TlHsKlu66lAj"
      },
      "source": [
        "We don't technically have to explictly provide the initial hidden state,\n",
        "if we want to use an initial state of zeros. Just for today, we will be\n",
        "explicit about the hidden states that we provide."
      ]
    },
    {
      "cell_type": "code",
      "execution_count": null,
      "metadata": {
        "id": "rt5DhCRW6lAk"
      },
      "outputs": [],
      "source": [
        "out2, last_hidden2 = rnn_layer(tweet_input)"
      ]
    },
    {
      "cell_type": "markdown",
      "metadata": {
        "id": "ZFF1ZygN6lAn"
      },
      "source": [
        "Now, let's look at the output and hidden dimensions that we have:"
      ]
    },
    {
      "cell_type": "code",
      "execution_count": null,
      "metadata": {
        "colab": {
          "base_uri": "https://localhost:8080/",
          "height": 54
        },
        "id": "fQG1B0Vj6lAo",
        "outputId": "a8616b09-cbf6-46ae-d13a-2bec846421df"
      },
      "outputs": [
        {
          "name": "stdout",
          "output_type": "stream",
          "text": [
            "torch.Size([1, 31, 50])\n",
            "torch.Size([1, 1, 50])\n"
          ]
        }
      ],
      "source": [
        "print(out.shape)\n",
        "print(last_hidden.shape)"
      ]
    },
    {
      "cell_type": "markdown",
      "metadata": {
        "id": "7ju9XGxQ6lAr"
      },
      "source": [
        "The shape of the hidden units is the same as our initial `h0`.\n",
        "The variable `out`, though, has the same shape as our `input`.\n",
        "The variable contains the concatenation of all of the output units\n",
        "for each word (i.e. at each time point).\n",
        "\n",
        "Normally, we only care about the output at the **final** time point,\n",
        "which we can extract like this."
      ]
    },
    {
      "cell_type": "code",
      "execution_count": null,
      "metadata": {
        "colab": {
          "base_uri": "https://localhost:8080/",
          "height": 145
        },
        "id": "H3gdskfq6lAr",
        "outputId": "e2155497-f1b7-4eec-8f98-404af3a55b44"
      },
      "outputs": [
        {
          "data": {
            "text/plain": [
              "tensor([[-0.2560, -0.4733,  0.5186,  0.1394, -0.1009,  0.1805,  0.5363, -0.0751,\n",
              "         -0.1640,  0.2366,  0.0848, -0.2786,  0.3998, -0.0232, -0.0997, -0.2144,\n",
              "         -0.7701, -0.3038, -0.0049, -0.5307, -0.7158,  0.3514,  0.1316, -0.2144,\n",
              "          0.5700, -0.1417,  0.0192,  0.1491,  0.7471, -0.2087,  0.2188,  0.4412,\n",
              "         -0.7074,  0.3087, -0.4471, -0.1463, -0.2142, -0.6474, -0.2935, -0.6363,\n",
              "          0.3125, -0.3359, -0.0398, -0.1767, -0.2196,  0.0761, -0.4315, -0.6120,\n",
              "         -0.6339, -0.1412]], grad_fn=<SliceBackward>)"
            ]
          },
          "execution_count": 63,
          "metadata": {
            "tags": []
          },
          "output_type": "execute_result"
        }
      ],
      "source": [
        "out[:,-1,:]"
      ]
    },
    {
      "cell_type": "markdown",
      "metadata": {
        "id": "5StyRJQL6lAu"
      },
      "source": [
        "This tensor summarizes the entire tweet, and can be used as an input\n",
        "to a classifier.\n",
        "\n",
        "## Building a Model\n",
        "\n",
        "Let's put both the embedding layer, the RNN and the classifier into one model:"
      ]
    },
    {
      "cell_type": "code",
      "execution_count": null,
      "metadata": {
        "id": "fAZ928tH6lAv"
      },
      "outputs": [],
      "source": [
        "class TweetRNN(nn.Module):\n",
        "    def __init__(self, input_size, hidden_size, num_classes):\n",
        "        super(TweetRNN, self).__init__()\n",
        "        self.emb = nn.Embedding.from_pretrained(glove.vectors)\n",
        "        self.hidden_size = hidden_size\n",
        "        self.rnn = nn.RNN(input_size, hidden_size, batch_first=True)\n",
        "        self.fc = nn.Linear(hidden_size, num_classes)\n",
        "\n",
        "    def forward(self, x):\n",
        "        # Look up the embedding\n",
        "        x = self.emb(x)\n",
        "        # Set an initial hidden state\n",
        "        h0 = torch.zeros(1, x.size(0), self.hidden_size)\n",
        "        # Forward propagate the RNN\n",
        "        out, _ = self.rnn(x, h0)\n",
        "        # Pass the output of the last time step to the classifier\n",
        "        out = self.fc(out[:, -1, :])\n",
        "        return out\n",
        "\n",
        "model = TweetRNN(50, 50, 2)"
      ]
    },
    {
      "cell_type": "markdown",
      "metadata": {
        "id": "SkZVSHki6lAx"
      },
      "source": [
        "We should be able to train this model similar to any other model that we have trained before. However, there is one caveat that we have been avoiding this entire time, **batching**.\n",
        "\n",
        "## Batching\n",
        "\n",
        "Unfortunately, we will not be able to use `DataLoader` with a\n",
        "`batch_size` of greater than one. This is because each tweet has\n",
        "a different shaped tensor."
      ]
    },
    {
      "cell_type": "code",
      "execution_count": null,
      "metadata": {
        "colab": {
          "base_uri": "https://localhost:8080/",
          "height": 199
        },
        "id": "1fdPxVzz6lAy",
        "outputId": "46034f66-d4f0-40db-c70e-81e40ee8c00b"
      },
      "outputs": [
        {
          "name": "stdout",
          "output_type": "stream",
          "text": [
            "torch.Size([18])\n",
            "torch.Size([23])\n",
            "torch.Size([8])\n",
            "torch.Size([20])\n",
            "torch.Size([6])\n",
            "torch.Size([5])\n",
            "torch.Size([10])\n",
            "torch.Size([8])\n",
            "torch.Size([7])\n",
            "torch.Size([31])\n"
          ]
        }
      ],
      "source": [
        "for i in range(10):\n",
        "    tweet, label = train[i]\n",
        "    print(tweet.shape)"
      ]
    },
    {
      "cell_type": "markdown",
      "metadata": {
        "id": "_9V-af5Q6lA1"
      },
      "source": [
        "PyTorch implementation of `DataLoader` class expects all data samples\n",
        "to have the same shape. So, if we create a DataLoader like below,\n",
        "it will throw an error when we try to iterate over its elements."
      ]
    },
    {
      "cell_type": "code",
      "execution_count": null,
      "metadata": {
        "id": "IvCWcP3n6lA2"
      },
      "outputs": [],
      "source": [
        "#will_fail = torch.utils.data.DataLoader(train, batch_size=128)"
      ]
    },
    {
      "cell_type": "markdown",
      "metadata": {
        "id": "tV5LmijX6lA5"
      },
      "source": [
        "So, we will need a different way of batching.\n",
        "\n",
        "One strategy is to **pad shorter sequences with zero inputs**, so that\n",
        "every sequence is the same length. The following PyTorch utilities\n",
        "are helpful.\n",
        "\n",
        "- `torch.nn.utils.rnn.pad_sequence`\n",
        "- `torch.nn.utils.rnn.pad_packed_sequence`\n",
        "- `torch.nn.utils.rnn.pack_sequence`\n",
        "- `torch.nn.utils.rnn.pack_padded_sequence`\n",
        "\n",
        "(Actually, there are more powerful helpers in the `torchtext`. We'll stick to these in this demo, so that\n",
        "you can see what's actually going on under the hood.)"
      ]
    },
    {
      "cell_type": "code",
      "execution_count": null,
      "metadata": {
        "colab": {
          "base_uri": "https://localhost:8080/",
          "height": 145
        },
        "id": "td8JCx6H6lA6",
        "outputId": "aab7e9e5-cad1-4ef5-f28a-b1888a552b93"
      },
      "outputs": [
        {
          "name": "stdout",
          "output_type": "stream",
          "text": [
            "torch.Size([10, 31])\n",
            "tensor([[   2,   11,    1,    7,    2,   81,  405,  684, 9912,    3,  245,  122,\n",
            "            4,   88,   20,    2,   89, 1968,    0,    0,    0,    0,    0,    0,\n",
            "            0,    0,    0,    0,    0,    0,    0],\n",
            "        [ 192,    2,   41, 4284,   83,    0,   31, 1096,    4,   88,   17,   20,\n",
            "          188,   83,  100,    1,  500,    1,   41,  169,   20,    1,  837,    0,\n",
            "            0,    0,    0,    0,    0,    0,    0]])\n"
          ]
        }
      ],
      "source": [
        "from torch.nn.utils.rnn import pad_sequence\n",
        "\n",
        "tweet_padded = pad_sequence([tweet for tweet, label in train[:10]],\n",
        "                            batch_first=True)\n",
        "print(tweet_padded.shape)\n",
        "print(tweet_padded[0:2])"
      ]
    },
    {
      "cell_type": "markdown",
      "metadata": {
        "id": "UQ0DmJ-C6lA9"
      },
      "source": [
        "Now, we can pass multiple tweets in a batch through the RNN at once!"
      ]
    },
    {
      "cell_type": "code",
      "execution_count": null,
      "metadata": {
        "colab": {
          "base_uri": "https://localhost:8080/",
          "height": 35
        },
        "id": "d2-AUHrx6lA-",
        "outputId": "8e3d27b9-7f00-4901-9240-a9f0849cff7a"
      },
      "outputs": [
        {
          "name": "stdout",
          "output_type": "stream",
          "text": [
            "torch.Size([10, 2])\n"
          ]
        }
      ],
      "source": [
        "out = model(tweet_padded)\n",
        "print(out.shape)"
      ]
    },
    {
      "cell_type": "markdown",
      "metadata": {
        "id": "fd7YuKn86lBA"
      },
      "source": [
        "One issue we overlooked was that in our `TweetRNN` model, we always\n",
        "take the **last output unit** as input to the final classifier. Now\n",
        "that we are padding the input sequences, we should really be using\n",
        "the output at a previous time step. Recurrent neural networks therefore\n",
        "require much more record keeping than ANNs or even CNNs.\n",
        "\n",
        "There is yet another problem:\n",
        "the longest tweet has many, many more words than the shortest.\n",
        "Padding tweets so that every tweet has the same length as the longest\n",
        "tweet is impractical. Padding tweets in a mini-batch, however, is much\n",
        "more reasonable.\n",
        "\n",
        "In practice, practitioners will batch together tweets with the same\n",
        "length. For simplicity, we will do the same. We will implement a (more or less)\n",
        "straightforward way to batch tweets."
      ]
    },
    {
      "cell_type": "code",
      "execution_count": null,
      "metadata": {
        "id": "JhS_q3E_6lBB"
      },
      "outputs": [],
      "source": [
        "import random\n",
        "\n",
        "class TweetBatcher:\n",
        "    def __init__(self, tweets, batch_size=32, drop_last=False):\n",
        "        # store tweets by length\n",
        "        self.tweets_by_length = {}\n",
        "        for words, label in tweets:\n",
        "            # compute the length of the tweet\n",
        "            wlen = words.shape[0]\n",
        "            # put the tweet in the correct key inside self.tweet_by_length\n",
        "            if wlen not in self.tweets_by_length:\n",
        "                self.tweets_by_length[wlen] = []\n",
        "            self.tweets_by_length[wlen].append((words, label),)\n",
        "\n",
        "        #  create a DataLoader for each set of tweets of the same length\n",
        "        self.loaders = {wlen : torch.utils.data.DataLoader(\n",
        "                                    tweets,\n",
        "                                    batch_size=batch_size,\n",
        "                                    shuffle=True,\n",
        "                                    drop_last=drop_last) # omit last batch if smaller than batch_size\n",
        "            for wlen, tweets in self.tweets_by_length.items()}\n",
        "\n",
        "    def __iter__(self): # called by Python to create an iterator\n",
        "        # make an iterator for every tweet length\n",
        "        iters = [iter(loader) for loader in self.loaders.values()]\n",
        "        while iters:\n",
        "            # pick an iterator (a length)\n",
        "            im = random.choice(iters)\n",
        "            try:\n",
        "                yield next(im)\n",
        "            except StopIteration:\n",
        "                # no more elements in the iterator, remove it\n",
        "                iters.remove(im)"
      ]
    },
    {
      "cell_type": "markdown",
      "metadata": {
        "id": "cB9bCg7-6lBH"
      },
      "source": [
        "Let's take a look at our batcher in action. We will set `drop_last` to be true for training,\n",
        "so that all of our batches have exactly the same size."
      ]
    },
    {
      "cell_type": "code",
      "execution_count": null,
      "metadata": {
        "colab": {
          "base_uri": "https://localhost:8080/",
          "height": 399
        },
        "id": "C3JAsR4S6lBJ",
        "outputId": "3b8a3e41-d782-4a62-8467-bb1bba3feb53"
      },
      "outputs": [
        {
          "name": "stdout",
          "output_type": "stream",
          "text": [
            "torch.Size([32, 21]) torch.Size([32])\n",
            "torch.Size([32, 21]) torch.Size([32])\n",
            "torch.Size([32, 14]) torch.Size([32])\n",
            "torch.Size([32, 9]) torch.Size([32])\n",
            "torch.Size([32, 9]) torch.Size([32])\n",
            "torch.Size([32, 31]) torch.Size([32])\n",
            "torch.Size([32, 7]) torch.Size([32])\n",
            "torch.Size([32, 19]) torch.Size([32])\n",
            "torch.Size([32, 28]) torch.Size([32])\n",
            "torch.Size([32, 15]) torch.Size([32])\n",
            "torch.Size([32, 5]) torch.Size([32])\n",
            "torch.Size([32, 20]) torch.Size([32])\n",
            "torch.Size([32, 19]) torch.Size([32])\n",
            "torch.Size([32, 17]) torch.Size([32])\n",
            "torch.Size([32, 27]) torch.Size([32])\n",
            "torch.Size([32, 11]) torch.Size([32])\n",
            "torch.Size([32, 25]) torch.Size([32])\n",
            "torch.Size([32, 10]) torch.Size([32])\n",
            "torch.Size([32, 2]) torch.Size([32])\n",
            "torch.Size([32, 17]) torch.Size([32])\n",
            "torch.Size([32, 13]) torch.Size([32])\n"
          ]
        }
      ],
      "source": [
        "for i, (tweets, labels) in enumerate(TweetBatcher(train, drop_last=True)):\n",
        "    if i > 20: break\n",
        "    print(tweets.shape, labels.shape)"
      ]
    },
    {
      "cell_type": "markdown",
      "metadata": {
        "id": "sV8CYnwQ6lBM"
      },
      "source": [
        "Just to verify that our batching is reasonable, here is a modification of the\n",
        "`get_accuracy` function we wrote last time."
      ]
    },
    {
      "cell_type": "code",
      "execution_count": null,
      "metadata": {
        "colab": {
          "base_uri": "https://localhost:8080/",
          "height": 35
        },
        "id": "V5XM9ewr6lBN",
        "outputId": "8da25625-a309-4ccb-a45c-b24abe77386d"
      },
      "outputs": [
        {
          "data": {
            "text/plain": [
              "0.4974782209995415"
            ]
          },
          "execution_count": 17,
          "metadata": {
            "tags": []
          },
          "output_type": "execute_result"
        }
      ],
      "source": [
        "def get_accuracy(model, data_loader):\n",
        "    correct, total = 0, 0\n",
        "    for tweets, labels in data_loader:\n",
        "        output = model(tweets)\n",
        "        pred = output.max(1, keepdim=True)[1]\n",
        "        correct += pred.eq(labels.view_as(pred)).sum().item()\n",
        "        total += labels.shape[0]\n",
        "    return correct / total\n",
        "\n",
        "test_loader = TweetBatcher(test, batch_size=64, drop_last=False)\n",
        "get_accuracy(model, test_loader)"
      ]
    },
    {
      "cell_type": "markdown",
      "metadata": {
        "id": "30ZsJhdP6lBP"
      },
      "source": [
        "Our training code will also be very similar to the code we wrote last time:"
      ]
    },
    {
      "cell_type": "code",
      "execution_count": null,
      "metadata": {
        "id": "4tPj9gwy6lBQ"
      },
      "outputs": [],
      "source": [
        "def train_rnn_network(model, train, valid, num_epochs=5, learning_rate=1e-5):\n",
        "    criterion = nn.CrossEntropyLoss()\n",
        "    optimizer = torch.optim.Adam(model.parameters(), lr=learning_rate)\n",
        "    losses, train_acc, valid_acc = [], [], []\n",
        "    epochs = []\n",
        "    for epoch in range(num_epochs):\n",
        "        for tweets, labels in train:\n",
        "            optimizer.zero_grad()\n",
        "            pred = model(tweets)\n",
        "            loss = criterion(pred, labels)\n",
        "            loss.backward()\n",
        "            optimizer.step()\n",
        "        losses.append(float(loss))\n",
        "\n",
        "        epochs.append(epoch)\n",
        "        train_acc.append(get_accuracy(model, train_loader))\n",
        "        valid_acc.append(get_accuracy(model, valid_loader))\n",
        "        print(\"Epoch %d; Loss %f; Train Acc %f; Val Acc %f\" % (\n",
        "              epoch+1, loss, train_acc[-1], valid_acc[-1]))\n",
        "    # plotting\n",
        "    plt.title(\"Training Curve\")\n",
        "    plt.plot(losses, label=\"Train\")\n",
        "    plt.xlabel(\"Epoch\")\n",
        "    plt.ylabel(\"Loss\")\n",
        "    plt.show()\n",
        "\n",
        "    plt.title(\"Training Curve\")\n",
        "    plt.plot(epochs, train_acc, label=\"Train\")\n",
        "    plt.plot(epochs, valid_acc, label=\"Validation\")\n",
        "    plt.xlabel(\"Epoch\")\n",
        "    plt.ylabel(\"Accuracy\")\n",
        "    plt.legend(loc='best')\n",
        "    plt.show()"
      ]
    },
    {
      "cell_type": "markdown",
      "metadata": {
        "id": "AmB_73On6lBT"
      },
      "source": [
        "Let's train our model. Note that there will be some inaccuracies in computing the training loss.\n",
        "We are dropping some data from the training set by setting `drop_last=True`. Again, the choice is\n",
        "not ideal, but simplifies our code."
      ]
    },
    {
      "cell_type": "code",
      "execution_count": null,
      "metadata": {
        "colab": {
          "base_uri": "https://localhost:8080/",
          "height": 955
        },
        "id": "Ym4cBxAP6lBU",
        "outputId": "8dfabee1-d6ae-4498-f52e-be0e51110b87"
      },
      "outputs": [
        {
          "name": "stdout",
          "output_type": "stream",
          "text": [
            "Epoch 1; Loss 0.647893; Train Acc 0.653831; Val Acc 0.649739\n",
            "Epoch 2; Loss 0.541666; Train Acc 0.658414; Val Acc 0.653772\n",
            "Epoch 3; Loss 0.604061; Train Acc 0.666274; Val Acc 0.658630\n",
            "Epoch 4; Loss 0.602774; Train Acc 0.670252; Val Acc 0.660281\n",
            "Epoch 5; Loss 0.709282; Train Acc 0.666465; Val Acc 0.661656\n",
            "Epoch 6; Loss 0.570314; Train Acc 0.668502; Val Acc 0.664039\n",
            "Epoch 7; Loss 0.560169; Train Acc 0.676362; Val Acc 0.670822\n",
            "Epoch 8; Loss 0.582677; Train Acc 0.677221; Val Acc 0.671464\n",
            "Epoch 9; Loss 0.665506; Train Acc 0.677094; Val Acc 0.667706\n",
            "Epoch 10; Loss 0.573413; Train Acc 0.671207; Val Acc 0.663947\n",
            "Epoch 11; Loss 0.624342; Train Acc 0.680181; Val Acc 0.678156\n",
            "Epoch 12; Loss 0.558261; Train Acc 0.680053; Val Acc 0.675956\n",
            "Epoch 13; Loss 0.641874; Train Acc 0.684381; Val Acc 0.676689\n",
            "Epoch 14; Loss 0.623836; Train Acc 0.683713; Val Acc 0.676322\n",
            "Epoch 15; Loss 0.547892; Train Acc 0.687182; Val Acc 0.683839\n",
            "Epoch 16; Loss 0.586438; Train Acc 0.689950; Val Acc 0.682097\n",
            "Epoch 17; Loss 0.541013; Train Acc 0.692751; Val Acc 0.686589\n",
            "Epoch 18; Loss 0.575400; Train Acc 0.688455; Val Acc 0.680906\n",
            "Epoch 19; Loss 0.649971; Train Acc 0.695997; Val Acc 0.684847\n",
            "Epoch 20; Loss 0.582302; Train Acc 0.693896; Val Acc 0.679164\n"
          ]
        },
        {
          "data": {
            "image/png": "[encoded data removed]",
            "text/plain": [
              "<Figure size 432x288 with 1 Axes>"
            ]
          },
          "metadata": {
            "tags": []
          },
          "output_type": "display_data"
        },
        {
          "data": {
            "image/png": "[encoded data removed]",
            "text/plain": [
              "<Figure size 432x288 with 1 Axes>"
            ]
          },
          "metadata": {
            "tags": []
          },
          "output_type": "display_data"
        },
        {
          "data": {
            "text/plain": [
              "0.6839981659789087"
            ]
          },
          "execution_count": 73,
          "metadata": {
            "tags": []
          },
          "output_type": "execute_result"
        }
      ],
      "source": [
        "model = TweetRNN(50, 50, 2)\n",
        "train_loader = TweetBatcher(train, batch_size=64, drop_last=True)\n",
        "valid_loader = TweetBatcher(valid, batch_size=64, drop_last=False)\n",
        "train_rnn_network(model, train_loader, valid_loader, num_epochs=20, learning_rate=2e-4)\n",
        "get_accuracy(model, test_loader)"
      ]
    },
    {
      "cell_type": "markdown",
      "metadata": {
        "id": "Z86LNm5C6lBW"
      },
      "source": [
        "The hidden size and the input embedding size don't have to be the same."
      ]
    },
    {
      "cell_type": "code",
      "execution_count": null,
      "metadata": {
        "colab": {
          "base_uri": "https://localhost:8080/",
          "height": 955
        },
        "id": "r_RTLW9r6lBX",
        "outputId": "023f5ef7-50c2-4669-9d09-1f6568fa0cfd"
      },
      "outputs": [
        {
          "name": "stdout",
          "output_type": "stream",
          "text": [
            "Epoch 1; Loss 0.629585; Train Acc 0.664365; Val Acc 0.660831\n",
            "Epoch 2; Loss 0.616120; Train Acc 0.668788; Val Acc 0.660281\n",
            "Epoch 3; Loss 0.654475; Train Acc 0.669297; Val Acc 0.660281\n",
            "Epoch 4; Loss 0.577733; Train Acc 0.673084; Val Acc 0.662481\n",
            "Epoch 5; Loss 0.611385; Train Acc 0.670316; Val Acc 0.663031\n",
            "Epoch 6; Loss 0.615359; Train Acc 0.667834; Val Acc 0.654047\n",
            "Epoch 7; Loss 0.668497; Train Acc 0.669425; Val Acc 0.662664\n",
            "Epoch 8; Loss 0.625209; Train Acc 0.673148; Val Acc 0.661747\n",
            "Epoch 9; Loss 0.608081; Train Acc 0.677126; Val Acc 0.668256\n",
            "Epoch 10; Loss 0.644178; Train Acc 0.681422; Val Acc 0.671647\n",
            "Epoch 11; Loss 0.613439; Train Acc 0.669106; Val Acc 0.657530\n",
            "Epoch 12; Loss 0.526854; Train Acc 0.666147; Val Acc 0.660189\n",
            "Epoch 13; Loss 0.554303; Train Acc 0.685973; Val Acc 0.675956\n",
            "Epoch 14; Loss 0.563941; Train Acc 0.685686; Val Acc 0.672472\n",
            "Epoch 15; Loss 0.568416; Train Acc 0.687405; Val Acc 0.676506\n",
            "Epoch 16; Loss 0.524819; Train Acc 0.688868; Val Acc 0.673022\n",
            "Epoch 17; Loss 0.575157; Train Acc 0.689791; Val Acc 0.672197\n",
            "Epoch 18; Loss 0.529886; Train Acc 0.673912; Val Acc 0.666789\n",
            "Epoch 19; Loss 0.571357; Train Acc 0.697110; Val Acc 0.680814\n",
            "Epoch 20; Loss 0.543671; Train Acc 0.698765; Val Acc 0.682006\n"
          ]
        },
        {
          "data": {
            "image/png": "[encoded data removed]",
            "text/plain": [
              "<Figure size 432x288 with 1 Axes>"
            ]
          },
          "metadata": {
            "tags": []
          },
          "output_type": "display_data"
        },
        {
          "data": {
            "image/png": "[encoded data removed]",
            "text/plain": [
              "<Figure size 432x288 with 1 Axes>"
            ]
          },
          "metadata": {
            "tags": []
          },
          "output_type": "display_data"
        },
        {
          "data": {
            "text/plain": [
              "0.6865657955066483"
            ]
          },
          "execution_count": 85,
          "metadata": {
            "tags": []
          },
          "output_type": "execute_result"
        }
      ],
      "source": [
        "model = TweetRNN(50, 100, 2)\n",
        "train_rnn_network(model, train_loader, valid_loader, num_epochs=20, learning_rate=2e-4)\n",
        "get_accuracy(model, test_loader)"
      ]
    },
    {
      "cell_type": "markdown",
      "metadata": {
        "id": "rbkydKtxyvH_"
      },
      "source": [
        "##### Sentiment Analysis on New Tweets"
      ]
    },
    {
      "cell_type": "code",
      "execution_count": null,
      "metadata": {
        "id": "Pi61Uk3lz0Ju"
      },
      "outputs": [],
      "source": [
        "def get_new_tweet(glove_vector, sample_tweet):\n",
        "    tweet = sample_tweet\n",
        "    idxs = [glove_vector.stoi[w]        # lookup the index of word\n",
        "            for w in split_tweet(tweet)\n",
        "            if w in glove_vector.stoi] # keep words that has an embedding\n",
        "    idxs = torch.tensor(idxs) # convert list to pytorch tensor\n",
        "    return idxs"
      ]
    },
    {
      "cell_type": "code",
      "execution_count": null,
      "metadata": {
        "colab": {
          "base_uri": "https://localhost:8080/",
          "height": 54
        },
        "id": "kLEIMbmj2qI5",
        "outputId": "b5fc3399-0a68-4563-d347-6e0cefa782be"
      },
      "outputs": [
        {
          "name": "stdout",
          "output_type": "stream",
          "text": [
            "torch.Size([5])\n",
            "tensor([[0]])\n"
          ]
        }
      ],
      "source": [
        "new_tweet = get_new_tweet(glove, \"This is a terrible tragedy\")\n",
        "print(new_tweet.shape)\n",
        "\n",
        "out = torch.sigmoid(model(new_tweet.unsqueeze(0)))\n",
        "pred = out.max(1, keepdim=True)[1]\n",
        "print(pred)"
      ]
    },
    {
      "cell_type": "code",
      "execution_count": null,
      "metadata": {
        "colab": {
          "base_uri": "https://localhost:8080/",
          "height": 54
        },
        "id": "Gyx3J5H7p6RQ",
        "outputId": "6b9bdc38-1988-406c-c7ee-1e584ee4e07b"
      },
      "outputs": [
        {
          "name": "stdout",
          "output_type": "stream",
          "text": [
            "torch.Size([8])\n",
            "tensor([[1]])\n"
          ]
        }
      ],
      "source": [
        "new_tweet = get_new_tweet(glove, \"This is the best day of my life\")\n",
        "print(new_tweet.shape)\n",
        "\n",
        "out = torch.sigmoid(model(new_tweet.unsqueeze(0)))\n",
        "pred = out.max(1, keepdim=True)[1]\n",
        "print(pred)"
      ]
    },
    {
      "cell_type": "markdown",
      "metadata": {
        "id": "9HpLnBSFqDSo"
      },
      "source": [
        "Sentiment analysis is not a straight forward problem and it's impressive that without too much tunning we are able to get validation accuracy close to 70%. There are many ways that we can improve our performance:\n",
        "\n",
        "*   Tune hyperparameters\n",
        "*   Use all of the available data\n",
        "*   Apply more advanced RNN architectures (ex. LSTM and GRU)"
      ]
    },
    {
      "cell_type": "code",
      "execution_count": null,
      "metadata": {
        "id": "MnMBwyGJ6lBs"
      },
      "outputs": [],
      "source": [
        "class TweetLSTM(nn.Module):\n",
        "    def __init__(self, input_size, hidden_size, num_classes):\n",
        "        super(TweetLSTM, self).__init__()\n",
        "        self.emb = nn.Embedding.from_pretrained(glove.vectors)\n",
        "        self.hidden_size = hidden_size\n",
        "        self.rnn = nn.LSTM(input_size, hidden_size, batch_first=True)\n",
        "        self.fc = nn.Linear(hidden_size, num_classes)\n",
        "\n",
        "    def forward(self, x):\n",
        "        # Look up the embedding\n",
        "        x = self.emb(x)\n",
        "        # Set an initial hidden state and cell state\n",
        "        h0 = torch.zeros(1, x.size(0), self.hidden_size)\n",
        "        c0 = torch.zeros(1, x.size(0), self.hidden_size)\n",
        "        # Forward propagate the LSTM\n",
        "        out, _ = self.rnn(x, (h0, c0))\n",
        "        # Pass the output of the last time step to the classifier\n",
        "        out = self.fc(out[:, -1, :])\n",
        "        return out\n",
        "\n",
        "model = TweetLSTM(50, 50, 2)\n",
        "train_rnn_network(model, train_loader, valid_loader, num_epochs=20, learning_rate=2e-5)\n",
        "get_accuracy(model, test_loader)"
      ]
    }
  ],
  "metadata": {
    "colab": {
      "provenance": []
    },
    "kernelspec": {
      "display_name": "MIE1517",
      "language": "python",
      "name": "python3"
    },
    "language_info": {
      "codemirror_mode": {
        "name": "ipython",
        "version": 3
      },
      "file_extension": ".py",
      "mimetype": "text/x-python",
      "name": "python",
      "nbconvert_exporter": "python",
      "pygments_lexer": "ipython3",
      "version": "3.9.18"
    }
  },
  "nbformat": 4,
  "nbformat_minor": 0
}
