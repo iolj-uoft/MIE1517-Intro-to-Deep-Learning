{
  "cells": [
    {
      "cell_type": "markdown",
      "metadata": {
        "id": "3oJ2QIGMoxjx"
      },
      "source": [
        "# Pre 4A - Generative LSTM (Assignment Preparation)\n",
        "\n",
        "This tutorial provides sample code for creating a character-level LSTM with PyTorch. The tutorial will guide you through the process of training a network character by character on some text, then generating new text character by character. Here we provide an example to train on the complete works of Shakespeare.\n",
        "\n",
        "This network is based off of Andrej Karpathy's [post on RNNs](http://karpathy.github.io/2015/05/21/rnn-effectiveness/) and [implementation in Torch](https://github.com/karpathy/char-rnn)."
      ]
    },
    {
      "cell_type": "markdown",
      "metadata": {
        "id": "yWBraWS0oxj1"
      },
      "source": [
        "First let's load in our required resources for data loading and model creation."
      ]
    },
    {
      "cell_type": "code",
      "execution_count": 26,
      "metadata": {
        "id": "MnjFaiucoxj2"
      },
      "outputs": [],
      "source": [
        "import numpy as np\n",
        "import torch\n",
        "from torch import nn\n",
        "import torch.nn.functional as F\n"
      ]
    },
    {
      "cell_type": "markdown",
      "metadata": {
        "id": "oGVcq6rnoxj3"
      },
      "source": [
        "## Load in Data\n",
        "\n",
        "Then, we'll load the Shakespeare text file into our virtual machine and convert it into integers for our network to use.\n",
        "\n",
        "### Tokenization\n",
        "\n",
        "In the second cell, below, I'm creating a couple **dictionaries** to convert the characters to and from integers. Encoding the characters as integers makes it easier to use as input in the network."
      ]
    },
    {
      "cell_type": "code",
      "execution_count": 27,
      "metadata": {
        "id": "OSJA5Mvjoxj4"
      },
      "outputs": [],
      "source": [
        "# open text file and read in data as `text`\n",
        "with open('/content/input.txt', 'r') as f:\n",
        "    text = f.read()"
      ]
    },
    {
      "cell_type": "markdown",
      "metadata": {
        "id": "Sszohcumoxj4"
      },
      "source": [
        "Now we have the text, encode it as integers."
      ]
    },
    {
      "cell_type": "code",
      "execution_count": 28,
      "metadata": {
        "id": "dJC_FOAEoxj4"
      },
      "outputs": [],
      "source": [
        "# encode the text and map each character to an integer and vice versa\n",
        "\n",
        "# we create two dictonaries:\n",
        "# 1. int2char, which maps integers to characters\n",
        "# 2. char2int, which maps characters to unique integers\n",
        "\n",
        "chars = tuple(set(text))\n",
        "\n",
        "int2char = dict(enumerate(chars))\n",
        "\n",
        "char2int = {ch: ii for ii, ch in int2char.items()}\n",
        "\n",
        "encoded = np.array([char2int[ch] for ch in text])"
      ]
    },
    {
      "cell_type": "markdown",
      "metadata": {
        "id": "5QadbogIoxj5"
      },
      "source": [
        "Let's check out the first 100 characters."
      ]
    },
    {
      "cell_type": "code",
      "execution_count": 29,
      "metadata": {
        "colab": {
          "base_uri": "https://localhost:8080/",
          "height": 36
        },
        "id": "Bgj69XDgoxj5",
        "outputId": "4a189639-9d89-4f82-9aab-64e6e8716707"
      },
      "outputs": [
        {
          "output_type": "execute_result",
          "data": {
            "text/plain": [
              "'First Citizen:\\nBefore we proceed any further, hear me speak.\\n\\nAll:\\nSpeak, speak.\\n\\nFirst Citizen:\\nYou'"
            ],
            "application/vnd.google.colaboratory.intrinsic+json": {
              "type": "string"
            }
          },
          "metadata": {},
          "execution_count": 29
        }
      ],
      "source": [
        "text[:100]"
      ]
    },
    {
      "cell_type": "markdown",
      "metadata": {
        "id": "1pjR-jvjoxj7"
      },
      "source": [
        "And we can see those same characters encoded as integers."
      ]
    },
    {
      "cell_type": "code",
      "execution_count": 30,
      "metadata": {
        "colab": {
          "base_uri": "https://localhost:8080/"
        },
        "id": "o6O8AEw2oxj8",
        "outputId": "801c342f-b3a0-4724-f684-aab0bf7d0e60"
      },
      "outputs": [
        {
          "output_type": "execute_result",
          "data": {
            "text/plain": [
              "array([35, 34, 26, 16, 49, 13, 20, 34, 49, 34, 31, 48, 30,  7, 51, 47, 48,\n",
              "       52, 27, 26, 48, 13, 61, 48, 13, 14, 26, 27, 41, 48, 48, 50, 13, 19,\n",
              "       30,  1, 13, 52, 36, 26, 49, 59, 48, 26, 60, 13, 59, 48, 19, 26, 13,\n",
              "       33, 48, 13, 16, 14, 48, 19, 25, 12, 51, 51, 56, 37, 37,  7, 51,  2,\n",
              "       14, 48, 19, 25, 60, 13, 16, 14, 48, 19, 25, 12, 51, 51, 35, 34, 26,\n",
              "       16, 49, 13, 20, 34, 49, 34, 31, 48, 30,  7, 51, 28, 27, 36])"
            ]
          },
          "metadata": {},
          "execution_count": 30
        }
      ],
      "source": [
        "encoded[:100]"
      ]
    },
    {
      "cell_type": "markdown",
      "metadata": {
        "id": "GILOt8Rhoxj8"
      },
      "source": [
        "## Pre-processing the data\n",
        "\n",
        "As you can see in our char-RNN image above, our LSTM expects an input that is **one-hot encoded** meaning that each character is converted into an intgere (via our created dictionary) and *then* converted into a column vector where only it's corresponsing integer index will have the value of 1 and the rest of the vector will be filled with 0's. Since we're one-hot encoding the data, let's make a function to do that!\n"
      ]
    },
    {
      "cell_type": "code",
      "execution_count": 31,
      "metadata": {
        "id": "tZ_szzleoxj9"
      },
      "outputs": [],
      "source": [
        "def one_hot_encode(arr, n_labels):\n",
        "\n",
        "    # Initialize the the encoded array\n",
        "    one_hot = np.zeros((np.multiply(*arr.shape), n_labels), dtype=np.float32)\n",
        "\n",
        "    # Fill the appropriate elements with ones\n",
        "    one_hot[np.arange(one_hot.shape[0]), arr.flatten()] = 1.\n",
        "\n",
        "    # Finally reshape it to get back to the original array\n",
        "    one_hot = one_hot.reshape((*arr.shape, n_labels))\n",
        "\n",
        "    return one_hot"
      ]
    },
    {
      "cell_type": "markdown",
      "metadata": {
        "id": "jLiqAo0voxj9"
      },
      "source": [
        "## Making training mini-batches\n",
        "\n",
        "\n",
        "To train on this data, we also want to create mini-batches for training. Remember that we want our batches to be multiple sequences of some desired number of sequence steps. Considering a simple example, our batches would look like this:\n",
        "\n",
        "In this example, we'll take the encoded characters (passed in as the `arr` parameter) and split them into multiple sequences, given by `n_seqs` (also refered to as \"batch size\" in other places). Each of those sequences will be `n_steps` long.\n",
        "\n",
        "### Creating Batches\n",
        "\n",
        "**1. The first thing we need to do is discard some of the text so we only have completely full batches. **\n",
        "\n",
        "Each batch contains $N \\times M$ characters, where $N$ is the batch size (the number of sequences) and $M$ is the number of steps. Then, to get the total number of batches, $K$, we can make from the array `arr`, you divide the length of `arr` by the number of characters per batch. Once you know the number of batches, you can get the total number of characters to keep from `arr`, $N * M * K$.\n",
        "\n",
        "**2. After that, we need to split `arr` into $N$ sequences. **\n",
        "\n",
        "You can do this using `arr.reshape(size)` where `size` is a tuple containing the dimensions sizes of the reshaped array. We know we want $N$ sequences, so let's make that the size of the first dimension. For the second dimension, you can use `-1` as a placeholder in the size, it'll fill up the array with the appropriate data for you. After this, you should have an array that is $N \\times (M * K)$.\n",
        "\n",
        "**3. Now that we have this array, we can iterate through it to get our batches. **\n",
        "\n",
        "The idea is each batch is a $N \\times M$ window on the $N \\times (M * K)$ array. For each subsequent batch, the window moves over by `n_steps`. We also want to create both the input and target arrays. Remember that the targets are the inputs shifted over one character. The way I like to do this window is use `range` to take steps of size `n_steps` from $0$ to `arr.shape[1]`, the total number of steps in each sequence. That way, the integers you get from `range` always point to the start of a batch, and each window is `n_steps` wide."
      ]
    },
    {
      "cell_type": "code",
      "execution_count": 32,
      "metadata": {
        "id": "WYCZ0yF8oxj-"
      },
      "outputs": [],
      "source": [
        "def get_batches(arr, n_seqs, n_steps):\n",
        "    '''Create a generator that returns batches of size\n",
        "       n_seqs x n_steps from arr.\n",
        "\n",
        "       Arguments\n",
        "       ---------\n",
        "       arr: Array you want to make batches from\n",
        "       n_seqs: Batch size, the number of sequences per batch\n",
        "       n_steps: Number of sequence steps per batch\n",
        "    '''\n",
        "\n",
        "    batch_size = n_seqs * n_steps\n",
        "    n_batches = len(arr)//batch_size\n",
        "\n",
        "    # Keep only enough characters to make full batches\n",
        "    arr = arr[:n_batches * batch_size]\n",
        "\n",
        "    # Reshape into n_seqs rows\n",
        "    arr = arr.reshape((n_seqs, -1))\n",
        "\n",
        "    for n in range(0, arr.shape[1], n_steps):\n",
        "\n",
        "        # The features\n",
        "        x = arr[:, n:n+n_steps]\n",
        "\n",
        "        # The targets, shifted by one\n",
        "        y = np.zeros_like(x)\n",
        "\n",
        "        try:\n",
        "            y[:, :-1], y[:, -1] = x[:, 1:], arr[:, n+n_steps]\n",
        "        except IndexError:\n",
        "            y[:, :-1], y[:, -1] = x[:, 1:], arr[:, 0]\n",
        "        yield x, y"
      ]
    },
    {
      "cell_type": "markdown",
      "metadata": {
        "id": "s-u2Hi1yoxj-"
      },
      "source": [
        "### Test Your Implementation\n",
        "\n",
        "Now I'll make some data sets and we can check out what's going on as we batch data. Here, as an example, I'm going to use a batch size of 10 and 50 sequence steps."
      ]
    },
    {
      "cell_type": "code",
      "execution_count": 33,
      "metadata": {
        "id": "OBoOS8A3oxj-"
      },
      "outputs": [],
      "source": [
        "batches = get_batches(encoded, 10, 50)\n",
        "x, y = next(batches)"
      ]
    },
    {
      "cell_type": "code",
      "execution_count": 34,
      "metadata": {
        "colab": {
          "base_uri": "https://localhost:8080/"
        },
        "id": "fbkqhz-eoxj_",
        "outputId": "6026cd8f-cb10-400b-b753-ebb36ba71687"
      },
      "outputs": [
        {
          "output_type": "stream",
          "name": "stdout",
          "text": [
            "x\n",
            " [[35 34 26 16 49 13 20 34 49 34]\n",
            " [56 30 50 13 33 27 26 48 13 19]\n",
            " [37 48 16 13 59 48 26 48 13 49]\n",
            " [13 59 34 33 13 49 27 13 16 48]\n",
            " [56 13 41 26 36 49 41 59 60 13]\n",
            " [13 50 27 49 59 13 37 48 30 50]\n",
            " [30 13 27 36 26 13 61 19  1 13]\n",
            " [42 34 16 13 10 34 41 48 16 60]\n",
            " [52 34 49 34 30 54 13  0  1 13]\n",
            " [47 34 19 30 41 19 60 13 54 48]]\n",
            "\n",
            "y\n",
            " [[34 26 16 49 13 20 34 49 34 31]\n",
            " [30 50 13 33 27 26 48 13 19 13]\n",
            " [48 16 13 59 48 26 48 13 49 27]\n",
            " [59 34 33 13 49 27 13 16 48 49]\n",
            " [13 41 26 36 49 41 59 60 13 19]\n",
            " [50 27 49 59 13 37 48 30 50 13]\n",
            " [13 27 36 26 13 61 19  1 13 34]\n",
            " [34 16 13 10 34 41 48 16 60 13]\n",
            " [34 49 34 30 54 13  0  1 13 49]\n",
            " [34 19 30 41 19 60 13 54 48 49]]\n"
          ]
        }
      ],
      "source": [
        "print('x\\n', x[:10, :10])\n",
        "print('\\ny\\n', y[:10, :10])"
      ]
    },
    {
      "cell_type": "markdown",
      "metadata": {
        "id": "d4QTs35Soxj_"
      },
      "source": [
        "If you implemented `get_batches` correctly, the above output should look something like\n",
        "```\n",
        "x\n",
        " [[55 63 69 22  6 76 45  5 16 35]\n",
        " [ 5 69  1  5 12 52  6  5 56 52]\n",
        " [48 29 12 61 35 35  8 64 76 78]\n",
        " [12  5 24 39 45 29 12 56  5 63]\n",
        " [ 5 29  6  5 29 78 28  5 78 29]\n",
        " [ 5 13  6  5 36 69 78 35 52 12]\n",
        " [63 76 12  5 18 52  1 76  5 58]\n",
        " [34  5 73 39  6  5 12 52 36  5]\n",
        " [ 6  5 29 78 12 79  6 61  5 59]\n",
        " [ 5 78 69 29 24  5  6 52  5 63]]\n",
        "\n",
        "y\n",
        " [[63 69 22  6 76 45  5 16 35 35]\n",
        " [69  1  5 12 52  6  5 56 52 29]\n",
        " [29 12 61 35 35  8 64 76 78 28]\n",
        " [ 5 24 39 45 29 12 56  5 63 29]\n",
        " [29  6  5 29 78 28  5 78 29 45]\n",
        " [13  6  5 36 69 78 35 52 12 43]\n",
        " [76 12  5 18 52  1 76  5 58 52]\n",
        " [ 5 73 39  6  5 12 52 36  5 78]\n",
        " [ 5 29 78 12 79  6 61  5 59 63]\n",
        " [78 69 29 24  5  6 52  5 63 76]]\n",
        " ```\n",
        " although the exact numbers will be different. Check to make sure the data is shifted over one step for `y`."
      ]
    },
    {
      "cell_type": "markdown",
      "metadata": {
        "id": "npKdu9Hcoxj_"
      },
      "source": [
        "---\n",
        "## Defining the network with PyTorch\n",
        "\n",
        "Below is where you'll define the network. We'll break it up into parts so it's easier to reason about each bit. Then we can connect them up into the whole network.\n",
        "\n",
        "Next, you'll use PyTorch to define the architecture of the network. We start by defining the layers and operations we want. Then, define a method for the forward pass. You've also been given a method for predicting characters."
      ]
    },
    {
      "cell_type": "markdown",
      "metadata": {
        "id": "iKAUa8Pqoxj_"
      },
      "source": [
        "### Model Structure\n",
        "\n",
        "In `__init__` the suggested structure is as follows:\n",
        "* Create and store the necessary dictionaries (this has been done for you)\n",
        "* Define an LSTM layer that takes as params: an input size (the number of characters), a hidden layer size `n_hidden`, a number of layers `n_layers`, a dropout probability `drop_prob`, and a batch_first boolean (True, since we are batching)\n",
        "* Define a dropout layer with `dropout_prob`\n",
        "* Define a fully-connected layer with params: input size `n_hidden` and output size (the number of characters)\n",
        "* Finally, initialize the weights (again, this has been given)\n",
        "\n",
        "Note that some parameters have been named and given in the `__init__` function, and we use them and store them by doing something like `self.drop_prob = drop_prob`."
      ]
    },
    {
      "cell_type": "markdown",
      "metadata": {
        "id": "vUUK1cm2oxkA"
      },
      "source": [
        "---\n",
        "### LSTM Inputs/Outputs\n",
        "\n",
        "You can create a basic LSTM cell as follows\n",
        "\n",
        "```python\n",
        "self.lstm = nn.LSTM(input_size, n_hidden, n_layers,\n",
        "                            dropout=drop_prob, batch_first=True)\n",
        "```\n",
        "\n",
        "where `input_size` is the number of characters this cell expects to see as sequential input, and `n_hidden` is the number of units in the hidden layers in the cell. And we can add dropout by adding a dropout parameter with a specified probability; this will automatically add dropout to the inputs or outputs. Finally, in the `forward` function, we can stack up the LSTM cells into layers using `.view`. With this, you pass in a list of cells and it will send the output of one cell into the next cell.\n",
        "\n",
        "We also need to create an initial cell state of all zeros. This is done like so\n",
        "\n",
        "```python\n",
        "self.init_weights()\n",
        "```"
      ]
    },
    {
      "cell_type": "code",
      "execution_count": 35,
      "metadata": {
        "id": "T9kdvS6YoxkA"
      },
      "outputs": [],
      "source": [
        "class CharRNN(nn.Module):\n",
        "\n",
        "    def __init__(self, tokens, n_steps=100, n_hidden=256, n_layers=2,\n",
        "                               drop_prob=0.5, lr=0.001):\n",
        "        super().__init__()\n",
        "        self.drop_prob = drop_prob\n",
        "        self.n_layers = n_layers\n",
        "        self.n_hidden = n_hidden\n",
        "        self.lr = lr\n",
        "\n",
        "        # Creating character dictionaries\n",
        "        self.chars = tokens\n",
        "        self.int2char = dict(enumerate(self.chars))\n",
        "        self.char2int = {ch: ii for ii, ch in self.int2char.items()}\n",
        "\n",
        "        ## Define the LSTM\n",
        "        self.lstm = nn.LSTM(len(self.chars), n_hidden, n_layers,\n",
        "                            dropout=drop_prob, batch_first=True)\n",
        "\n",
        "        ## Define a dropout layer\n",
        "        self.dropout = nn.Dropout(drop_prob)\n",
        "\n",
        "        ## Define the final, fully-connected output layer\n",
        "        self.fc = nn.Linear(n_hidden, len(self.chars))\n",
        "\n",
        "        # Initialize the weights\n",
        "        self.init_weights()\n",
        "\n",
        "\n",
        "    def forward(self, x, hc):\n",
        "        ''' Forward pass through the network.\n",
        "            These inputs are x, and the hidden/cell state `hc`. '''\n",
        "\n",
        "        ## Get x, and the new hidden state (h, c) from the lstm\n",
        "        x, (h, c) = self.lstm(x, hc)\n",
        "\n",
        "        ## Pass x through the dropout layer\n",
        "        x = self.dropout(x)\n",
        "\n",
        "        # Stack up LSTM outputs using view\n",
        "        #x = x.view(x.size()[0]*x.size()[1], self.n_hidden)\n",
        "        x = x.contiguous().view(x.size()[0]*x.size()[1], self.n_hidden)\n",
        "\n",
        "        ## Put x through the fully-connected layer\n",
        "        x = self.fc(x)\n",
        "\n",
        "        # Return x and the hidden state (h, c)\n",
        "        return x, (h, c)\n",
        "\n",
        "\n",
        "    def predict(self, char, h=None, cuda=False, top_k=None):\n",
        "        ''' Given a character, predict the next character.\n",
        "\n",
        "            Returns the predicted character and the hidden state.\n",
        "        '''\n",
        "        if cuda and torch.cuda.is_available():\n",
        "            self.cuda()\n",
        "        else:\n",
        "            self.cpu()\n",
        "\n",
        "        if h is None:\n",
        "            h = self.init_hidden(1)\n",
        "\n",
        "        x = np.array([[self.char2int[char]]])\n",
        "        x = one_hot_encode(x, len(self.chars))\n",
        "\n",
        "        inputs = torch.from_numpy(x)\n",
        "\n",
        "        if cuda and torch.cuda.is_available():\n",
        "            inputs = inputs.cuda()\n",
        "\n",
        "        h = tuple([each.data for each in h])\n",
        "        out, h = self.forward(inputs, h)\n",
        "\n",
        "        p = F.softmax(out, dim=1).data\n",
        "\n",
        "        if cuda and torch.cuda.is_available():\n",
        "            p = p.cpu()\n",
        "\n",
        "        if top_k is None:\n",
        "            top_ch = np.arange(len(self.chars))\n",
        "        else:\n",
        "            p, top_ch = p.topk(top_k)\n",
        "            top_ch = top_ch.numpy().squeeze()\n",
        "\n",
        "        p = p.numpy().squeeze()\n",
        "\n",
        "        char = np.random.choice(top_ch, p=p/p.sum())\n",
        "\n",
        "        return self.int2char[char], h\n",
        "\n",
        "    def init_weights(self):\n",
        "        ''' Initialize weights for fully connected layer '''\n",
        "        initrange = 0.1\n",
        "\n",
        "        # Set bias tensor to all zeros\n",
        "        self.fc.bias.data.fill_(0)\n",
        "        # FC weights as random uniform\n",
        "        self.fc.weight.data.uniform_(-1, 1)\n",
        "\n",
        "    def init_hidden(self, n_seqs):\n",
        "        ''' Initializes hidden state '''\n",
        "        # Create two new tensors with sizes n_layers x n_seqs x n_hidden,\n",
        "        # initialized to zero, for hidden state and cell state of LSTM\n",
        "        weight = next(self.parameters()).data\n",
        "        return (weight.new(self.n_layers, n_seqs, self.n_hidden).zero_(),\n",
        "                weight.new(self.n_layers, n_seqs, self.n_hidden).zero_())\n"
      ]
    },
    {
      "cell_type": "markdown",
      "metadata": {
        "id": "rpUpVV9UoxkB"
      },
      "source": [
        "### A note on the `predict`  function\n",
        "\n",
        "The output of our RNN is from a fully-connected layer and it outputs a **distribution of next-character scores**.\n",
        "\n",
        "To actually get the next character, we apply a softmax function, which gives us a *probability* distribution that we can then sample to predict the next character."
      ]
    },
    {
      "cell_type": "code",
      "execution_count": 36,
      "metadata": {
        "id": "SKziYXfvoxkC"
      },
      "outputs": [],
      "source": [
        "def train(net, data, epochs=10, n_seqs=10, n_steps=50, lr=0.001, clip=5, val_frac=0.1, cuda=False, print_every=10):\n",
        "    ''' Training a network\n",
        "\n",
        "        Arguments\n",
        "        ---------\n",
        "\n",
        "        net: CharRNN network\n",
        "        data: text data to train the network\n",
        "        epochs: Number of epochs to train\n",
        "        n_seqs: Number of mini-sequences per mini-batch, aka batch size\n",
        "        n_steps: Number of character steps per mini-batch\n",
        "        lr: learning rate\n",
        "        clip: gradient clipping\n",
        "        val_frac: Fraction of data to hold out for validation\n",
        "        cuda: Train with CUDA on a GPU\n",
        "        print_every: Number of steps for printing training and validation loss\n",
        "\n",
        "    '''\n",
        "\n",
        "    net.train()\n",
        "\n",
        "    opt = torch.optim.Adam(net.parameters(), lr=lr)\n",
        "\n",
        "    criterion = nn.CrossEntropyLoss()\n",
        "\n",
        "    # create training and validation data\n",
        "    val_idx = int(len(data)*(1-val_frac))\n",
        "    data, val_data = data[:val_idx], data[val_idx:]\n",
        "\n",
        "    if cuda and torch.cuda.is_available():\n",
        "        net.cuda()\n",
        "\n",
        "    counter = 0\n",
        "    n_chars = len(net.chars)\n",
        "\n",
        "    for e in range(epochs):\n",
        "\n",
        "        h = net.init_hidden(n_seqs)\n",
        "\n",
        "        for x, y in get_batches(data, n_seqs, n_steps):\n",
        "\n",
        "            counter += 1\n",
        "\n",
        "            # One-hot encode our data and make them Torch tensors\n",
        "            x = one_hot_encode(x, n_chars)\n",
        "            inputs, targets = torch.from_numpy(x), torch.from_numpy(y)\n",
        "\n",
        "            if cuda and torch.cuda.is_available():\n",
        "                inputs, targets = inputs.cuda(), targets.cuda()\n",
        "\n",
        "            # Creating new variables for the hidden state, otherwise\n",
        "            # we'd backprop through the entire training history\n",
        "            h = tuple([each.data for each in h])\n",
        "\n",
        "            net.zero_grad()\n",
        "\n",
        "            output, h = net.forward(inputs, h)\n",
        "\n",
        "            if cuda and torch.cuda.is_available():\n",
        "              loss = criterion(output, targets.view(n_seqs*n_steps).type(torch.cuda.LongTensor))\n",
        "            else:\n",
        "              loss = criterion(output, targets.view(n_seqs*n_steps).type(torch.LongTensor))\n",
        "\n",
        "            loss.backward()\n",
        "\n",
        "            # `clip_grad_norm` helps prevent the exploding gradient problem in RNNs / LSTMs.\n",
        "            nn.utils.clip_grad_norm_(net.parameters(), clip)\n",
        "\n",
        "            opt.step()\n",
        "\n",
        "            if counter % print_every == 0:\n",
        "\n",
        "                # Get validation loss\n",
        "                val_h = net.init_hidden(n_seqs)\n",
        "                val_losses = []\n",
        "\n",
        "                for x, y in get_batches(val_data, n_seqs, n_steps):\n",
        "\n",
        "                    # One-hot encode our data and make them Torch tensors\n",
        "                    x = one_hot_encode(x, n_chars)\n",
        "                    x, y = torch.from_numpy(x), torch.from_numpy(y)\n",
        "\n",
        "                    # Creating new variables for the hidden state, otherwise\n",
        "                    # we'd backprop through the entire training history\n",
        "                    val_h = tuple([each.data for each in val_h])\n",
        "\n",
        "                    inputs, targets = x, y\n",
        "                    if cuda and torch.cuda.is_available():\n",
        "                        inputs, targets = inputs.cuda(), targets.cuda()\n",
        "\n",
        "                    output, val_h = net.forward(inputs, val_h)\n",
        "\n",
        "                    if cuda and torch.cuda.is_available():\n",
        "                      val_loss = criterion(output, targets.view(n_seqs*n_steps).type(torch.cuda.LongTensor))\n",
        "                    else:\n",
        "                      val_loss = criterion(output, targets.view(n_seqs*n_steps).type(torch.LongTensor))\n",
        "\n",
        "                    val_losses.append(val_loss.item())\n",
        "\n",
        "                print(\"Epoch: {}/{}...\".format(e+1, epochs),\n",
        "                      \"Step: {}...\".format(counter),\n",
        "                      \"Loss: {:.4f}...\".format(loss.item()),\n",
        "                      \"Val Loss: {:.4f}\".format(np.mean(val_losses)))"
      ]
    },
    {
      "cell_type": "markdown",
      "metadata": {
        "id": "j22tl4m-oxkD"
      },
      "source": [
        "## Time to train\n",
        "\n",
        "Now we can actually train the network. First we'll create the network itself, with some given hyperparameters. Then, define the mini-batches sizes (number of sequences and number of steps), and start the training. With the train function, we can set the number of epochs, the learning rate, and other parameters. Also, we can run the training on a GPU by setting `cuda=True`."
      ]
    },
    {
      "cell_type": "code",
      "execution_count": 37,
      "metadata": {
        "id": "reT1TbxsoxkD"
      },
      "outputs": [],
      "source": [
        "if 'net' in locals():\n",
        "    del net"
      ]
    },
    {
      "cell_type": "code",
      "execution_count": 38,
      "metadata": {
        "colab": {
          "base_uri": "https://localhost:8080/"
        },
        "id": "Q1dT9QPCoxkE",
        "outputId": "a1cca721-4087-4c76-b04e-4f8da8b6fbf1"
      },
      "outputs": [
        {
          "output_type": "stream",
          "name": "stdout",
          "text": [
            "CharRNN(\n",
            "  (lstm): LSTM(65, 512, num_layers=2, batch_first=True, dropout=0.5)\n",
            "  (dropout): Dropout(p=0.5, inplace=False)\n",
            "  (fc): Linear(in_features=512, out_features=65, bias=True)\n",
            ")\n"
          ]
        }
      ],
      "source": [
        "# Initialize and print the network\n",
        "net = CharRNN(chars, n_hidden=512, n_layers=2)\n",
        "\n",
        "print(net)"
      ]
    },
    {
      "cell_type": "code",
      "execution_count": 39,
      "metadata": {
        "scrolled": true,
        "colab": {
          "base_uri": "https://localhost:8080/"
        },
        "id": "rmMZkfa8oxkE",
        "outputId": "9f9723e6-f374-4eb3-e489-6c8977271cf3"
      },
      "outputs": [
        {
          "output_type": "stream",
          "name": "stdout",
          "text": [
            "Epoch: 1/25... Step: 10... Loss: 3.3927... Val Loss: 3.4166\n",
            "Epoch: 1/25... Step: 20... Loss: 3.2655... Val Loss: 3.2938\n",
            "Epoch: 1/25... Step: 30... Loss: 3.1262... Val Loss: 3.1202\n",
            "Epoch: 1/25... Step: 40... Loss: 2.9582... Val Loss: 2.9288\n",
            "Epoch: 1/25... Step: 50... Loss: 2.7550... Val Loss: 2.7364\n",
            "Epoch: 1/25... Step: 60... Loss: 2.6227... Val Loss: 2.6142\n",
            "Epoch: 1/25... Step: 70... Loss: 2.5220... Val Loss: 2.5426\n",
            "Epoch: 2/25... Step: 80... Loss: 2.4865... Val Loss: 2.4854\n",
            "Epoch: 2/25... Step: 90... Loss: 2.4404... Val Loss: 2.4415\n",
            "Epoch: 2/25... Step: 100... Loss: 2.4076... Val Loss: 2.4054\n",
            "Epoch: 2/25... Step: 110... Loss: 2.3956... Val Loss: 2.3859\n",
            "Epoch: 2/25... Step: 120... Loss: 2.3357... Val Loss: 2.3578\n",
            "Epoch: 2/25... Step: 130... Loss: 2.3136... Val Loss: 2.3354\n",
            "Epoch: 2/25... Step: 140... Loss: 2.2787... Val Loss: 2.3217\n",
            "Epoch: 2/25... Step: 150... Loss: 2.2652... Val Loss: 2.2967\n",
            "Epoch: 3/25... Step: 160... Loss: 2.2417... Val Loss: 2.2761\n",
            "Epoch: 3/25... Step: 170... Loss: 2.2279... Val Loss: 2.2660\n",
            "Epoch: 3/25... Step: 180... Loss: 2.1652... Val Loss: 2.2595\n",
            "Epoch: 3/25... Step: 190... Loss: 2.2193... Val Loss: 2.2373\n",
            "Epoch: 3/25... Step: 200... Loss: 2.1694... Val Loss: 2.2282\n",
            "Epoch: 3/25... Step: 210... Loss: 2.1242... Val Loss: 2.2204\n",
            "Epoch: 3/25... Step: 220... Loss: 2.0957... Val Loss: 2.2065\n",
            "Epoch: 3/25... Step: 230... Loss: 2.0940... Val Loss: 2.1939\n",
            "Epoch: 4/25... Step: 240... Loss: 2.0912... Val Loss: 2.2033\n",
            "Epoch: 4/25... Step: 250... Loss: 2.0760... Val Loss: 2.1741\n",
            "Epoch: 4/25... Step: 260... Loss: 2.0587... Val Loss: 2.1617\n",
            "Epoch: 4/25... Step: 270... Loss: 2.0513... Val Loss: 2.1595\n",
            "Epoch: 4/25... Step: 280... Loss: 2.0512... Val Loss: 2.1470\n",
            "Epoch: 4/25... Step: 290... Loss: 2.0320... Val Loss: 2.1387\n",
            "Epoch: 4/25... Step: 300... Loss: 1.9886... Val Loss: 2.1259\n",
            "Epoch: 4/25... Step: 310... Loss: 1.9725... Val Loss: 2.1239\n",
            "Epoch: 5/25... Step: 320... Loss: 1.9958... Val Loss: 2.1063\n",
            "Epoch: 5/25... Step: 330... Loss: 1.9935... Val Loss: 2.1286\n",
            "Epoch: 5/25... Step: 340... Loss: 1.9632... Val Loss: 2.1082\n",
            "Epoch: 5/25... Step: 350... Loss: 1.9514... Val Loss: 2.1057\n",
            "Epoch: 5/25... Step: 360... Loss: 1.9355... Val Loss: 2.0910\n",
            "Epoch: 5/25... Step: 370... Loss: 1.9204... Val Loss: 2.0799\n",
            "Epoch: 5/25... Step: 380... Loss: 1.9151... Val Loss: 2.0704\n",
            "Epoch: 5/25... Step: 390... Loss: 1.9102... Val Loss: 2.0606\n",
            "Epoch: 6/25... Step: 400... Loss: 1.9257... Val Loss: 2.0533\n",
            "Epoch: 6/25... Step: 410... Loss: 1.8882... Val Loss: 2.0417\n",
            "Epoch: 6/25... Step: 420... Loss: 1.8313... Val Loss: 2.0460\n",
            "Epoch: 6/25... Step: 430... Loss: 1.8416... Val Loss: 2.0336\n",
            "Epoch: 6/25... Step: 440... Loss: 1.8482... Val Loss: 2.0228\n",
            "Epoch: 6/25... Step: 450... Loss: 1.8858... Val Loss: 2.0321\n",
            "Epoch: 6/25... Step: 460... Loss: 1.8378... Val Loss: 2.0158\n",
            "Epoch: 7/25... Step: 470... Loss: 1.8544... Val Loss: 1.9922\n",
            "Epoch: 7/25... Step: 480... Loss: 1.8306... Val Loss: 1.9959\n",
            "Epoch: 7/25... Step: 490... Loss: 1.8112... Val Loss: 1.9863\n",
            "Epoch: 7/25... Step: 500... Loss: 1.8107... Val Loss: 2.0040\n",
            "Epoch: 7/25... Step: 510... Loss: 1.8063... Val Loss: 1.9820\n",
            "Epoch: 7/25... Step: 520... Loss: 1.8162... Val Loss: 1.9816\n",
            "Epoch: 7/25... Step: 530... Loss: 1.8163... Val Loss: 1.9666\n",
            "Epoch: 7/25... Step: 540... Loss: 1.8108... Val Loss: 1.9506\n",
            "Epoch: 8/25... Step: 550... Loss: 1.8027... Val Loss: 1.9422\n",
            "Epoch: 8/25... Step: 560... Loss: 1.7699... Val Loss: 1.9425\n",
            "Epoch: 8/25... Step: 570... Loss: 1.7369... Val Loss: 1.9447\n",
            "Epoch: 8/25... Step: 580... Loss: 1.7929... Val Loss: 1.9300\n",
            "Epoch: 8/25... Step: 590... Loss: 1.7699... Val Loss: 1.9352\n",
            "Epoch: 8/25... Step: 600... Loss: 1.7361... Val Loss: 1.9266\n",
            "Epoch: 8/25... Step: 610... Loss: 1.7356... Val Loss: 1.9265\n",
            "Epoch: 8/25... Step: 620... Loss: 1.7376... Val Loss: 1.9074\n",
            "Epoch: 9/25... Step: 630... Loss: 1.7385... Val Loss: 1.9023\n",
            "Epoch: 9/25... Step: 640... Loss: 1.7023... Val Loss: 1.9002\n",
            "Epoch: 9/25... Step: 650... Loss: 1.7056... Val Loss: 1.9041\n",
            "Epoch: 9/25... Step: 660... Loss: 1.7031... Val Loss: 1.9050\n",
            "Epoch: 9/25... Step: 670... Loss: 1.7147... Val Loss: 1.8989\n",
            "Epoch: 9/25... Step: 680... Loss: 1.7024... Val Loss: 1.8913\n",
            "Epoch: 9/25... Step: 690... Loss: 1.6918... Val Loss: 1.8801\n",
            "Epoch: 9/25... Step: 700... Loss: 1.6763... Val Loss: 1.8716\n",
            "Epoch: 10/25... Step: 710... Loss: 1.7123... Val Loss: 1.8706\n",
            "Epoch: 10/25... Step: 720... Loss: 1.6768... Val Loss: 1.8695\n",
            "Epoch: 10/25... Step: 730... Loss: 1.6682... Val Loss: 1.8683\n",
            "Epoch: 10/25... Step: 740... Loss: 1.6384... Val Loss: 1.8720\n",
            "Epoch: 10/25... Step: 750... Loss: 1.6642... Val Loss: 1.8612\n",
            "Epoch: 10/25... Step: 760... Loss: 1.6565... Val Loss: 1.8676\n",
            "Epoch: 10/25... Step: 770... Loss: 1.6435... Val Loss: 1.8516\n",
            "Epoch: 10/25... Step: 780... Loss: 1.6599... Val Loss: 1.8511\n",
            "Epoch: 11/25... Step: 790... Loss: 1.6786... Val Loss: 1.8473\n",
            "Epoch: 11/25... Step: 800... Loss: 1.6502... Val Loss: 1.8454\n",
            "Epoch: 11/25... Step: 810... Loss: 1.5903... Val Loss: 1.8554\n",
            "Epoch: 11/25... Step: 820... Loss: 1.6053... Val Loss: 1.8461\n",
            "Epoch: 11/25... Step: 830... Loss: 1.6052... Val Loss: 1.8380\n",
            "Epoch: 11/25... Step: 840... Loss: 1.6512... Val Loss: 1.8409\n",
            "Epoch: 11/25... Step: 850... Loss: 1.6301... Val Loss: 1.8242\n",
            "Epoch: 12/25... Step: 860... Loss: 1.6366... Val Loss: 1.8142\n",
            "Epoch: 12/25... Step: 870... Loss: 1.5964... Val Loss: 1.8154\n",
            "Epoch: 12/25... Step: 880... Loss: 1.5801... Val Loss: 1.8210\n",
            "Epoch: 12/25... Step: 890... Loss: 1.6085... Val Loss: 1.8212\n",
            "Epoch: 12/25... Step: 900... Loss: 1.5992... Val Loss: 1.8189\n",
            "Epoch: 12/25... Step: 910... Loss: 1.6066... Val Loss: 1.8099\n",
            "Epoch: 12/25... Step: 920... Loss: 1.6209... Val Loss: 1.8104\n",
            "Epoch: 12/25... Step: 930... Loss: 1.6120... Val Loss: 1.8047\n",
            "Epoch: 13/25... Step: 940... Loss: 1.6212... Val Loss: 1.7882\n",
            "Epoch: 13/25... Step: 950... Loss: 1.5808... Val Loss: 1.7985\n",
            "Epoch: 13/25... Step: 960... Loss: 1.5611... Val Loss: 1.8004\n",
            "Epoch: 13/25... Step: 970... Loss: 1.6068... Val Loss: 1.7993\n",
            "Epoch: 13/25... Step: 980... Loss: 1.5999... Val Loss: 1.7918\n",
            "Epoch: 13/25... Step: 990... Loss: 1.5736... Val Loss: 1.7920\n",
            "Epoch: 13/25... Step: 1000... Loss: 1.5714... Val Loss: 1.7899\n",
            "Epoch: 13/25... Step: 1010... Loss: 1.5746... Val Loss: 1.7811\n",
            "Epoch: 14/25... Step: 1020... Loss: 1.5765... Val Loss: 1.7775\n",
            "Epoch: 14/25... Step: 1030... Loss: 1.5346... Val Loss: 1.7784\n",
            "Epoch: 14/25... Step: 1040... Loss: 1.5572... Val Loss: 1.7787\n",
            "Epoch: 14/25... Step: 1050... Loss: 1.5452... Val Loss: 1.7792\n",
            "Epoch: 14/25... Step: 1060... Loss: 1.5652... Val Loss: 1.7762\n",
            "Epoch: 14/25... Step: 1070... Loss: 1.5520... Val Loss: 1.7800\n",
            "Epoch: 14/25... Step: 1080... Loss: 1.5356... Val Loss: 1.7654\n",
            "Epoch: 14/25... Step: 1090... Loss: 1.5280... Val Loss: 1.7634\n",
            "Epoch: 15/25... Step: 1100... Loss: 1.5749... Val Loss: 1.7575\n",
            "Epoch: 15/25... Step: 1110... Loss: 1.5356... Val Loss: 1.7615\n",
            "Epoch: 15/25... Step: 1120... Loss: 1.5154... Val Loss: 1.7651\n",
            "Epoch: 15/25... Step: 1130... Loss: 1.4915... Val Loss: 1.7666\n",
            "Epoch: 15/25... Step: 1140... Loss: 1.5310... Val Loss: 1.7613\n",
            "Epoch: 15/25... Step: 1150... Loss: 1.5161... Val Loss: 1.7525\n",
            "Epoch: 15/25... Step: 1160... Loss: 1.5162... Val Loss: 1.7499\n",
            "Epoch: 15/25... Step: 1170... Loss: 1.5296... Val Loss: 1.7387\n",
            "Epoch: 16/25... Step: 1180... Loss: 1.5440... Val Loss: 1.7485\n",
            "Epoch: 16/25... Step: 1190... Loss: 1.5200... Val Loss: 1.7489\n",
            "Epoch: 16/25... Step: 1200... Loss: 1.4612... Val Loss: 1.7579\n",
            "Epoch: 16/25... Step: 1210... Loss: 1.4793... Val Loss: 1.7459\n",
            "Epoch: 16/25... Step: 1220... Loss: 1.4794... Val Loss: 1.7479\n",
            "Epoch: 16/25... Step: 1230... Loss: 1.5238... Val Loss: 1.7520\n",
            "Epoch: 16/25... Step: 1240... Loss: 1.5057... Val Loss: 1.7400\n",
            "Epoch: 17/25... Step: 1250... Loss: 1.5108... Val Loss: 1.7289\n",
            "Epoch: 17/25... Step: 1260... Loss: 1.4847... Val Loss: 1.7421\n",
            "Epoch: 17/25... Step: 1270... Loss: 1.4639... Val Loss: 1.7402\n",
            "Epoch: 17/25... Step: 1280... Loss: 1.4926... Val Loss: 1.7414\n",
            "Epoch: 17/25... Step: 1290... Loss: 1.4923... Val Loss: 1.7290\n",
            "Epoch: 17/25... Step: 1300... Loss: 1.4902... Val Loss: 1.7314\n",
            "Epoch: 17/25... Step: 1310... Loss: 1.4998... Val Loss: 1.7274\n",
            "Epoch: 17/25... Step: 1320... Loss: 1.5013... Val Loss: 1.7230\n",
            "Epoch: 18/25... Step: 1330... Loss: 1.5302... Val Loss: 1.7132\n",
            "Epoch: 18/25... Step: 1340... Loss: 1.4807... Val Loss: 1.7235\n",
            "Epoch: 18/25... Step: 1350... Loss: 1.4568... Val Loss: 1.7309\n",
            "Epoch: 18/25... Step: 1360... Loss: 1.5066... Val Loss: 1.7319\n",
            "Epoch: 18/25... Step: 1370... Loss: 1.4823... Val Loss: 1.7169\n",
            "Epoch: 18/25... Step: 1380... Loss: 1.4652... Val Loss: 1.7221\n",
            "Epoch: 18/25... Step: 1390... Loss: 1.4686... Val Loss: 1.7175\n",
            "Epoch: 18/25... Step: 1400... Loss: 1.4710... Val Loss: 1.7104\n",
            "Epoch: 19/25... Step: 1410... Loss: 1.4726... Val Loss: 1.7025\n",
            "Epoch: 19/25... Step: 1420... Loss: 1.4362... Val Loss: 1.7090\n",
            "Epoch: 19/25... Step: 1430... Loss: 1.4686... Val Loss: 1.7152\n",
            "Epoch: 19/25... Step: 1440... Loss: 1.4527... Val Loss: 1.7147\n",
            "Epoch: 19/25... Step: 1450... Loss: 1.4739... Val Loss: 1.7088\n",
            "Epoch: 19/25... Step: 1460... Loss: 1.4609... Val Loss: 1.7120\n",
            "Epoch: 19/25... Step: 1470... Loss: 1.4560... Val Loss: 1.7075\n",
            "Epoch: 19/25... Step: 1480... Loss: 1.4390... Val Loss: 1.7014\n",
            "Epoch: 20/25... Step: 1490... Loss: 1.4863... Val Loss: 1.6952\n",
            "Epoch: 20/25... Step: 1500... Loss: 1.4427... Val Loss: 1.7040\n",
            "Epoch: 20/25... Step: 1510... Loss: 1.4313... Val Loss: 1.7091\n",
            "Epoch: 20/25... Step: 1520... Loss: 1.4089... Val Loss: 1.7082\n",
            "Epoch: 20/25... Step: 1530... Loss: 1.4461... Val Loss: 1.6998\n",
            "Epoch: 20/25... Step: 1540... Loss: 1.4453... Val Loss: 1.7012\n",
            "Epoch: 20/25... Step: 1550... Loss: 1.4370... Val Loss: 1.6946\n",
            "Epoch: 20/25... Step: 1560... Loss: 1.4565... Val Loss: 1.6849\n",
            "Epoch: 21/25... Step: 1570... Loss: 1.4612... Val Loss: 1.6819\n",
            "Epoch: 21/25... Step: 1580... Loss: 1.4407... Val Loss: 1.6850\n",
            "Epoch: 21/25... Step: 1590... Loss: 1.3918... Val Loss: 1.6972\n",
            "Epoch: 21/25... Step: 1600... Loss: 1.3961... Val Loss: 1.7032\n",
            "Epoch: 21/25... Step: 1610... Loss: 1.4095... Val Loss: 1.6943\n",
            "Epoch: 21/25... Step: 1620... Loss: 1.4558... Val Loss: 1.7000\n",
            "Epoch: 21/25... Step: 1630... Loss: 1.4270... Val Loss: 1.6968\n",
            "Epoch: 22/25... Step: 1640... Loss: 1.4401... Val Loss: 1.6726\n",
            "Epoch: 22/25... Step: 1650... Loss: 1.4000... Val Loss: 1.6849\n",
            "Epoch: 22/25... Step: 1660... Loss: 1.3886... Val Loss: 1.6844\n",
            "Epoch: 22/25... Step: 1670... Loss: 1.4113... Val Loss: 1.6921\n",
            "Epoch: 22/25... Step: 1680... Loss: 1.4153... Val Loss: 1.6984\n",
            "Epoch: 22/25... Step: 1690... Loss: 1.4209... Val Loss: 1.6841\n",
            "Epoch: 22/25... Step: 1700... Loss: 1.4297... Val Loss: 1.6808\n",
            "Epoch: 22/25... Step: 1710... Loss: 1.4250... Val Loss: 1.6748\n",
            "Epoch: 23/25... Step: 1720... Loss: 1.4446... Val Loss: 1.6711\n",
            "Epoch: 23/25... Step: 1730... Loss: 1.4058... Val Loss: 1.6887\n",
            "Epoch: 23/25... Step: 1740... Loss: 1.3943... Val Loss: 1.6867\n",
            "Epoch: 23/25... Step: 1750... Loss: 1.4334... Val Loss: 1.6913\n",
            "Epoch: 23/25... Step: 1760... Loss: 1.4198... Val Loss: 1.6801\n",
            "Epoch: 23/25... Step: 1770... Loss: 1.4083... Val Loss: 1.6800\n",
            "Epoch: 23/25... Step: 1780... Loss: 1.4027... Val Loss: 1.6723\n",
            "Epoch: 23/25... Step: 1790... Loss: 1.4042... Val Loss: 1.6699\n",
            "Epoch: 24/25... Step: 1800... Loss: 1.4114... Val Loss: 1.6653\n",
            "Epoch: 24/25... Step: 1810... Loss: 1.3694... Val Loss: 1.6810\n",
            "Epoch: 24/25... Step: 1820... Loss: 1.3927... Val Loss: 1.6830\n",
            "Epoch: 24/25... Step: 1830... Loss: 1.3804... Val Loss: 1.6818\n",
            "Epoch: 24/25... Step: 1840... Loss: 1.4013... Val Loss: 1.6711\n",
            "Epoch: 24/25... Step: 1850... Loss: 1.3953... Val Loss: 1.6751\n",
            "Epoch: 24/25... Step: 1860... Loss: 1.3849... Val Loss: 1.6734\n",
            "Epoch: 24/25... Step: 1870... Loss: 1.3741... Val Loss: 1.6633\n",
            "Epoch: 25/25... Step: 1880... Loss: 1.4258... Val Loss: 1.6609\n",
            "Epoch: 25/25... Step: 1890... Loss: 1.3825... Val Loss: 1.6701\n",
            "Epoch: 25/25... Step: 1900... Loss: 1.3679... Val Loss: 1.6739\n",
            "Epoch: 25/25... Step: 1910... Loss: 1.3525... Val Loss: 1.6844\n",
            "Epoch: 25/25... Step: 1920... Loss: 1.3886... Val Loss: 1.6764\n",
            "Epoch: 25/25... Step: 1930... Loss: 1.3866... Val Loss: 1.6703\n",
            "Epoch: 25/25... Step: 1940... Loss: 1.3752... Val Loss: 1.6665\n",
            "Epoch: 25/25... Step: 1950... Loss: 1.3949... Val Loss: 1.6543\n"
          ]
        }
      ],
      "source": [
        "n_seqs, n_steps = 128, 100\n",
        "\n",
        "train(net, encoded, epochs=25, n_seqs=n_seqs, n_steps=n_steps, lr=0.001, cuda=True, print_every=10)"
      ]
    },
    {
      "cell_type": "markdown",
      "metadata": {
        "id": "mhccuWtcoxkF"
      },
      "source": [
        "## Getting the best model\n",
        "\n",
        "To set your hyperparameters to get the best performance, you'll want to watch the training and validation losses. If your training loss is much lower than the validation loss, you're overfitting. Increase regularization (more dropout) or use a smaller network. If the training and validation losses are close, you're underfitting so you can increase the size of the network."
      ]
    },
    {
      "cell_type": "markdown",
      "metadata": {
        "id": "uEGi-zYxoxkG"
      },
      "source": [
        "## Hyperparameters\n",
        "\n",
        "Here are the hyperparameters for the network.\n",
        "\n",
        "In defining the model:\n",
        "* `n_hidden` - The number of units in the hidden layers.\n",
        "* `n_layers` - Number of hidden LSTM layers to use.\n",
        "\n",
        "We assume that dropout probability and learning rate will be kept at the default, in this example.\n",
        "\n",
        "And in training:\n",
        "* `n_seqs` - Number of sequences running through the network in one pass.\n",
        "* `n_steps` - Number of characters in the sequence the network is trained on. Larger is better typically, the network will learn more long range dependencies. But it takes longer to train. 100 is typically a good number here.\n",
        "* `lr` - Learning rate for training\n",
        "\n",
        "Here's some good advice from Andrej Karpathy on training the network. I'm going to copy it in here for your benefit, but also link to [where it originally came from](https://github.com/karpathy/char-rnn#tips-and-tricks).\n",
        "\n",
        "> ## Tips and Tricks\n",
        "\n",
        ">### Monitoring Validation Loss vs. Training Loss\n",
        ">If you're somewhat new to Machine Learning or Neural Networks it can take a bit of expertise to get good models. The most important quantity to keep track of is the difference between your training loss (printed during training) and the validation loss (printed once in a while when the RNN is run on the validation data (by default every 1000 iterations)). In particular:\n",
        "\n",
        "> - If your training loss is much lower than validation loss then this means the network might be **overfitting**. Solutions to this are to decrease your network size, or to increase dropout. For example you could try dropout of 0.5 and so on.\n",
        "> - If your training/validation loss are about equal then your model is **underfitting**. Increase the size of your model (either number of layers or the raw number of neurons per layer)\n",
        "\n",
        "> ### Approximate number of parameters\n",
        "\n",
        "> The two most important parameters that control the model are `n_hidden` and `n_layers`. I would advise that you always use `n_layers` of either 2/3. The `n_hidden` can be adjusted based on how much data you have. The two important quantities to keep track of here are:\n",
        "\n",
        "> - The number of parameters in your model. This is printed when you start training.\n",
        "> - The size of your dataset. 1MB file is approximately 1 million characters.\n",
        "\n",
        ">These two should be about the same order of magnitude. It's a little tricky to tell. Here are some examples:\n",
        "\n",
        "> - I have a 100MB dataset and I'm using the default parameter settings (which currently print 150K parameters). My data size is significantly larger (100 mil >> 0.15 mil), so I expect to heavily underfit. I am thinking I can comfortably afford to make `n_hidden` larger.\n",
        "> - I have a 10MB dataset and running a 10 million parameter model. I'm slightly nervous and I'm carefully monitoring my validation loss. If it's larger than my training loss then I may want to try to increase dropout a bit and see if that helps the validation loss.\n",
        "\n",
        "> ### Best models strategy\n",
        "\n",
        ">The winning strategy to obtaining very good models (if you have the compute time) is to always err on making the network larger (as large as you're willing to wait for it to compute) and then try different dropout values (between 0,1). Whatever model has the best validation performance (the loss, written in the checkpoint filename, low is good) is the one you should use in the end.\n",
        "\n",
        ">It is very common in deep learning to run many different models with many different hyperparameter settings, and in the end take whatever checkpoint gave the best validation performance.\n",
        "\n",
        ">By the way, the size of your training and validation splits are also parameters. Make sure you have a decent amount of data in your validation set or otherwise the validation performance will be noisy and not very informative."
      ]
    },
    {
      "cell_type": "markdown",
      "metadata": {
        "id": "6elJgkwpoxkG"
      },
      "source": [
        "After training, we'll save the model so we can load it again later if we need too. Here I'm saving the parameters needed to create the same architecture, the hidden layer hyperparameters and the text characters."
      ]
    },
    {
      "cell_type": "code",
      "execution_count": 40,
      "metadata": {
        "id": "iBSjOAQ7oxkH"
      },
      "outputs": [],
      "source": [
        "# change the name, for saving multiple files\n",
        "model_name = 'rnn_1_epoch.net'\n",
        "\n",
        "checkpoint = {'n_hidden': net.n_hidden,\n",
        "              'n_layers': net.n_layers,\n",
        "              'state_dict': net.state_dict(),\n",
        "              'tokens': net.chars}\n",
        "\n",
        "with open(model_name, 'wb') as f:\n",
        "    torch.save(checkpoint, f)"
      ]
    },
    {
      "cell_type": "markdown",
      "metadata": {
        "id": "pZRc1MZeoxkH"
      },
      "source": [
        "## Sampling\n",
        "\n",
        "Now that the model is trained, we'll want to sample from it. To sample, we pass in a character and have the network predict the next character. Then we take that character, pass it back in, and get another predicted character. Just keep doing this and you'll generate a bunch of text!\n",
        "\n",
        "### Top K sampling\n",
        "\n",
        "Our predictions come from a categorcial probability distribution over all the possible characters. We can make the sample text and make it more reasonable to handle (with less variables) by only considering some $K$ most probable characters. This will prevent the network from giving us completely absurd characters while allowing it to introduce some noise and randomness into the sampled text.\n",
        "\n",
        "Typically you'll want to prime the network so you can build up a hidden state. Otherwise the network will start out generating characters at random. In general the first bunch of characters will be a little rough since it hasn't built up a long history of characters to predict from."
      ]
    },
    {
      "cell_type": "code",
      "execution_count": 42,
      "metadata": {
        "id": "__7WZYukoxkH"
      },
      "outputs": [],
      "source": [
        "def sample(net, size, prime='The', top_k=None, cuda=False):\n",
        "\n",
        "    if cuda and torch.cuda.is_available():\n",
        "        net.cuda()\n",
        "    else:\n",
        "        net.cpu()\n",
        "\n",
        "    net.eval()\n",
        "\n",
        "    # First off, run through the prime characters\n",
        "    chars = [ch for ch in prime]\n",
        "\n",
        "    h = net.init_hidden(1)\n",
        "\n",
        "    for ch in prime:\n",
        "        char, h = net.predict(ch, h, cuda=cuda, top_k=top_k)\n",
        "\n",
        "    chars.append(char)\n",
        "\n",
        "    # Now pass in the previous character and get a new one\n",
        "    for ii in range(size):\n",
        "\n",
        "        char, h = net.predict(chars[-1], h, cuda=cuda, top_k=top_k)\n",
        "        chars.append(char)\n",
        "\n",
        "    return ''.join(chars)"
      ]
    },
    {
      "cell_type": "code",
      "execution_count": 43,
      "metadata": {
        "colab": {
          "base_uri": "https://localhost:8080/"
        },
        "id": "hamQAVIRoxkI",
        "outputId": "c811868a-d716-4668-8dbe-70c8de6713c3"
      },
      "outputs": [
        {
          "output_type": "stream",
          "name": "stdout",
          "text": [
            "There shall's tro treture tongue.\n",
            "\n",
            "CORIOLANUS:\n",
            "It is no man must seake the stare to hard.\n",
            "We would you then the senerars of thy senering.\n",
            "\n",
            "CORIOLANUS:\n",
            "Then that would be so for me from this castal\n",
            "Of thou where that?\n",
            "\n",
            "PAULINA:\n",
            "I shall not stare it.\n",
            "\n",
            "SICINIUS:\n",
            "How hath he should be teaches.\n",
            "\n",
            "CORIOLANUS:\n",
            "I say this mother ask.\n",
            "\n",
            "Clown:\n",
            "I wear not shall the fair and lies, and this\n",
            "I crown too morrow hence to serve your son,\n",
            "I'll take it so so that thou art thy sheep\n",
            "To both a merianch thought hast misely as\n",
            "All stopping them alive, it's nothing brought\n",
            "And throw as they stooken as that that\n",
            "I'll bear him fellow and my sight,\n",
            "A mistare time are the son and wars the corse.\n",
            "\n",
            "DUKE VINCENTIO:\n",
            "Tribunes is treason of my hands, but he hath, well,\n",
            "I wish the contation and me father.\n",
            "\n",
            "KING EDWARD IV:\n",
            "Nor words and true as are the thing of hand.\n",
            "I speak a sorvow of his commonsting\n",
            "To mean of hargh, by this and word and sir.\n",
            "\n",
            "LADY ANNE:\n",
            "And thou art'st my bed and more,\n",
            "What he was nothing be this field.\n",
            "\n",
            "FLORIZEL:\n",
            "I am so the singer,\n",
            "I were so find to may before his creature,\n",
            "And man the southing of the secold shalone,\n",
            "I am my sentence to the wife thyself;\n",
            "I say, the woold that there is not to thee,\n",
            "And the thoo saw their componity,\n",
            "To morne an enoungest of the wars.\n",
            "In this time of the fall anon his hounds.\n",
            "\n",
            "LADY ANNE:\n",
            "If thou wilt boy thee, think at stain'd and maid\n",
            "Hads they save some for the sentten wars to her,\n",
            "Be any a back and minity, bears a world\n",
            "I will be men, or barish a stire at man,\n",
            "And tell her with his pleasure for the wing;\n",
            "That stands it tender thee at this death:\n",
            "What he is not made her torche and strange,\n",
            "Then would you thrung thy soul, a dourt thou well.\n",
            "\n",
            "DUKE VINCENTIO:\n",
            "And then that I shall seem to some matter, here's\n",
            "to my son, sir:\n",
            "I'll not here to bear a man; and take\n",
            "I have some fount an arty thou wilt show this\n",
            "word of his sent to this since and hell the will.\n",
            "\n",
            "KING EDWARD IV:\n",
            "And I have been thee than the world.\n",
            "\n",
            "CAMILLO:\n",
            "I have so to stay and, and her to-do\n"
          ]
        }
      ],
      "source": [
        "print(sample(net, 2000, prime='The', top_k=5, cuda=True))"
      ]
    },
    {
      "cell_type": "markdown",
      "metadata": {
        "id": "XZy8fG_2oxkI"
      },
      "source": [
        "## Loading a checkpoint"
      ]
    },
    {
      "cell_type": "code",
      "execution_count": 44,
      "metadata": {
        "id": "Q5tiXYNsoxkI",
        "colab": {
          "base_uri": "https://localhost:8080/"
        },
        "outputId": "ae4d7031-dcd6-48dd-cd30-7e03fa631cef"
      },
      "outputs": [
        {
          "output_type": "execute_result",
          "data": {
            "text/plain": [
              "<All keys matched successfully>"
            ]
          },
          "metadata": {},
          "execution_count": 44
        }
      ],
      "source": [
        "# Here we have loaded in a model that trained over 1 epoch `rnn_1_epoch.net`\n",
        "with open('rnn_1_epoch.net', 'rb') as f:\n",
        "    checkpoint = torch.load(f)\n",
        "\n",
        "loaded = CharRNN(checkpoint['tokens'], n_hidden=checkpoint['n_hidden'], n_layers=checkpoint['n_layers'])\n",
        "loaded.load_state_dict(checkpoint['state_dict'])"
      ]
    },
    {
      "cell_type": "code",
      "execution_count": 47,
      "metadata": {
        "id": "NKnUAt_xoxkI",
        "outputId": "8b992c37-f1d0-4444-fdd8-4bd80fe99f98",
        "colab": {
          "base_uri": "https://localhost:8080/"
        }
      },
      "outputs": [
        {
          "output_type": "stream",
          "name": "stdout",
          "text": [
            "And Coriolanus saids to say,\n",
            "And this in most sons, thou art stong out of that art\n",
            "thou they say to heaven, what is he did;\n",
            "And, what is there? who spirs this sour, if you may\n",
            "be hell mine arts.\n",
            "\n",
            "LEONTES:\n",
            "I have been singer thou, what shames their son offence\n",
            "And that have the brother officed words and tide,\n",
            "To sprave a prince and thou attended my fearful,\n",
            "To have them with their house, shall be thee with you,\n",
            "But to the country of your hearts and husband,\n",
            "Who shall be ansight.\n",
            "\n",
            "MENENIUS:\n",
            "How, sir, I will;\n",
            "Thinks that you more stand women thy consent\n",
            "The pride of a tongue when you shall be the souls\n",
            "If he hath some sorrow to her tenter tongue.\n",
            "\n",
            "KING RICHARD II:\n",
            "Well, thou art too far to thee and the wealth\n",
            "Of this banishment, when you shall be the course.\n",
            "\n",
            "DUKE VINCENTIO:\n",
            "No, being terrer an onfer to so friend.\n",
            "\n",
            "LORD WILLOUGHBY:\n",
            "A shors and better him to stath.\n",
            "\n",
            "Citizens:\n",
            "I am great often, what they are the torcher\n",
            "Within my sovereign lost.\n",
            "\n",
            "Second Gentleman:\n",
            "No more, so with him.\n",
            "\n",
            "MENENIUS:\n",
            "Well, I am sit of all the pleasure was haste thee,\n",
            "And we will brave all at the friends are speak.\n",
            "\n",
            "LUCIO:\n",
            "I think then, then?\n",
            "\n",
            "MENENIUS:\n",
            "And I to stay it. What hath not stain my seather will him?\n",
            "\n",
            "CORIOLANUS:\n",
            "He should not say you would hear their batishards;\n",
            "For, servant his honour, and he have seen all\n",
            "As an the sealling state to being steal, the form\n",
            "To bang to thee, which thou which nature beatts,\n",
            "And sone that say the war their book and seeming,\n",
            "Whouge that have been a mother son arough him.\n",
            "\n",
            "DUKE VINCENTIO:\n",
            "What stay that was the way?\n",
            "\n",
            "SICINIUS:\n",
            "A master, take the peace in home, who day, I would\n",
            "be shall not being traitor, but the ceath is so far\n",
            "Was not made hating to the foot, which take\n",
            "Alanys the supper at him, with thought hast\n",
            "Whom who being should them and than the death\n",
            "To the seater tongue true seement to be hope he\n",
            "would have stand'd her blood, the thoughts with thee,\n",
            "All the weet of his cousin, all,\n",
            "With herefal him, to mean to send his see\n",
            "Where he have done thy hands and to the \n"
          ]
        }
      ],
      "source": [
        "# Change cuda to True if you are using GPU!\n",
        "print(sample(loaded, 2000, cuda=True, top_k=5, prime=\"And Coriolanus said\"))"
      ]
    }
  ],
  "metadata": {
    "kernelspec": {
      "display_name": "Python 3",
      "name": "python3"
    },
    "language_info": {
      "codemirror_mode": {
        "name": "ipython",
        "version": 3
      },
      "file_extension": ".py",
      "mimetype": "text/x-python",
      "name": "python",
      "nbconvert_exporter": "python",
      "pygments_lexer": "ipython3",
      "version": "3.6.8"
    },
    "colab": {
      "provenance": [],
      "gpuType": "T4"
    },
    "accelerator": "GPU"
  },
  "nbformat": 4,
  "nbformat_minor": 0
}